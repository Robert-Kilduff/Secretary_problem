{
 "cells": [
  {
   "cell_type": "markdown",
   "id": "a46b7951",
   "metadata": {},
   "source": [
    "# The Secretary Problem"
   ]
  },
  {
   "cell_type": "markdown",
   "id": "864c57db",
   "metadata": {},
   "source": [
    "Faced with N candidates, a secretary must hire pick the best candidate. The secretary however, faces several complications:\n",
    "<ol>\n",
    "    <li> The candidates can only be interviewed one by one </li>\n",
    "    <li> The candidates will be seen in a random order </li>\n",
    "    <li> The candidate must be accepted or rejected immediately </li>\n",
    "    <li> The candidates are only known by their cardinal rank, relative to all other candidates seen before them </li>\n",
    "    <li> If no candidate has been selected by the end of the process, the final is selected</li>"
   ]
  },
  {
   "cell_type": "markdown",
   "id": "891ae6c3",
   "metadata": {},
   "source": [
    "This is quite a conundrum. \n",
    "\n",
    "First of all, the secretary is under a lot of pressure to pick the best candidate, anything less would constitute failure. Furthermore, there is a knowledge gap, whilst a candidate can be reviewed against all prior candidates, there's no knowing how they stand relative to the remaining candidates."
   ]
  },
  {
   "cell_type": "markdown",
   "id": "bd95ea37",
   "metadata": {},
   "source": [
    "Can some maths clarify our position?"
   ]
  },
  {
   "cell_type": "markdown",
   "id": "bade84e1",
   "metadata": {},
   "source": [
    "## Defining the Problem"
   ]
  },
  {
   "cell_type": "markdown",
   "id": "61e7fc49",
   "metadata": {},
   "source": [
    "Our secretary must work around a fundamental knowledge gap and make immediate decisions, with that in mind, is there any grounding that can be used to inform decisions?"
   ]
  },
  {
   "cell_type": "markdown",
   "id": "de0afbc4",
   "metadata": {},
   "source": [
    "##### Arbitrary Decisions"
   ]
  },
  {
   "cell_type": "markdown",
   "id": "e365c049",
   "metadata": {},
   "source": [
    "Consider our pool of candidates, in any given N-length list of candidates, the probability of any given candidate being the best is always P = 1/N. This does not bode well for the secretary hoping to pick a candidate at random."
   ]
  },
  {
   "cell_type": "code",
   "execution_count": 78,
   "id": "e74dcac5",
   "metadata": {
    "tags": [
     "hide-cell"
    ]
   },
   "outputs": [],
   "source": [
    "import matplotlib.pyplot as plt\n",
    "import random"
   ]
  },
  {
   "cell_type": "code",
   "execution_count": 79,
   "id": "4c84bc6e",
   "metadata": {
    "tags": [
     "hide-cell"
    ]
   },
   "outputs": [],
   "source": [
    "def random_strategy(n: int, pool_len: list) -> int:\n",
    "    pc = (1/pool_len)*100\n",
    "    return pc"
   ]
  },
  {
   "cell_type": "code",
   "execution_count": 80,
   "id": "00d03bc1",
   "metadata": {
    "tags": [
     "hide-cell"
    ]
   },
   "outputs": [],
   "source": [
    "percentages = []\n",
    "for i in range(1,101):\n",
    "    result = random_strategy(1, i)\n",
    "    percentages.append(result)"
   ]
  },
  {
   "cell_type": "code",
   "execution_count": 81,
   "id": "9aed31a4",
   "metadata": {
    "scrolled": true,
    "tags": [
     "hide-input"
    ]
   },
   "outputs": [
    {
     "data": {
      "image/png": "[encoded data removed]",
      "text/plain": [
       "<Figure size 432x288 with 1 Axes>"
      ]
     },
     "metadata": {
      "needs_background": "light"
     },
     "output_type": "display_data"
    }
   ],
   "source": [
    "plt.plot(percentages)\n",
    "plt.xlabel(\"Pool Length\")\n",
    "plt.ylabel(\"% Chance of Being Best\")\n",
    "plt.title(\"Chance of Being The Best Applicant For Given Pool Size\");"
   ]
  },
  {
   "cell_type": "markdown",
   "id": "e1d6baa7",
   "metadata": {},
   "source": [
    "Picking the Nth candidate at random is clearly not going to get the best candidate. Surely there are better strategies?"
   ]
  },
  {
   "cell_type": "markdown",
   "id": "21e6a213",
   "metadata": {},
   "source": [
    "## Best of X Strategies"
   ]
  },
  {
   "cell_type": "markdown",
   "id": "8a087927",
   "metadata": {},
   "source": [
    "Assessing a candidate is hard, our secretary only knows their rank relative to previous candidates, not remaining candidates. However, with a bit of inspection we can glean more information:\n",
    "\n",
    "Successive candidates are less and less likely to be the best seen thus far. Whilst it is not impressive for our first candidate to be the best seen so far, it is impressive for the 20th or 100th. \n",
    "\n",
    "The odds are $1/a_{x}$ for given candidate position, our first candidate has 1/1 odds of being the best candidate, our hundredth has 1/100 odds, much more impressive.\n",
    "\n",
    "Armed with this knowledge we can generate a handful of strategies aimed at exploiting this.\n",
    "\n"
   ]
  },
  {
   "cell_type": "markdown",
   "id": "c833beee",
   "metadata": {},
   "source": [
    "#### Best of 2"
   ]
  },
  {
   "cell_type": "markdown",
   "id": "f0f09616",
   "metadata": {},
   "source": [
    "Simply stated, we will pass over our first 'best' candidate and wait until the second time a candidate is ranked better than any previous. \n",
    "\n",
    "Practically speaking, this means skipping the first candidate. In a pool of 100 candidates how often do we find the winner?"
   ]
  },
  {
   "cell_type": "code",
   "execution_count": 82,
   "id": "4ba3b751",
   "metadata": {},
   "outputs": [],
   "source": [
    "def best_of_n(stop, pool_len):\n",
    "    \n",
    "    #generate a pool of candidate, number = ordinal rank, shuffle\n",
    "    \n",
    "    candidate_ord_pool = [i for i in range(0,pool_len)]\n",
    "    random.shuffle(candidate_ord_pool)\n",
    "    \n",
    "    #counting number of candidates \n",
    "    \n",
    "    best_candidate_counter = 0\n",
    "    \n",
    "    # if the candidate rank is less than the rank of any candidate prior then\n",
    "    # add to a counter, \n",
    "    # if the counter is equal to the stop number (our strategy stopping point) then\n",
    "    # return that candidate number, else keep going\n",
    "    # if no best candidate is found by the end of the loop, return the final candidate\n",
    "    \n",
    "    for i in candidate_ord_pool:\n",
    "        \n",
    "        try:\n",
    "            if i <= min(candidate_ord_pool[:candidate_ord_pool.index(i)]):\n",
    "            #if i <= candidate_ord_pool[:candidate_ord_pool.index(i)]:\n",
    "                best_candidate_counter += 1\n",
    "                if best_candidate_counter == stop:\n",
    "                    return i\n",
    "                else:\n",
    "                    pass\n",
    "            else:\n",
    "                pass\n",
    "        except ValueError:\n",
    "            best_candidate_counter += 1\n",
    "    return candidate_ord_pool.index(pool_len -1)\n",
    "\n",
    "    \n",
    "    \n",
    "    \n",
    "    \n",
    "    "
   ]
  },
  {
   "cell_type": "code",
   "execution_count": 83,
   "id": "152134d4",
   "metadata": {},
   "outputs": [],
   "source": [
    "def simulate_strategy(strategy, stop_nr, passes, pool_size):\n",
    "    simulation_list = []\n",
    "    \n",
    "    for i in range(0, passes):\n",
    "        x = strategy(stop = stop_nr, pool_len = pool_size)\n",
    "        simulation_list.append(x)\n",
    "        \n",
    "    plt.hist(simulation_list)\n",
    "    plt.xlabel(\"Candidate Rank\")\n",
    "    plt.ylabel(\"Number of times chosen\")\n",
    "    plt.title(\"Candidate Rank Chosen\");\n",
    "    \n",
    "    success_rate = round((simulation_list.count(0)/len(simulation_list))*100, 2)    \n",
    "    print(f\"Best candidate selected {success_rate}% of the time\")\n",
    "    \n",
    "    return simulation_list, success_rate    \n",
    "    "
   ]
  },
  {
   "cell_type": "code",
   "execution_count": 84,
   "id": "2f1506a1",
   "metadata": {},
   "outputs": [
    {
     "name": "stdout",
     "output_type": "stream",
     "text": [
      "Best candidate selected 5.8% of the time\n"
     ]
    },
    {
     "data": {
      "image/png": "[encoded data removed]",
      "text/plain": [
       "<Figure size 432x288 with 1 Axes>"
      ]
     },
     "metadata": {
      "needs_background": "light"
     },
     "output_type": "display_data"
    }
   ],
   "source": [
    "first = simulate_strategy(best_of_n, stop_nr = 2, passes = 1000, pool_size = 100)"
   ]
  },
  {
   "cell_type": "markdown",
   "id": "7e299c49",
   "metadata": {},
   "source": [
    "At a glance, our success rate with 100 people reaches around 10%, this is much better than with random picking, but still not close to a good approach. Let us demonstrate this strategy one more time, with more granularity."
   ]
  },
  {
   "cell_type": "code",
   "execution_count": 85,
   "id": "1ce7fb88",
   "metadata": {
    "scrolled": false
   },
   "outputs": [
    {
     "name": "stdout",
     "output_type": "stream",
     "text": [
      "Best candidate selected 18.86% of the time\n"
     ]
    },
    {
     "data": {
      "image/png": "[encoded data removed]",
      "text/plain": [
       "<Figure size 432x288 with 1 Axes>"
      ]
     },
     "metadata": {
      "needs_background": "light"
     },
     "output_type": "display_data"
    }
   ],
   "source": [
    "first = simulate_strategy(best_of_n, stop_nr = 4, passes = 10000, pool_size = 100)"
   ]
  },
  {
   "cell_type": "markdown",
   "id": "f8edb796",
   "metadata": {},
   "source": [
    "Ran 10,000 times, we can see a marked improvement, with the best candidate selected nearly 20% of the time from a pool of 100, but as we are about to see, for anything larger this strategy rapidly loses accuracy."
   ]
  },
  {
   "cell_type": "code",
   "execution_count": 86,
   "id": "a15a11e7",
   "metadata": {},
   "outputs": [
    {
     "name": "stdout",
     "output_type": "stream",
     "text": [
      "Best candidate selected 1.6% of the time\n"
     ]
    },
    {
     "data": {
      "image/png": "[encoded data removed]",
      "text/plain": [
       "<Figure size 432x288 with 1 Axes>"
      ]
     },
     "metadata": {
      "needs_background": "light"
     },
     "output_type": "display_data"
    }
   ],
   "source": [
    "third = simulate_strategy(best_of_n, stop_nr = 4, passes = 10000, pool_size = 10000)"
   ]
  },
  {
   "cell_type": "markdown",
   "id": "6c6c261c",
   "metadata": {},
   "source": [
    "With a pool size of 10,000 ran 10,000 times, we can see the best candidate was selected only 1.48% of the time! This approach will surely cause problems for our secretary."
   ]
  },
  {
   "cell_type": "markdown",
   "id": "4b33a466",
   "metadata": {},
   "source": [
    "#### Takeaways "
   ]
  },
  {
   "cell_type": "markdown",
   "id": "c2fa0a52",
   "metadata": {},
   "source": [
    "It certainly is possible to tweak our 'best of x' strategy to get passable results - certainly better than randomly picking,but in fine tuning this approach we run into a major concern: <b>scaleability</b>, for candidate pools of small sizes, being too selective is detimental, meanwhile at larger candidate pool sizes we must stop at some further 'best' candidate.\n",
    "\n",
    "Armed with this knowledge, let us look at competing variants of this strategy across scaling candidate pools."
   ]
  },
  {
   "cell_type": "code",
   "execution_count": 87,
   "id": "46d6cc13",
   "metadata": {},
   "outputs": [
    {
     "ename": "IndentationError",
     "evalue": "expected an indented block (3616041218.py, line 5)",
     "output_type": "error",
     "traceback": [
      "\u001b[1;36m  Input \u001b[1;32mIn [87]\u001b[1;36m\u001b[0m\n\u001b[1;33m    #\u001b[0m\n\u001b[1;37m     ^\u001b[0m\n\u001b[1;31mIndentationError\u001b[0m\u001b[1;31m:\u001b[0m expected an indented block\n"
     ]
    }
   ],
   "source": [
    "def run_strategy_different_lens(stops_start: int, pool_len_start: int, passes: int, strategy_function):\n",
    "    #create a range from stops\n",
    "    #create a range from pool len\n",
    "    results = {}\n",
    "    for i in passes:\n",
    "        y = simulate_strategy(strategy = best_of_n, stop_nr = stops_start, passes = passes, pool_size = pool_len_start)\n",
    "        x = {'name': stops_start, 'results': y[0], 'percentage': y[1]}\n",
    "        results.update(x)\n",
    "        \n",
    "        \n",
    "        \n",
    "        \n",
    "        \n",
    "    #\n",
    "    #"
   ]
  },
  {
   "cell_type": "code",
   "execution_count": 76,
   "id": "8aa03ba1",
   "metadata": {},
   "outputs": [],
   "source": [
    "import matplotlib.pyplot as plt\n",
    "\n",
    "def test_strategy1(max_pool_len, stop):\n",
    "    best_candidates = []\n",
    "    for pool_len in range(1, max_pool_len + 1):\n",
    "        best_candidate = best_of_n(stop, pool_len)\n",
    "        best_candidates.append(best_candidate)\n",
    "    plt.plot(best_candidates)\n",
    "    plt.xlabel('Pool Length')\n",
    "    plt.ylabel('Number of Times Best Candidate Was Chosen')\n",
    "    plt.title('Secretary Problem Strategy Test')\n",
    "    plt.show()"
   ]
  },
  {
   "cell_type": "code",
   "execution_count": 66,
   "id": "25fff53b",
   "metadata": {},
   "outputs": [],
   "source": [
    "def run_best_of_n_for_different_pool_lens(stops: int, pool_len, trials, best_of_n_func):\n",
    "    # Initialize counters for the number of times the best candidate is chosen and the total number of trials\n",
    "    best_candidate_count = [0] * len(stops)\n",
    "    total_trials = 0\n",
    "    stops = range(1,10,1)\n",
    "    # Run the strategy for different stopping points\n",
    "    for j in range(trials):\n",
    "        for i, stop in enumerate(stops):\n",
    "            candidate_ord_pool = list(range(pool_len))\n",
    "            random.shuffle(candidate_ord_pool)\n",
    "            if best_of_n_func(stop, candidate_ord_pool):\n",
    "                best_candidate_count[i] += 1\n",
    "            total_trials += 1\n",
    "            \n",
    "    for i in stops:\n",
    "        best_of_n_func()\n",
    "\n",
    "    # Compute the percentage of times the best candidate was chosen\n",
    "    best_candidate_percentage = [100 * count / total_trials for count in best_candidate_count]\n",
    "\n",
    "    # Create the interactive graph\n",
    "    fig = make_subplots()\n",
    "    fig.add_trace(go.Bar(x=stops, y=best_candidate_count, name='Count of best candidates'))\n",
    "    fig.add_trace(go.Scatter(x=stops, y=best_candidate_percentage, name='Percentage of times the best candidate was chosen'))\n",
    "    fig.update_layout(title='Best Candidate Count and Percentage for Different Pool Lengths and Stopping Points',\n",
    "                      xaxis_title='Stopping Point',\n",
    "                      yaxis_title='Best Candidate Count',\n",
    "                      yaxis2=dict(title='Percentage', overlaying='y', side='right'))\n",
    "    fig.show()\n"
   ]
  },
  {
   "cell_type": "code",
   "execution_count": 69,
   "id": "764b09da",
   "metadata": {
    "scrolled": true
   },
   "outputs": [
    {
     "data": {
      "application/vnd.jupyter.widget-view+json": {
       "model_id": "b29b8ae917544f56a97895bde16dfeec",
       "version_major": 2,
       "version_minor": 0
      },
      "text/plain": [
       "IntSlider(value=10, description='Pool Len:', max=60, min=10, step=10)"
      ]
     },
     "metadata": {},
     "output_type": "display_data"
    },
    {
     "data": {
      "application/vnd.jupyter.widget-view+json": {
       "model_id": "28de4dd431314f5083d5fbbbb5010414",
       "version_major": 2,
       "version_minor": 0
      },
      "text/plain": [
       "Button(description='Run Simulation', style=ButtonStyle())"
      ]
     },
     "metadata": {},
     "output_type": "display_data"
    },
    {
     "ename": "TypeError",
     "evalue": "'list' object cannot be interpreted as an integer",
     "output_type": "error",
     "traceback": [
      "\u001b[1;31m---------------------------------------------------------------------------\u001b[0m",
      "\u001b[1;31mTypeError\u001b[0m                                 Traceback (most recent call last)",
      "Input \u001b[1;32mIn [69]\u001b[0m, in \u001b[0;36mrun_simulation\u001b[1;34m(btn)\u001b[0m\n\u001b[0;32m      9\u001b[0m \u001b[38;5;28;01mdef\u001b[39;00m \u001b[38;5;21mrun_simulation\u001b[39m(btn):\n\u001b[1;32m---> 10\u001b[0m     \u001b[43mrun_best_of_n_for_different_pool_lens\u001b[49m\u001b[43m(\u001b[49m\u001b[43mstop_values\u001b[49m\u001b[43m,\u001b[49m\u001b[43m \u001b[49m\u001b[43mpool_len_slider\u001b[49m\u001b[38;5;241;43m.\u001b[39;49m\u001b[43mvalue\u001b[49m\u001b[43m,\u001b[49m\u001b[43m \u001b[49m\u001b[43mtrials\u001b[49m\u001b[43m,\u001b[49m\u001b[43m \u001b[49m\u001b[43mbest_of_n_func\u001b[49m\u001b[43m)\u001b[49m\n",
      "Input \u001b[1;32mIn [66]\u001b[0m, in \u001b[0;36mrun_best_of_n_for_different_pool_lens\u001b[1;34m(stops, pool_len, trials, best_of_n_func)\u001b[0m\n\u001b[0;32m      9\u001b[0m candidate_ord_pool \u001b[38;5;241m=\u001b[39m \u001b[38;5;28mlist\u001b[39m(\u001b[38;5;28mrange\u001b[39m(pool_len))\n\u001b[0;32m     10\u001b[0m random\u001b[38;5;241m.\u001b[39mshuffle(candidate_ord_pool)\n\u001b[1;32m---> 11\u001b[0m \u001b[38;5;28;01mif\u001b[39;00m \u001b[43mbest_of_n_func\u001b[49m\u001b[43m(\u001b[49m\u001b[43mstop\u001b[49m\u001b[43m,\u001b[49m\u001b[43m \u001b[49m\u001b[43mcandidate_ord_pool\u001b[49m\u001b[43m)\u001b[49m:\n\u001b[0;32m     12\u001b[0m     best_candidate_count[i] \u001b[38;5;241m+\u001b[39m\u001b[38;5;241m=\u001b[39m \u001b[38;5;241m1\u001b[39m\n\u001b[0;32m     13\u001b[0m total_trials \u001b[38;5;241m+\u001b[39m\u001b[38;5;241m=\u001b[39m \u001b[38;5;241m1\u001b[39m\n",
      "Input \u001b[1;32mIn [57]\u001b[0m, in \u001b[0;36mbest_of_n\u001b[1;34m(stop, pool_len)\u001b[0m\n\u001b[0;32m     59\u001b[0m \u001b[38;5;28;01mdef\u001b[39;00m \u001b[38;5;21mbest_of_n\u001b[39m(stop, pool_len):\n\u001b[0;32m     60\u001b[0m     \u001b[38;5;66;03m# Generate a pool of candidates with random order\u001b[39;00m\n\u001b[1;32m---> 61\u001b[0m     candidate_ord_pool \u001b[38;5;241m=\u001b[39m \u001b[38;5;28mlist\u001b[39m(\u001b[38;5;28;43mrange\u001b[39;49m\u001b[43m(\u001b[49m\u001b[43mpool_len\u001b[49m\u001b[43m)\u001b[49m)\n\u001b[0;32m     62\u001b[0m     random\u001b[38;5;241m.\u001b[39mshuffle(candidate_ord_pool)\n\u001b[0;32m     64\u001b[0m     \u001b[38;5;66;03m# Run the strategy to choose the best candidate\u001b[39;00m\n",
      "\u001b[1;31mTypeError\u001b[0m: 'list' object cannot be interpreted as an integer"
     ]
    },
    {
     "ename": "TypeError",
     "evalue": "'list' object cannot be interpreted as an integer",
     "output_type": "error",
     "traceback": [
      "\u001b[1;31m---------------------------------------------------------------------------\u001b[0m",
      "\u001b[1;31mTypeError\u001b[0m                                 Traceback (most recent call last)",
      "Input \u001b[1;32mIn [69]\u001b[0m, in \u001b[0;36mrun_simulation\u001b[1;34m(btn)\u001b[0m\n\u001b[0;32m      9\u001b[0m \u001b[38;5;28;01mdef\u001b[39;00m \u001b[38;5;21mrun_simulation\u001b[39m(btn):\n\u001b[1;32m---> 10\u001b[0m     \u001b[43mrun_best_of_n_for_different_pool_lens\u001b[49m\u001b[43m(\u001b[49m\u001b[43mstop_values\u001b[49m\u001b[43m,\u001b[49m\u001b[43m \u001b[49m\u001b[43mpool_len_slider\u001b[49m\u001b[38;5;241;43m.\u001b[39;49m\u001b[43mvalue\u001b[49m\u001b[43m,\u001b[49m\u001b[43m \u001b[49m\u001b[43mtrials\u001b[49m\u001b[43m,\u001b[49m\u001b[43m \u001b[49m\u001b[43mbest_of_n_func\u001b[49m\u001b[43m)\u001b[49m\n",
      "Input \u001b[1;32mIn [66]\u001b[0m, in \u001b[0;36mrun_best_of_n_for_different_pool_lens\u001b[1;34m(stops, pool_len, trials, best_of_n_func)\u001b[0m\n\u001b[0;32m      9\u001b[0m candidate_ord_pool \u001b[38;5;241m=\u001b[39m \u001b[38;5;28mlist\u001b[39m(\u001b[38;5;28mrange\u001b[39m(pool_len))\n\u001b[0;32m     10\u001b[0m random\u001b[38;5;241m.\u001b[39mshuffle(candidate_ord_pool)\n\u001b[1;32m---> 11\u001b[0m \u001b[38;5;28;01mif\u001b[39;00m \u001b[43mbest_of_n_func\u001b[49m\u001b[43m(\u001b[49m\u001b[43mstop\u001b[49m\u001b[43m,\u001b[49m\u001b[43m \u001b[49m\u001b[43mcandidate_ord_pool\u001b[49m\u001b[43m)\u001b[49m:\n\u001b[0;32m     12\u001b[0m     best_candidate_count[i] \u001b[38;5;241m+\u001b[39m\u001b[38;5;241m=\u001b[39m \u001b[38;5;241m1\u001b[39m\n\u001b[0;32m     13\u001b[0m total_trials \u001b[38;5;241m+\u001b[39m\u001b[38;5;241m=\u001b[39m \u001b[38;5;241m1\u001b[39m\n",
      "Input \u001b[1;32mIn [57]\u001b[0m, in \u001b[0;36mbest_of_n\u001b[1;34m(stop, pool_len)\u001b[0m\n\u001b[0;32m     59\u001b[0m \u001b[38;5;28;01mdef\u001b[39;00m \u001b[38;5;21mbest_of_n\u001b[39m(stop, pool_len):\n\u001b[0;32m     60\u001b[0m     \u001b[38;5;66;03m# Generate a pool of candidates with random order\u001b[39;00m\n\u001b[1;32m---> 61\u001b[0m     candidate_ord_pool \u001b[38;5;241m=\u001b[39m \u001b[38;5;28mlist\u001b[39m(\u001b[38;5;28;43mrange\u001b[39;49m\u001b[43m(\u001b[49m\u001b[43mpool_len\u001b[49m\u001b[43m)\u001b[49m)\n\u001b[0;32m     62\u001b[0m     random\u001b[38;5;241m.\u001b[39mshuffle(candidate_ord_pool)\n\u001b[0;32m     64\u001b[0m     \u001b[38;5;66;03m# Run the strategy to choose the best candidate\u001b[39;00m\n",
      "\u001b[1;31mTypeError\u001b[0m: 'list' object cannot be interpreted as an integer"
     ]
    },
    {
     "ename": "TypeError",
     "evalue": "'list' object cannot be interpreted as an integer",
     "output_type": "error",
     "traceback": [
      "\u001b[1;31m---------------------------------------------------------------------------\u001b[0m",
      "\u001b[1;31mTypeError\u001b[0m                                 Traceback (most recent call last)",
      "Input \u001b[1;32mIn [69]\u001b[0m, in \u001b[0;36mrun_simulation\u001b[1;34m(btn)\u001b[0m\n\u001b[0;32m      9\u001b[0m \u001b[38;5;28;01mdef\u001b[39;00m \u001b[38;5;21mrun_simulation\u001b[39m(btn):\n\u001b[1;32m---> 10\u001b[0m     \u001b[43mrun_best_of_n_for_different_pool_lens\u001b[49m\u001b[43m(\u001b[49m\u001b[43mstop_values\u001b[49m\u001b[43m,\u001b[49m\u001b[43m \u001b[49m\u001b[43mpool_len_slider\u001b[49m\u001b[38;5;241;43m.\u001b[39;49m\u001b[43mvalue\u001b[49m\u001b[43m,\u001b[49m\u001b[43m \u001b[49m\u001b[43mtrials\u001b[49m\u001b[43m,\u001b[49m\u001b[43m \u001b[49m\u001b[43mbest_of_n_func\u001b[49m\u001b[43m)\u001b[49m\n",
      "Input \u001b[1;32mIn [66]\u001b[0m, in \u001b[0;36mrun_best_of_n_for_different_pool_lens\u001b[1;34m(stops, pool_len, trials, best_of_n_func)\u001b[0m\n\u001b[0;32m      9\u001b[0m candidate_ord_pool \u001b[38;5;241m=\u001b[39m \u001b[38;5;28mlist\u001b[39m(\u001b[38;5;28mrange\u001b[39m(pool_len))\n\u001b[0;32m     10\u001b[0m random\u001b[38;5;241m.\u001b[39mshuffle(candidate_ord_pool)\n\u001b[1;32m---> 11\u001b[0m \u001b[38;5;28;01mif\u001b[39;00m \u001b[43mbest_of_n_func\u001b[49m\u001b[43m(\u001b[49m\u001b[43mstop\u001b[49m\u001b[43m,\u001b[49m\u001b[43m \u001b[49m\u001b[43mcandidate_ord_pool\u001b[49m\u001b[43m)\u001b[49m:\n\u001b[0;32m     12\u001b[0m     best_candidate_count[i] \u001b[38;5;241m+\u001b[39m\u001b[38;5;241m=\u001b[39m \u001b[38;5;241m1\u001b[39m\n\u001b[0;32m     13\u001b[0m total_trials \u001b[38;5;241m+\u001b[39m\u001b[38;5;241m=\u001b[39m \u001b[38;5;241m1\u001b[39m\n",
      "Input \u001b[1;32mIn [57]\u001b[0m, in \u001b[0;36mbest_of_n\u001b[1;34m(stop, pool_len)\u001b[0m\n\u001b[0;32m     59\u001b[0m \u001b[38;5;28;01mdef\u001b[39;00m \u001b[38;5;21mbest_of_n\u001b[39m(stop, pool_len):\n\u001b[0;32m     60\u001b[0m     \u001b[38;5;66;03m# Generate a pool of candidates with random order\u001b[39;00m\n\u001b[1;32m---> 61\u001b[0m     candidate_ord_pool \u001b[38;5;241m=\u001b[39m \u001b[38;5;28mlist\u001b[39m(\u001b[38;5;28;43mrange\u001b[39;49m\u001b[43m(\u001b[49m\u001b[43mpool_len\u001b[49m\u001b[43m)\u001b[49m)\n\u001b[0;32m     62\u001b[0m     random\u001b[38;5;241m.\u001b[39mshuffle(candidate_ord_pool)\n\u001b[0;32m     64\u001b[0m     \u001b[38;5;66;03m# Run the strategy to choose the best candidate\u001b[39;00m\n",
      "\u001b[1;31mTypeError\u001b[0m: 'list' object cannot be interpreted as an integer"
     ]
    },
    {
     "ename": "TypeError",
     "evalue": "'list' object cannot be interpreted as an integer",
     "output_type": "error",
     "traceback": [
      "\u001b[1;31m---------------------------------------------------------------------------\u001b[0m",
      "\u001b[1;31mTypeError\u001b[0m                                 Traceback (most recent call last)",
      "Input \u001b[1;32mIn [69]\u001b[0m, in \u001b[0;36mrun_simulation\u001b[1;34m(btn)\u001b[0m\n\u001b[0;32m      9\u001b[0m \u001b[38;5;28;01mdef\u001b[39;00m \u001b[38;5;21mrun_simulation\u001b[39m(btn):\n\u001b[1;32m---> 10\u001b[0m     \u001b[43mrun_best_of_n_for_different_pool_lens\u001b[49m\u001b[43m(\u001b[49m\u001b[43mstop_values\u001b[49m\u001b[43m,\u001b[49m\u001b[43m \u001b[49m\u001b[43mpool_len_slider\u001b[49m\u001b[38;5;241;43m.\u001b[39;49m\u001b[43mvalue\u001b[49m\u001b[43m,\u001b[49m\u001b[43m \u001b[49m\u001b[43mtrials\u001b[49m\u001b[43m,\u001b[49m\u001b[43m \u001b[49m\u001b[43mbest_of_n_func\u001b[49m\u001b[43m)\u001b[49m\n",
      "Input \u001b[1;32mIn [66]\u001b[0m, in \u001b[0;36mrun_best_of_n_for_different_pool_lens\u001b[1;34m(stops, pool_len, trials, best_of_n_func)\u001b[0m\n\u001b[0;32m      9\u001b[0m candidate_ord_pool \u001b[38;5;241m=\u001b[39m \u001b[38;5;28mlist\u001b[39m(\u001b[38;5;28mrange\u001b[39m(pool_len))\n\u001b[0;32m     10\u001b[0m random\u001b[38;5;241m.\u001b[39mshuffle(candidate_ord_pool)\n\u001b[1;32m---> 11\u001b[0m \u001b[38;5;28;01mif\u001b[39;00m \u001b[43mbest_of_n_func\u001b[49m\u001b[43m(\u001b[49m\u001b[43mstop\u001b[49m\u001b[43m,\u001b[49m\u001b[43m \u001b[49m\u001b[43mcandidate_ord_pool\u001b[49m\u001b[43m)\u001b[49m:\n\u001b[0;32m     12\u001b[0m     best_candidate_count[i] \u001b[38;5;241m+\u001b[39m\u001b[38;5;241m=\u001b[39m \u001b[38;5;241m1\u001b[39m\n\u001b[0;32m     13\u001b[0m total_trials \u001b[38;5;241m+\u001b[39m\u001b[38;5;241m=\u001b[39m \u001b[38;5;241m1\u001b[39m\n",
      "Input \u001b[1;32mIn [57]\u001b[0m, in \u001b[0;36mbest_of_n\u001b[1;34m(stop, pool_len)\u001b[0m\n\u001b[0;32m     59\u001b[0m \u001b[38;5;28;01mdef\u001b[39;00m \u001b[38;5;21mbest_of_n\u001b[39m(stop, pool_len):\n\u001b[0;32m     60\u001b[0m     \u001b[38;5;66;03m# Generate a pool of candidates with random order\u001b[39;00m\n\u001b[1;32m---> 61\u001b[0m     candidate_ord_pool \u001b[38;5;241m=\u001b[39m \u001b[38;5;28mlist\u001b[39m(\u001b[38;5;28;43mrange\u001b[39;49m\u001b[43m(\u001b[49m\u001b[43mpool_len\u001b[49m\u001b[43m)\u001b[49m)\n\u001b[0;32m     62\u001b[0m     random\u001b[38;5;241m.\u001b[39mshuffle(candidate_ord_pool)\n\u001b[0;32m     64\u001b[0m     \u001b[38;5;66;03m# Run the strategy to choose the best candidate\u001b[39;00m\n",
      "\u001b[1;31mTypeError\u001b[0m: 'list' object cannot be interpreted as an integer"
     ]
    },
    {
     "ename": "TypeError",
     "evalue": "'list' object cannot be interpreted as an integer",
     "output_type": "error",
     "traceback": [
      "\u001b[1;31m---------------------------------------------------------------------------\u001b[0m",
      "\u001b[1;31mTypeError\u001b[0m                                 Traceback (most recent call last)",
      "Input \u001b[1;32mIn [69]\u001b[0m, in \u001b[0;36mrun_simulation\u001b[1;34m(btn)\u001b[0m\n\u001b[0;32m      9\u001b[0m \u001b[38;5;28;01mdef\u001b[39;00m \u001b[38;5;21mrun_simulation\u001b[39m(btn):\n\u001b[1;32m---> 10\u001b[0m     \u001b[43mrun_best_of_n_for_different_pool_lens\u001b[49m\u001b[43m(\u001b[49m\u001b[43mstop_values\u001b[49m\u001b[43m,\u001b[49m\u001b[43m \u001b[49m\u001b[43mpool_len_slider\u001b[49m\u001b[38;5;241;43m.\u001b[39;49m\u001b[43mvalue\u001b[49m\u001b[43m,\u001b[49m\u001b[43m \u001b[49m\u001b[43mtrials\u001b[49m\u001b[43m,\u001b[49m\u001b[43m \u001b[49m\u001b[43mbest_of_n_func\u001b[49m\u001b[43m)\u001b[49m\n",
      "Input \u001b[1;32mIn [66]\u001b[0m, in \u001b[0;36mrun_best_of_n_for_different_pool_lens\u001b[1;34m(stops, pool_len, trials, best_of_n_func)\u001b[0m\n\u001b[0;32m      9\u001b[0m candidate_ord_pool \u001b[38;5;241m=\u001b[39m \u001b[38;5;28mlist\u001b[39m(\u001b[38;5;28mrange\u001b[39m(pool_len))\n\u001b[0;32m     10\u001b[0m random\u001b[38;5;241m.\u001b[39mshuffle(candidate_ord_pool)\n\u001b[1;32m---> 11\u001b[0m \u001b[38;5;28;01mif\u001b[39;00m \u001b[43mbest_of_n_func\u001b[49m\u001b[43m(\u001b[49m\u001b[43mstop\u001b[49m\u001b[43m,\u001b[49m\u001b[43m \u001b[49m\u001b[43mcandidate_ord_pool\u001b[49m\u001b[43m)\u001b[49m:\n\u001b[0;32m     12\u001b[0m     best_candidate_count[i] \u001b[38;5;241m+\u001b[39m\u001b[38;5;241m=\u001b[39m \u001b[38;5;241m1\u001b[39m\n\u001b[0;32m     13\u001b[0m total_trials \u001b[38;5;241m+\u001b[39m\u001b[38;5;241m=\u001b[39m \u001b[38;5;241m1\u001b[39m\n",
      "Input \u001b[1;32mIn [57]\u001b[0m, in \u001b[0;36mbest_of_n\u001b[1;34m(stop, pool_len)\u001b[0m\n\u001b[0;32m     59\u001b[0m \u001b[38;5;28;01mdef\u001b[39;00m \u001b[38;5;21mbest_of_n\u001b[39m(stop, pool_len):\n\u001b[0;32m     60\u001b[0m     \u001b[38;5;66;03m# Generate a pool of candidates with random order\u001b[39;00m\n\u001b[1;32m---> 61\u001b[0m     candidate_ord_pool \u001b[38;5;241m=\u001b[39m \u001b[38;5;28mlist\u001b[39m(\u001b[38;5;28;43mrange\u001b[39;49m\u001b[43m(\u001b[49m\u001b[43mpool_len\u001b[49m\u001b[43m)\u001b[49m)\n\u001b[0;32m     62\u001b[0m     random\u001b[38;5;241m.\u001b[39mshuffle(candidate_ord_pool)\n\u001b[0;32m     64\u001b[0m     \u001b[38;5;66;03m# Run the strategy to choose the best candidate\u001b[39;00m\n",
      "\u001b[1;31mTypeError\u001b[0m: 'list' object cannot be interpreted as an integer"
     ]
    },
    {
     "ename": "TypeError",
     "evalue": "'list' object cannot be interpreted as an integer",
     "output_type": "error",
     "traceback": [
      "\u001b[1;31m---------------------------------------------------------------------------\u001b[0m",
      "\u001b[1;31mTypeError\u001b[0m                                 Traceback (most recent call last)",
      "Input \u001b[1;32mIn [69]\u001b[0m, in \u001b[0;36mrun_simulation\u001b[1;34m(btn)\u001b[0m\n\u001b[0;32m      9\u001b[0m \u001b[38;5;28;01mdef\u001b[39;00m \u001b[38;5;21mrun_simulation\u001b[39m(btn):\n\u001b[1;32m---> 10\u001b[0m     \u001b[43mrun_best_of_n_for_different_pool_lens\u001b[49m\u001b[43m(\u001b[49m\u001b[43mstop_values\u001b[49m\u001b[43m,\u001b[49m\u001b[43m \u001b[49m\u001b[43mpool_len_slider\u001b[49m\u001b[38;5;241;43m.\u001b[39;49m\u001b[43mvalue\u001b[49m\u001b[43m,\u001b[49m\u001b[43m \u001b[49m\u001b[43mtrials\u001b[49m\u001b[43m,\u001b[49m\u001b[43m \u001b[49m\u001b[43mbest_of_n_func\u001b[49m\u001b[43m)\u001b[49m\n",
      "Input \u001b[1;32mIn [66]\u001b[0m, in \u001b[0;36mrun_best_of_n_for_different_pool_lens\u001b[1;34m(stops, pool_len, trials, best_of_n_func)\u001b[0m\n\u001b[0;32m      9\u001b[0m candidate_ord_pool \u001b[38;5;241m=\u001b[39m \u001b[38;5;28mlist\u001b[39m(\u001b[38;5;28mrange\u001b[39m(pool_len))\n\u001b[0;32m     10\u001b[0m random\u001b[38;5;241m.\u001b[39mshuffle(candidate_ord_pool)\n\u001b[1;32m---> 11\u001b[0m \u001b[38;5;28;01mif\u001b[39;00m \u001b[43mbest_of_n_func\u001b[49m\u001b[43m(\u001b[49m\u001b[43mstop\u001b[49m\u001b[43m,\u001b[49m\u001b[43m \u001b[49m\u001b[43mcandidate_ord_pool\u001b[49m\u001b[43m)\u001b[49m:\n\u001b[0;32m     12\u001b[0m     best_candidate_count[i] \u001b[38;5;241m+\u001b[39m\u001b[38;5;241m=\u001b[39m \u001b[38;5;241m1\u001b[39m\n\u001b[0;32m     13\u001b[0m total_trials \u001b[38;5;241m+\u001b[39m\u001b[38;5;241m=\u001b[39m \u001b[38;5;241m1\u001b[39m\n",
      "Input \u001b[1;32mIn [57]\u001b[0m, in \u001b[0;36mbest_of_n\u001b[1;34m(stop, pool_len)\u001b[0m\n\u001b[0;32m     59\u001b[0m \u001b[38;5;28;01mdef\u001b[39;00m \u001b[38;5;21mbest_of_n\u001b[39m(stop, pool_len):\n\u001b[0;32m     60\u001b[0m     \u001b[38;5;66;03m# Generate a pool of candidates with random order\u001b[39;00m\n\u001b[1;32m---> 61\u001b[0m     candidate_ord_pool \u001b[38;5;241m=\u001b[39m \u001b[38;5;28mlist\u001b[39m(\u001b[38;5;28;43mrange\u001b[39;49m\u001b[43m(\u001b[49m\u001b[43mpool_len\u001b[49m\u001b[43m)\u001b[49m)\n\u001b[0;32m     62\u001b[0m     random\u001b[38;5;241m.\u001b[39mshuffle(candidate_ord_pool)\n\u001b[0;32m     64\u001b[0m     \u001b[38;5;66;03m# Run the strategy to choose the best candidate\u001b[39;00m\n",
      "\u001b[1;31mTypeError\u001b[0m: 'list' object cannot be interpreted as an integer"
     ]
    },
    {
     "ename": "TypeError",
     "evalue": "'list' object cannot be interpreted as an integer",
     "output_type": "error",
     "traceback": [
      "\u001b[1;31m---------------------------------------------------------------------------\u001b[0m",
      "\u001b[1;31mTypeError\u001b[0m                                 Traceback (most recent call last)",
      "Input \u001b[1;32mIn [69]\u001b[0m, in \u001b[0;36mrun_simulation\u001b[1;34m(btn)\u001b[0m\n\u001b[0;32m      9\u001b[0m \u001b[38;5;28;01mdef\u001b[39;00m \u001b[38;5;21mrun_simulation\u001b[39m(btn):\n\u001b[1;32m---> 10\u001b[0m     \u001b[43mrun_best_of_n_for_different_pool_lens\u001b[49m\u001b[43m(\u001b[49m\u001b[43mstop_values\u001b[49m\u001b[43m,\u001b[49m\u001b[43m \u001b[49m\u001b[43mpool_len_slider\u001b[49m\u001b[38;5;241;43m.\u001b[39;49m\u001b[43mvalue\u001b[49m\u001b[43m,\u001b[49m\u001b[43m \u001b[49m\u001b[43mtrials\u001b[49m\u001b[43m,\u001b[49m\u001b[43m \u001b[49m\u001b[43mbest_of_n_func\u001b[49m\u001b[43m)\u001b[49m\n",
      "Input \u001b[1;32mIn [66]\u001b[0m, in \u001b[0;36mrun_best_of_n_for_different_pool_lens\u001b[1;34m(stops, pool_len, trials, best_of_n_func)\u001b[0m\n\u001b[0;32m      9\u001b[0m candidate_ord_pool \u001b[38;5;241m=\u001b[39m \u001b[38;5;28mlist\u001b[39m(\u001b[38;5;28mrange\u001b[39m(pool_len))\n\u001b[0;32m     10\u001b[0m random\u001b[38;5;241m.\u001b[39mshuffle(candidate_ord_pool)\n\u001b[1;32m---> 11\u001b[0m \u001b[38;5;28;01mif\u001b[39;00m \u001b[43mbest_of_n_func\u001b[49m\u001b[43m(\u001b[49m\u001b[43mstop\u001b[49m\u001b[43m,\u001b[49m\u001b[43m \u001b[49m\u001b[43mcandidate_ord_pool\u001b[49m\u001b[43m)\u001b[49m:\n\u001b[0;32m     12\u001b[0m     best_candidate_count[i] \u001b[38;5;241m+\u001b[39m\u001b[38;5;241m=\u001b[39m \u001b[38;5;241m1\u001b[39m\n\u001b[0;32m     13\u001b[0m total_trials \u001b[38;5;241m+\u001b[39m\u001b[38;5;241m=\u001b[39m \u001b[38;5;241m1\u001b[39m\n",
      "Input \u001b[1;32mIn [57]\u001b[0m, in \u001b[0;36mbest_of_n\u001b[1;34m(stop, pool_len)\u001b[0m\n\u001b[0;32m     59\u001b[0m \u001b[38;5;28;01mdef\u001b[39;00m \u001b[38;5;21mbest_of_n\u001b[39m(stop, pool_len):\n\u001b[0;32m     60\u001b[0m     \u001b[38;5;66;03m# Generate a pool of candidates with random order\u001b[39;00m\n\u001b[1;32m---> 61\u001b[0m     candidate_ord_pool \u001b[38;5;241m=\u001b[39m \u001b[38;5;28mlist\u001b[39m(\u001b[38;5;28;43mrange\u001b[39;49m\u001b[43m(\u001b[49m\u001b[43mpool_len\u001b[49m\u001b[43m)\u001b[49m)\n\u001b[0;32m     62\u001b[0m     random\u001b[38;5;241m.\u001b[39mshuffle(candidate_ord_pool)\n\u001b[0;32m     64\u001b[0m     \u001b[38;5;66;03m# Run the strategy to choose the best candidate\u001b[39;00m\n",
      "\u001b[1;31mTypeError\u001b[0m: 'list' object cannot be interpreted as an integer"
     ]
    },
    {
     "ename": "TypeError",
     "evalue": "'list' object cannot be interpreted as an integer",
     "output_type": "error",
     "traceback": [
      "\u001b[1;31m---------------------------------------------------------------------------\u001b[0m",
      "\u001b[1;31mTypeError\u001b[0m                                 Traceback (most recent call last)",
      "Input \u001b[1;32mIn [69]\u001b[0m, in \u001b[0;36mrun_simulation\u001b[1;34m(btn)\u001b[0m\n\u001b[0;32m      9\u001b[0m \u001b[38;5;28;01mdef\u001b[39;00m \u001b[38;5;21mrun_simulation\u001b[39m(btn):\n\u001b[1;32m---> 10\u001b[0m     \u001b[43mrun_best_of_n_for_different_pool_lens\u001b[49m\u001b[43m(\u001b[49m\u001b[43mstop_values\u001b[49m\u001b[43m,\u001b[49m\u001b[43m \u001b[49m\u001b[43mpool_len_slider\u001b[49m\u001b[38;5;241;43m.\u001b[39;49m\u001b[43mvalue\u001b[49m\u001b[43m,\u001b[49m\u001b[43m \u001b[49m\u001b[43mtrials\u001b[49m\u001b[43m,\u001b[49m\u001b[43m \u001b[49m\u001b[43mbest_of_n_func\u001b[49m\u001b[43m)\u001b[49m\n",
      "Input \u001b[1;32mIn [66]\u001b[0m, in \u001b[0;36mrun_best_of_n_for_different_pool_lens\u001b[1;34m(stops, pool_len, trials, best_of_n_func)\u001b[0m\n\u001b[0;32m      9\u001b[0m candidate_ord_pool \u001b[38;5;241m=\u001b[39m \u001b[38;5;28mlist\u001b[39m(\u001b[38;5;28mrange\u001b[39m(pool_len))\n\u001b[0;32m     10\u001b[0m random\u001b[38;5;241m.\u001b[39mshuffle(candidate_ord_pool)\n\u001b[1;32m---> 11\u001b[0m \u001b[38;5;28;01mif\u001b[39;00m \u001b[43mbest_of_n_func\u001b[49m\u001b[43m(\u001b[49m\u001b[43mstop\u001b[49m\u001b[43m,\u001b[49m\u001b[43m \u001b[49m\u001b[43mcandidate_ord_pool\u001b[49m\u001b[43m)\u001b[49m:\n\u001b[0;32m     12\u001b[0m     best_candidate_count[i] \u001b[38;5;241m+\u001b[39m\u001b[38;5;241m=\u001b[39m \u001b[38;5;241m1\u001b[39m\n\u001b[0;32m     13\u001b[0m total_trials \u001b[38;5;241m+\u001b[39m\u001b[38;5;241m=\u001b[39m \u001b[38;5;241m1\u001b[39m\n",
      "Input \u001b[1;32mIn [57]\u001b[0m, in \u001b[0;36mbest_of_n\u001b[1;34m(stop, pool_len)\u001b[0m\n\u001b[0;32m     59\u001b[0m \u001b[38;5;28;01mdef\u001b[39;00m \u001b[38;5;21mbest_of_n\u001b[39m(stop, pool_len):\n\u001b[0;32m     60\u001b[0m     \u001b[38;5;66;03m# Generate a pool of candidates with random order\u001b[39;00m\n\u001b[1;32m---> 61\u001b[0m     candidate_ord_pool \u001b[38;5;241m=\u001b[39m \u001b[38;5;28mlist\u001b[39m(\u001b[38;5;28;43mrange\u001b[39;49m\u001b[43m(\u001b[49m\u001b[43mpool_len\u001b[49m\u001b[43m)\u001b[49m)\n\u001b[0;32m     62\u001b[0m     random\u001b[38;5;241m.\u001b[39mshuffle(candidate_ord_pool)\n\u001b[0;32m     64\u001b[0m     \u001b[38;5;66;03m# Run the strategy to choose the best candidate\u001b[39;00m\n",
      "\u001b[1;31mTypeError\u001b[0m: 'list' object cannot be interpreted as an integer"
     ]
    },
    {
     "ename": "TypeError",
     "evalue": "'list' object cannot be interpreted as an integer",
     "output_type": "error",
     "traceback": [
      "\u001b[1;31m---------------------------------------------------------------------------\u001b[0m",
      "\u001b[1;31mTypeError\u001b[0m                                 Traceback (most recent call last)",
      "Input \u001b[1;32mIn [69]\u001b[0m, in \u001b[0;36mrun_simulation\u001b[1;34m(btn)\u001b[0m\n\u001b[0;32m      9\u001b[0m \u001b[38;5;28;01mdef\u001b[39;00m \u001b[38;5;21mrun_simulation\u001b[39m(btn):\n\u001b[1;32m---> 10\u001b[0m     \u001b[43mrun_best_of_n_for_different_pool_lens\u001b[49m\u001b[43m(\u001b[49m\u001b[43mstop_values\u001b[49m\u001b[43m,\u001b[49m\u001b[43m \u001b[49m\u001b[43mpool_len_slider\u001b[49m\u001b[38;5;241;43m.\u001b[39;49m\u001b[43mvalue\u001b[49m\u001b[43m,\u001b[49m\u001b[43m \u001b[49m\u001b[43mtrials\u001b[49m\u001b[43m,\u001b[49m\u001b[43m \u001b[49m\u001b[43mbest_of_n_func\u001b[49m\u001b[43m)\u001b[49m\n",
      "Input \u001b[1;32mIn [66]\u001b[0m, in \u001b[0;36mrun_best_of_n_for_different_pool_lens\u001b[1;34m(stops, pool_len, trials, best_of_n_func)\u001b[0m\n\u001b[0;32m      9\u001b[0m candidate_ord_pool \u001b[38;5;241m=\u001b[39m \u001b[38;5;28mlist\u001b[39m(\u001b[38;5;28mrange\u001b[39m(pool_len))\n\u001b[0;32m     10\u001b[0m random\u001b[38;5;241m.\u001b[39mshuffle(candidate_ord_pool)\n\u001b[1;32m---> 11\u001b[0m \u001b[38;5;28;01mif\u001b[39;00m \u001b[43mbest_of_n_func\u001b[49m\u001b[43m(\u001b[49m\u001b[43mstop\u001b[49m\u001b[43m,\u001b[49m\u001b[43m \u001b[49m\u001b[43mcandidate_ord_pool\u001b[49m\u001b[43m)\u001b[49m:\n\u001b[0;32m     12\u001b[0m     best_candidate_count[i] \u001b[38;5;241m+\u001b[39m\u001b[38;5;241m=\u001b[39m \u001b[38;5;241m1\u001b[39m\n\u001b[0;32m     13\u001b[0m total_trials \u001b[38;5;241m+\u001b[39m\u001b[38;5;241m=\u001b[39m \u001b[38;5;241m1\u001b[39m\n",
      "Input \u001b[1;32mIn [57]\u001b[0m, in \u001b[0;36mbest_of_n\u001b[1;34m(stop, pool_len)\u001b[0m\n\u001b[0;32m     59\u001b[0m \u001b[38;5;28;01mdef\u001b[39;00m \u001b[38;5;21mbest_of_n\u001b[39m(stop, pool_len):\n\u001b[0;32m     60\u001b[0m     \u001b[38;5;66;03m# Generate a pool of candidates with random order\u001b[39;00m\n\u001b[1;32m---> 61\u001b[0m     candidate_ord_pool \u001b[38;5;241m=\u001b[39m \u001b[38;5;28mlist\u001b[39m(\u001b[38;5;28;43mrange\u001b[39;49m\u001b[43m(\u001b[49m\u001b[43mpool_len\u001b[49m\u001b[43m)\u001b[49m)\n\u001b[0;32m     62\u001b[0m     random\u001b[38;5;241m.\u001b[39mshuffle(candidate_ord_pool)\n\u001b[0;32m     64\u001b[0m     \u001b[38;5;66;03m# Run the strategy to choose the best candidate\u001b[39;00m\n",
      "\u001b[1;31mTypeError\u001b[0m: 'list' object cannot be interpreted as an integer"
     ]
    },
    {
     "ename": "TypeError",
     "evalue": "'list' object cannot be interpreted as an integer",
     "output_type": "error",
     "traceback": [
      "\u001b[1;31m---------------------------------------------------------------------------\u001b[0m",
      "\u001b[1;31mTypeError\u001b[0m                                 Traceback (most recent call last)",
      "Input \u001b[1;32mIn [69]\u001b[0m, in \u001b[0;36mrun_simulation\u001b[1;34m(btn)\u001b[0m\n\u001b[0;32m      9\u001b[0m \u001b[38;5;28;01mdef\u001b[39;00m \u001b[38;5;21mrun_simulation\u001b[39m(btn):\n\u001b[1;32m---> 10\u001b[0m     \u001b[43mrun_best_of_n_for_different_pool_lens\u001b[49m\u001b[43m(\u001b[49m\u001b[43mstop_values\u001b[49m\u001b[43m,\u001b[49m\u001b[43m \u001b[49m\u001b[43mpool_len_slider\u001b[49m\u001b[38;5;241;43m.\u001b[39;49m\u001b[43mvalue\u001b[49m\u001b[43m,\u001b[49m\u001b[43m \u001b[49m\u001b[43mtrials\u001b[49m\u001b[43m,\u001b[49m\u001b[43m \u001b[49m\u001b[43mbest_of_n_func\u001b[49m\u001b[43m)\u001b[49m\n",
      "Input \u001b[1;32mIn [66]\u001b[0m, in \u001b[0;36mrun_best_of_n_for_different_pool_lens\u001b[1;34m(stops, pool_len, trials, best_of_n_func)\u001b[0m\n\u001b[0;32m      9\u001b[0m candidate_ord_pool \u001b[38;5;241m=\u001b[39m \u001b[38;5;28mlist\u001b[39m(\u001b[38;5;28mrange\u001b[39m(pool_len))\n\u001b[0;32m     10\u001b[0m random\u001b[38;5;241m.\u001b[39mshuffle(candidate_ord_pool)\n\u001b[1;32m---> 11\u001b[0m \u001b[38;5;28;01mif\u001b[39;00m \u001b[43mbest_of_n_func\u001b[49m\u001b[43m(\u001b[49m\u001b[43mstop\u001b[49m\u001b[43m,\u001b[49m\u001b[43m \u001b[49m\u001b[43mcandidate_ord_pool\u001b[49m\u001b[43m)\u001b[49m:\n\u001b[0;32m     12\u001b[0m     best_candidate_count[i] \u001b[38;5;241m+\u001b[39m\u001b[38;5;241m=\u001b[39m \u001b[38;5;241m1\u001b[39m\n\u001b[0;32m     13\u001b[0m total_trials \u001b[38;5;241m+\u001b[39m\u001b[38;5;241m=\u001b[39m \u001b[38;5;241m1\u001b[39m\n",
      "Input \u001b[1;32mIn [57]\u001b[0m, in \u001b[0;36mbest_of_n\u001b[1;34m(stop, pool_len)\u001b[0m\n\u001b[0;32m     59\u001b[0m \u001b[38;5;28;01mdef\u001b[39;00m \u001b[38;5;21mbest_of_n\u001b[39m(stop, pool_len):\n\u001b[0;32m     60\u001b[0m     \u001b[38;5;66;03m# Generate a pool of candidates with random order\u001b[39;00m\n\u001b[1;32m---> 61\u001b[0m     candidate_ord_pool \u001b[38;5;241m=\u001b[39m \u001b[38;5;28mlist\u001b[39m(\u001b[38;5;28;43mrange\u001b[39;49m\u001b[43m(\u001b[49m\u001b[43mpool_len\u001b[49m\u001b[43m)\u001b[49m)\n\u001b[0;32m     62\u001b[0m     random\u001b[38;5;241m.\u001b[39mshuffle(candidate_ord_pool)\n\u001b[0;32m     64\u001b[0m     \u001b[38;5;66;03m# Run the strategy to choose the best candidate\u001b[39;00m\n",
      "\u001b[1;31mTypeError\u001b[0m: 'list' object cannot be interpreted as an integer"
     ]
    },
    {
     "ename": "TypeError",
     "evalue": "'list' object cannot be interpreted as an integer",
     "output_type": "error",
     "traceback": [
      "\u001b[1;31m---------------------------------------------------------------------------\u001b[0m",
      "\u001b[1;31mTypeError\u001b[0m                                 Traceback (most recent call last)",
      "Input \u001b[1;32mIn [69]\u001b[0m, in \u001b[0;36mrun_simulation\u001b[1;34m(btn)\u001b[0m\n\u001b[0;32m      9\u001b[0m \u001b[38;5;28;01mdef\u001b[39;00m \u001b[38;5;21mrun_simulation\u001b[39m(btn):\n\u001b[1;32m---> 10\u001b[0m     \u001b[43mrun_best_of_n_for_different_pool_lens\u001b[49m\u001b[43m(\u001b[49m\u001b[43mstop_values\u001b[49m\u001b[43m,\u001b[49m\u001b[43m \u001b[49m\u001b[43mpool_len_slider\u001b[49m\u001b[38;5;241;43m.\u001b[39;49m\u001b[43mvalue\u001b[49m\u001b[43m,\u001b[49m\u001b[43m \u001b[49m\u001b[43mtrials\u001b[49m\u001b[43m,\u001b[49m\u001b[43m \u001b[49m\u001b[43mbest_of_n_func\u001b[49m\u001b[43m)\u001b[49m\n",
      "Input \u001b[1;32mIn [66]\u001b[0m, in \u001b[0;36mrun_best_of_n_for_different_pool_lens\u001b[1;34m(stops, pool_len, trials, best_of_n_func)\u001b[0m\n\u001b[0;32m      9\u001b[0m candidate_ord_pool \u001b[38;5;241m=\u001b[39m \u001b[38;5;28mlist\u001b[39m(\u001b[38;5;28mrange\u001b[39m(pool_len))\n\u001b[0;32m     10\u001b[0m random\u001b[38;5;241m.\u001b[39mshuffle(candidate_ord_pool)\n\u001b[1;32m---> 11\u001b[0m \u001b[38;5;28;01mif\u001b[39;00m \u001b[43mbest_of_n_func\u001b[49m\u001b[43m(\u001b[49m\u001b[43mstop\u001b[49m\u001b[43m,\u001b[49m\u001b[43m \u001b[49m\u001b[43mcandidate_ord_pool\u001b[49m\u001b[43m)\u001b[49m:\n\u001b[0;32m     12\u001b[0m     best_candidate_count[i] \u001b[38;5;241m+\u001b[39m\u001b[38;5;241m=\u001b[39m \u001b[38;5;241m1\u001b[39m\n\u001b[0;32m     13\u001b[0m total_trials \u001b[38;5;241m+\u001b[39m\u001b[38;5;241m=\u001b[39m \u001b[38;5;241m1\u001b[39m\n",
      "Input \u001b[1;32mIn [57]\u001b[0m, in \u001b[0;36mbest_of_n\u001b[1;34m(stop, pool_len)\u001b[0m\n\u001b[0;32m     59\u001b[0m \u001b[38;5;28;01mdef\u001b[39;00m \u001b[38;5;21mbest_of_n\u001b[39m(stop, pool_len):\n\u001b[0;32m     60\u001b[0m     \u001b[38;5;66;03m# Generate a pool of candidates with random order\u001b[39;00m\n\u001b[1;32m---> 61\u001b[0m     candidate_ord_pool \u001b[38;5;241m=\u001b[39m \u001b[38;5;28mlist\u001b[39m(\u001b[38;5;28;43mrange\u001b[39;49m\u001b[43m(\u001b[49m\u001b[43mpool_len\u001b[49m\u001b[43m)\u001b[49m)\n\u001b[0;32m     62\u001b[0m     random\u001b[38;5;241m.\u001b[39mshuffle(candidate_ord_pool)\n\u001b[0;32m     64\u001b[0m     \u001b[38;5;66;03m# Run the strategy to choose the best candidate\u001b[39;00m\n",
      "\u001b[1;31mTypeError\u001b[0m: 'list' object cannot be interpreted as an integer"
     ]
    },
    {
     "ename": "TypeError",
     "evalue": "'list' object cannot be interpreted as an integer",
     "output_type": "error",
     "traceback": [
      "\u001b[1;31m---------------------------------------------------------------------------\u001b[0m",
      "\u001b[1;31mTypeError\u001b[0m                                 Traceback (most recent call last)",
      "Input \u001b[1;32mIn [69]\u001b[0m, in \u001b[0;36mrun_simulation\u001b[1;34m(btn)\u001b[0m\n\u001b[0;32m      9\u001b[0m \u001b[38;5;28;01mdef\u001b[39;00m \u001b[38;5;21mrun_simulation\u001b[39m(btn):\n\u001b[1;32m---> 10\u001b[0m     \u001b[43mrun_best_of_n_for_different_pool_lens\u001b[49m\u001b[43m(\u001b[49m\u001b[43mstop_values\u001b[49m\u001b[43m,\u001b[49m\u001b[43m \u001b[49m\u001b[43mpool_len_slider\u001b[49m\u001b[38;5;241;43m.\u001b[39;49m\u001b[43mvalue\u001b[49m\u001b[43m,\u001b[49m\u001b[43m \u001b[49m\u001b[43mtrials\u001b[49m\u001b[43m,\u001b[49m\u001b[43m \u001b[49m\u001b[43mbest_of_n_func\u001b[49m\u001b[43m)\u001b[49m\n",
      "Input \u001b[1;32mIn [66]\u001b[0m, in \u001b[0;36mrun_best_of_n_for_different_pool_lens\u001b[1;34m(stops, pool_len, trials, best_of_n_func)\u001b[0m\n\u001b[0;32m      9\u001b[0m candidate_ord_pool \u001b[38;5;241m=\u001b[39m \u001b[38;5;28mlist\u001b[39m(\u001b[38;5;28mrange\u001b[39m(pool_len))\n\u001b[0;32m     10\u001b[0m random\u001b[38;5;241m.\u001b[39mshuffle(candidate_ord_pool)\n\u001b[1;32m---> 11\u001b[0m \u001b[38;5;28;01mif\u001b[39;00m \u001b[43mbest_of_n_func\u001b[49m\u001b[43m(\u001b[49m\u001b[43mstop\u001b[49m\u001b[43m,\u001b[49m\u001b[43m \u001b[49m\u001b[43mcandidate_ord_pool\u001b[49m\u001b[43m)\u001b[49m:\n\u001b[0;32m     12\u001b[0m     best_candidate_count[i] \u001b[38;5;241m+\u001b[39m\u001b[38;5;241m=\u001b[39m \u001b[38;5;241m1\u001b[39m\n\u001b[0;32m     13\u001b[0m total_trials \u001b[38;5;241m+\u001b[39m\u001b[38;5;241m=\u001b[39m \u001b[38;5;241m1\u001b[39m\n",
      "Input \u001b[1;32mIn [57]\u001b[0m, in \u001b[0;36mbest_of_n\u001b[1;34m(stop, pool_len)\u001b[0m\n\u001b[0;32m     59\u001b[0m \u001b[38;5;28;01mdef\u001b[39;00m \u001b[38;5;21mbest_of_n\u001b[39m(stop, pool_len):\n\u001b[0;32m     60\u001b[0m     \u001b[38;5;66;03m# Generate a pool of candidates with random order\u001b[39;00m\n\u001b[1;32m---> 61\u001b[0m     candidate_ord_pool \u001b[38;5;241m=\u001b[39m \u001b[38;5;28mlist\u001b[39m(\u001b[38;5;28;43mrange\u001b[39;49m\u001b[43m(\u001b[49m\u001b[43mpool_len\u001b[49m\u001b[43m)\u001b[49m)\n\u001b[0;32m     62\u001b[0m     random\u001b[38;5;241m.\u001b[39mshuffle(candidate_ord_pool)\n\u001b[0;32m     64\u001b[0m     \u001b[38;5;66;03m# Run the strategy to choose the best candidate\u001b[39;00m\n",
      "\u001b[1;31mTypeError\u001b[0m: 'list' object cannot be interpreted as an integer"
     ]
    },
    {
     "ename": "TypeError",
     "evalue": "'list' object cannot be interpreted as an integer",
     "output_type": "error",
     "traceback": [
      "\u001b[1;31m---------------------------------------------------------------------------\u001b[0m",
      "\u001b[1;31mTypeError\u001b[0m                                 Traceback (most recent call last)",
      "Input \u001b[1;32mIn [69]\u001b[0m, in \u001b[0;36mrun_simulation\u001b[1;34m(btn)\u001b[0m\n\u001b[0;32m      9\u001b[0m \u001b[38;5;28;01mdef\u001b[39;00m \u001b[38;5;21mrun_simulation\u001b[39m(btn):\n\u001b[1;32m---> 10\u001b[0m     \u001b[43mrun_best_of_n_for_different_pool_lens\u001b[49m\u001b[43m(\u001b[49m\u001b[43mstop_values\u001b[49m\u001b[43m,\u001b[49m\u001b[43m \u001b[49m\u001b[43mpool_len_slider\u001b[49m\u001b[38;5;241;43m.\u001b[39;49m\u001b[43mvalue\u001b[49m\u001b[43m,\u001b[49m\u001b[43m \u001b[49m\u001b[43mtrials\u001b[49m\u001b[43m,\u001b[49m\u001b[43m \u001b[49m\u001b[43mbest_of_n_func\u001b[49m\u001b[43m)\u001b[49m\n",
      "Input \u001b[1;32mIn [66]\u001b[0m, in \u001b[0;36mrun_best_of_n_for_different_pool_lens\u001b[1;34m(stops, pool_len, trials, best_of_n_func)\u001b[0m\n\u001b[0;32m      9\u001b[0m candidate_ord_pool \u001b[38;5;241m=\u001b[39m \u001b[38;5;28mlist\u001b[39m(\u001b[38;5;28mrange\u001b[39m(pool_len))\n\u001b[0;32m     10\u001b[0m random\u001b[38;5;241m.\u001b[39mshuffle(candidate_ord_pool)\n\u001b[1;32m---> 11\u001b[0m \u001b[38;5;28;01mif\u001b[39;00m \u001b[43mbest_of_n_func\u001b[49m\u001b[43m(\u001b[49m\u001b[43mstop\u001b[49m\u001b[43m,\u001b[49m\u001b[43m \u001b[49m\u001b[43mcandidate_ord_pool\u001b[49m\u001b[43m)\u001b[49m:\n\u001b[0;32m     12\u001b[0m     best_candidate_count[i] \u001b[38;5;241m+\u001b[39m\u001b[38;5;241m=\u001b[39m \u001b[38;5;241m1\u001b[39m\n\u001b[0;32m     13\u001b[0m total_trials \u001b[38;5;241m+\u001b[39m\u001b[38;5;241m=\u001b[39m \u001b[38;5;241m1\u001b[39m\n",
      "Input \u001b[1;32mIn [57]\u001b[0m, in \u001b[0;36mbest_of_n\u001b[1;34m(stop, pool_len)\u001b[0m\n\u001b[0;32m     59\u001b[0m \u001b[38;5;28;01mdef\u001b[39;00m \u001b[38;5;21mbest_of_n\u001b[39m(stop, pool_len):\n\u001b[0;32m     60\u001b[0m     \u001b[38;5;66;03m# Generate a pool of candidates with random order\u001b[39;00m\n\u001b[1;32m---> 61\u001b[0m     candidate_ord_pool \u001b[38;5;241m=\u001b[39m \u001b[38;5;28mlist\u001b[39m(\u001b[38;5;28;43mrange\u001b[39;49m\u001b[43m(\u001b[49m\u001b[43mpool_len\u001b[49m\u001b[43m)\u001b[49m)\n\u001b[0;32m     62\u001b[0m     random\u001b[38;5;241m.\u001b[39mshuffle(candidate_ord_pool)\n\u001b[0;32m     64\u001b[0m     \u001b[38;5;66;03m# Run the strategy to choose the best candidate\u001b[39;00m\n",
      "\u001b[1;31mTypeError\u001b[0m: 'list' object cannot be interpreted as an integer"
     ]
    }
   ],
   "source": [
    "import ipywidgets as widgets\n",
    "from IPython.display import display\n",
    "\n",
    "pool_len_slider = widgets.IntSlider(value=10, min=10, max=60, step=10, description='Pool Len:')\n",
    "stop_values = [2, 4, 8, 16]\n",
    "trials = 100\n",
    "best_of_n_func = best_of_n\n",
    "\n",
    "def run_simulation(btn):\n",
    "    run_best_of_n_for_different_pool_lens(stop_values, pool_len_slider.value, trials, best_of_n_func)\n",
    "\n",
    "run_btn = widgets.Button(description='Run Simulation')\n",
    "run_btn.on_click(run_simulation)\n",
    "\n",
    "display(pool_len_slider)\n",
    "display(run_btn)\n"
   ]
  },
  {
   "cell_type": "code",
   "execution_count": 14,
   "id": "4cb1f75c",
   "metadata": {
    "scrolled": false
   },
   "outputs": [
    {
     "data": {
      "image/png": "[encoded data removed]",
      "text/plain": [
       "<Figure size 432x288 with 1 Axes>"
      ]
     },
     "metadata": {
      "needs_background": "light"
     },
     "output_type": "display_data"
    }
   ],
   "source": [
    "test_strategy(100,3)"
   ]
  },
  {
   "cell_type": "markdown",
   "id": "7e334976",
   "metadata": {},
   "source": [
    "These results are interesting, we can see that at lower candidate pools, the strategies are somewhat effective. Let us now move on to our proper solution, and the subject of this paper."
   ]
  },
  {
   "cell_type": "markdown",
   "id": "926f71d8",
   "metadata": {},
   "source": [
    "### Explore Exploit Strategy"
   ]
  },
  {
   "cell_type": "code",
   "execution_count": null,
   "id": "bbf2dbe4",
   "metadata": {},
   "outputs": [],
   "source": []
  },
  {
   "cell_type": "code",
   "execution_count": null,
   "id": "1ffeb36d",
   "metadata": {},
   "outputs": [],
   "source": []
  }
 ],
 "metadata": {
  "kernelspec": {
   "display_name": "Python 3 (ipykernel)",
   "language": "python",
   "name": "python3"
  },
  "language_info": {
   "codemirror_mode": {
    "name": "ipython",
    "version": 3
   },
   "file_extension": ".py",
   "mimetype": "text/x-python",
   "name": "python",
   "nbconvert_exporter": "python",
   "pygments_lexer": "ipython3",
   "version": "3.9.12"
  }
 },
 "nbformat": 4,
 "nbformat_minor": 5
}
