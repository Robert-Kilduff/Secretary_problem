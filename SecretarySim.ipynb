{
 "cells": [
  {
   "cell_type": "markdown",
   "id": "a46b7951",
   "metadata": {},
   "source": [
    "# The Secretary Problem"
   ]
  },
  {
   "cell_type": "markdown",
   "id": "864c57db",
   "metadata": {},
   "source": [
    "Faced with N candidates, a secretary must hire pick the best candidate. The secretary however, faces several complications:\n",
    "<ol>\n",
    "    <li> The candidates can only be interviewed one by one </li>\n",
    "    <li> The candidates will be seen in a random order </li>\n",
    "    <li> The candidate must be accepted or rejected immediately </li>\n",
    "    <li> The candidates are only known by their cardinal rank, relative to all other candidates seen before them </li>\n",
    "    <li> If no candidate has been selected by the end of the process, the final is selected</li>"
   ]
  },
  {
   "cell_type": "markdown",
   "id": "891ae6c3",
   "metadata": {},
   "source": [
    "This is quite a conundrum. \n",
    "\n",
    "First of all, the secretary is under a lot of pressure to pick the best candidate, anything less would constitute failure. Furthermore, there is a knowledge gap, whilst a candidate can be reviewed against all prior candidates, there's no knowing how they stand relative to the remaining candidates."
   ]
  },
  {
   "cell_type": "markdown",
   "id": "bd95ea37",
   "metadata": {},
   "source": [
    "Can some maths clarify our position?"
   ]
  },
  {
   "cell_type": "markdown",
   "id": "bade84e1",
   "metadata": {},
   "source": [
    "## Defining the Problem"
   ]
  },
  {
   "cell_type": "markdown",
   "id": "61e7fc49",
   "metadata": {},
   "source": [
    "Our secretary must work around a fundamental knowledge gap and make immediate decisions, with that in mind, is there any grounding that can be used to inform decisions?"
   ]
  },
  {
   "cell_type": "markdown",
   "id": "de0afbc4",
   "metadata": {},
   "source": [
    "##### Arbitrary Decisions"
   ]
  },
  {
   "cell_type": "markdown",
   "id": "e365c049",
   "metadata": {},
   "source": [
    "Consider our pool of candidates, in any given N-length list of candidates, the probability of any given candidate being the best is always P = 1/N. This does not bode well for the secretary hoping to pick a candidate at random."
   ]
  },
  {
   "cell_type": "code",
   "execution_count": 1,
   "id": "e74dcac5",
   "metadata": {
    "tags": [
     "hide-cell"
    ]
   },
   "outputs": [],
   "source": [
    "import matplotlib.pyplot as plt\n",
    "import random\n",
    "import pandas as pd"
   ]
  },
  {
   "cell_type": "code",
   "execution_count": 2,
   "id": "4c84bc6e",
   "metadata": {
    "tags": [
     "hide-cell"
    ]
   },
   "outputs": [],
   "source": [
    "def random_strategy(n: int, pool_len: list) -> int:\n",
    "    pc = (1/pool_len)*100\n",
    "    return pc"
   ]
  },
  {
   "cell_type": "code",
   "execution_count": 3,
   "id": "00d03bc1",
   "metadata": {
    "tags": [
     "hide-cell"
    ]
   },
   "outputs": [],
   "source": [
    "percentages = []\n",
    "for i in range(1,101):\n",
    "    result = random_strategy(1, i)\n",
    "    percentages.append(result)"
   ]
  },
  {
   "cell_type": "code",
   "execution_count": 4,
   "id": "9aed31a4",
   "metadata": {
    "scrolled": true,
    "tags": [
     "hide-input"
    ]
   },
   "outputs": [
    {
     "data": {
      "image/png": "[encoded data removed]",
      "text/plain": [
       "<Figure size 432x288 with 1 Axes>"
      ]
     },
     "metadata": {
      "needs_background": "light"
     },
     "output_type": "display_data"
    }
   ],
   "source": [
    "plt.plot(percentages)\n",
    "plt.xlabel(\"Pool Length\")\n",
    "plt.ylabel(\"% Chance of Being Best\")\n",
    "plt.title(\"Chance of Being The Best Applicant For Given Pool Size\");"
   ]
  },
  {
   "cell_type": "markdown",
   "id": "e1d6baa7",
   "metadata": {},
   "source": [
    "Picking the Nth candidate at random is clearly not going to get the best candidate. Surely there are better strategies?"
   ]
  },
  {
   "cell_type": "markdown",
   "id": "21e6a213",
   "metadata": {},
   "source": [
    "## Best of X Strategies"
   ]
  },
  {
   "cell_type": "markdown",
   "id": "8a087927",
   "metadata": {},
   "source": [
    "Assessing a candidate is hard, our secretary only knows their rank relative to previous candidates, not remaining candidates. However, with a bit of inspection we can glean more information:\n",
    "\n",
    "Successive candidates are less and less likely to be the best seen thus far. Whilst it is not impressive for our first candidate to be the best seen so far, it is impressive for the 20th or 100th. \n",
    "\n",
    "The odds are $1/a_{x}$ for given candidate position, our first candidate has 1/1 odds of being the best candidate, our hundredth has 1/100 odds, much more impressive.\n",
    "\n",
    "Armed with this knowledge we can generate a handful of strategies aimed at exploiting this.\n",
    "\n"
   ]
  },
  {
   "cell_type": "markdown",
   "id": "c833beee",
   "metadata": {},
   "source": [
    "#### Best of 2"
   ]
  },
  {
   "cell_type": "markdown",
   "id": "f0f09616",
   "metadata": {},
   "source": [
    "Simply stated, we will pass over our first 'best' candidate and wait until the second time a candidate is ranked better than any previous. \n",
    "\n",
    "Practically speaking, this means skipping the first candidate. In a pool of 100 candidates how often do we find the winner?"
   ]
  },
  {
   "cell_type": "code",
   "execution_count": 5,
   "id": "4ba3b751",
   "metadata": {},
   "outputs": [],
   "source": [
    "def best_of_n(stop, pool_len):\n",
    "    \n",
    "    #generate a pool of candidate, number = ordinal rank, shuffle\n",
    "    \n",
    "    candidate_ord_pool = [*range(0,pool_len)]\n",
    "    random.shuffle(candidate_ord_pool)\n",
    "    \n",
    "    #counting number of candidates \n",
    "    \n",
    "    best_candidate_counter = 0\n",
    "    \n",
    "    # if the candidate rank is less than the rank of any candidate prior then\n",
    "    # add to a counter, \n",
    "    # if the counter is equal to the stop number (our strategy stopping point) then\n",
    "    # return that candidate number, else keep going\n",
    "    # if no best candidate is found by the end of the loop, return the final candidate\n",
    "    \n",
    "    for i in candidate_ord_pool:\n",
    "        \n",
    "        try:\n",
    "            if i <= min(candidate_ord_pool[:candidate_ord_pool.index(i)]):\n",
    "            #if i <= candidate_ord_pool[:candidate_ord_pool.index(i)]:\n",
    "                best_candidate_counter += 1\n",
    "                if best_candidate_counter == stop:\n",
    "                    return i\n",
    "                else:\n",
    "                    pass\n",
    "            else:\n",
    "                pass\n",
    "        except ValueError:\n",
    "            best_candidate_counter += 1\n",
    "    return candidate_ord_pool.index(pool_len -1)\n",
    "\n",
    "    \n",
    "    \n",
    "    \n",
    "    \n",
    "    "
   ]
  },
  {
   "cell_type": "code",
   "execution_count": 6,
   "id": "152134d4",
   "metadata": {},
   "outputs": [],
   "source": [
    "def simulate_strategy(strategy, stop_nr, passes, pool_size):\n",
    "    simulation_list = []\n",
    "    \n",
    "    for i in range(0, passes):\n",
    "        x = strategy(stop = stop_nr, pool_len = pool_size)\n",
    "        simulation_list.append(x)\n",
    "        \n",
    "    plt.hist(simulation_list)\n",
    "    plt.xlabel(\"Candidate Rank\")\n",
    "    plt.ylabel(\"Number of times chosen\")\n",
    "    plt.title(\"Candidate Rank Chosen\");\n",
    "    \n",
    "    success_rate = round((simulation_list.count(0)/len(simulation_list))*100, 2)    \n",
    "    print(f\"Best candidate selected {success_rate}% of the time\")\n",
    "    \n",
    "    return simulation_list, success_rate    \n",
    "    "
   ]
  },
  {
   "cell_type": "code",
   "execution_count": 7,
   "id": "2f1506a1",
   "metadata": {},
   "outputs": [
    {
     "name": "stdout",
     "output_type": "stream",
     "text": [
      "Best candidate selected 5.6% of the time\n"
     ]
    },
    {
     "data": {
      "image/png": "[encoded data removed]",
      "text/plain": [
       "<Figure size 432x288 with 1 Axes>"
      ]
     },
     "metadata": {
      "needs_background": "light"
     },
     "output_type": "display_data"
    }
   ],
   "source": [
    "first = simulate_strategy(best_of_n, stop_nr = 2, passes = 1000, pool_size = 100)"
   ]
  },
  {
   "cell_type": "markdown",
   "id": "7e299c49",
   "metadata": {},
   "source": [
    "At a glance, our success rate with 100 people reaches around 10%, this is much better than with random picking, but still not close to a good approach. Let us demonstrate this strategy one more time, with more granularity."
   ]
  },
  {
   "cell_type": "code",
   "execution_count": 8,
   "id": "1ce7fb88",
   "metadata": {
    "scrolled": false
   },
   "outputs": [
    {
     "name": "stdout",
     "output_type": "stream",
     "text": [
      "Best candidate selected 19.1% of the time\n"
     ]
    },
    {
     "data": {
      "image/png": "[encoded data removed]",
      "text/plain": [
       "<Figure size 432x288 with 1 Axes>"
      ]
     },
     "metadata": {
      "needs_background": "light"
     },
     "output_type": "display_data"
    }
   ],
   "source": [
    "first = simulate_strategy(best_of_n, stop_nr = 4, passes = 10000, pool_size = 100)"
   ]
  },
  {
   "cell_type": "markdown",
   "id": "f8edb796",
   "metadata": {},
   "source": [
    "Ran 10,000 times, we can see a marked improvement, with the best candidate selected nearly 20% of the time from a pool of 100, but as we are about to see, for anything larger this strategy rapidly loses accuracy."
   ]
  },
  {
   "cell_type": "code",
   "execution_count": 9,
   "id": "a15a11e7",
   "metadata": {},
   "outputs": [
    {
     "name": "stdout",
     "output_type": "stream",
     "text": [
      "Best candidate selected 1.57% of the time\n"
     ]
    },
    {
     "data": {
      "image/png": "[encoded data removed]",
      "text/plain": [
       "<Figure size 432x288 with 1 Axes>"
      ]
     },
     "metadata": {
      "needs_background": "light"
     },
     "output_type": "display_data"
    }
   ],
   "source": [
    "third = simulate_strategy(best_of_n, stop_nr = 4, passes = 10000, pool_size = 10000)"
   ]
  },
  {
   "cell_type": "markdown",
   "id": "6c6c261c",
   "metadata": {},
   "source": [
    "With a pool size of 10,000 ran 10,000 times, we can see the best candidate was selected only 1.48% of the time! This approach will surely cause problems for our secretary."
   ]
  },
  {
   "cell_type": "markdown",
   "id": "4b33a466",
   "metadata": {},
   "source": [
    "#### Takeaways "
   ]
  },
  {
   "cell_type": "markdown",
   "id": "c2fa0a52",
   "metadata": {},
   "source": [
    "It certainly is possible to tweak our 'best of x' strategy to get passable results - certainly better than randomly picking,but in fine tuning this approach we run into a major concern: <b>scaleability</b>, for candidate pools of small sizes, being too selective is detimental, meanwhile at larger candidate pool sizes we must stop at some further 'best' candidate.\n",
    "\n",
    "Armed with this knowledge, let us look at competing variants of this strategy across scaling candidate pools."
   ]
  },
  {
   "cell_type": "code",
   "execution_count": 10,
   "id": "251dc51a",
   "metadata": {},
   "outputs": [],
   "source": [
    "columns = ['Strategy Name', 'Pool Size', 'Results']"
   ]
  },
  {
   "cell_type": "code",
   "execution_count": 11,
   "id": "46d6cc13",
   "metadata": {},
   "outputs": [],
   "source": [
    "def run_strategy_different_lens(stops_start: int, pool_len_start: list, passes: int, strategy_function):\n",
    "    df = pd.DataFrame(columns = columns)\n",
    "    #create a range from stops\n",
    "    #create a range from pool len\n",
    "    for i in pool_len_start:\n",
    "        y = simulate_strategy(strategy = best_of_n, stop_nr = stops_start, passes = passes, pool_size = i)\n",
    "        x = {'Strategy Name': stops_start, 'Pool Size': i, 'Results': y[1]}\n",
    "        df = df.append(x, ignore_index=True)\n",
    "    return df"
   ]
  },
  {
   "cell_type": "code",
   "execution_count": 12,
   "id": "d39716b3",
   "metadata": {},
   "outputs": [
    {
     "name": "stdout",
     "output_type": "stream",
     "text": [
      "Best candidate selected 66.67% of the time\n",
      "Best candidate selected 0.0% of the time\n",
      "Best candidate selected 0.0% of the time\n"
     ]
    },
    {
     "name": "stderr",
     "output_type": "stream",
     "text": [
      "C:\\Users\\Robki\\AppData\\Local\\Temp\\ipykernel_19352\\3772171448.py:8: FutureWarning: The frame.append method is deprecated and will be removed from pandas in a future version. Use pandas.concat instead.\n",
      "  df = df.append(x, ignore_index=True)\n",
      "C:\\Users\\Robki\\AppData\\Local\\Temp\\ipykernel_19352\\3772171448.py:8: FutureWarning: The frame.append method is deprecated and will be removed from pandas in a future version. Use pandas.concat instead.\n",
      "  df = df.append(x, ignore_index=True)\n",
      "C:\\Users\\Robki\\AppData\\Local\\Temp\\ipykernel_19352\\3772171448.py:8: FutureWarning: The frame.append method is deprecated and will be removed from pandas in a future version. Use pandas.concat instead.\n",
      "  df = df.append(x, ignore_index=True)\n"
     ]
    },
    {
     "data": {
      "image/png": "[encoded data removed]",
      "text/plain": [
       "<Figure size 432x288 with 1 Axes>"
      ]
     },
     "metadata": {
      "needs_background": "light"
     },
     "output_type": "display_data"
    }
   ],
   "source": [
    "data = run_strategy_different_lens(3, pool_len_start= [10,100,1000],passes = 3, strategy_function= best_of_n)"
   ]
  },
  {
   "cell_type": "code",
   "execution_count": 13,
   "id": "c727ac4c",
   "metadata": {},
   "outputs": [
    {
     "name": "stdout",
     "output_type": "stream",
     "text": [
      "Best candidate selected 0.0% of the time\n",
      "Best candidate selected 0.0% of the time\n",
      "Best candidate selected 33.33% of the time\n"
     ]
    },
    {
     "name": "stderr",
     "output_type": "stream",
     "text": [
      "C:\\Users\\Robki\\AppData\\Local\\Temp\\ipykernel_19352\\3772171448.py:8: FutureWarning: The frame.append method is deprecated and will be removed from pandas in a future version. Use pandas.concat instead.\n",
      "  df = df.append(x, ignore_index=True)\n",
      "C:\\Users\\Robki\\AppData\\Local\\Temp\\ipykernel_19352\\3772171448.py:8: FutureWarning: The frame.append method is deprecated and will be removed from pandas in a future version. Use pandas.concat instead.\n",
      "  df = df.append(x, ignore_index=True)\n",
      "C:\\Users\\Robki\\AppData\\Local\\Temp\\ipykernel_19352\\3772171448.py:8: FutureWarning: The frame.append method is deprecated and will be removed from pandas in a future version. Use pandas.concat instead.\n",
      "  df = df.append(x, ignore_index=True)\n"
     ]
    },
    {
     "data": {
      "text/html": [
       "<div>\n",
       "<style scoped>\n",
       "    .dataframe tbody tr th:only-of-type {\n",
       "        vertical-align: middle;\n",
       "    }\n",
       "\n",
       "    .dataframe tbody tr th {\n",
       "        vertical-align: top;\n",
       "    }\n",
       "\n",
       "    .dataframe thead th {\n",
       "        text-align: right;\n",
       "    }\n",
       "</style>\n",
       "<table border=\"1\" class=\"dataframe\">\n",
       "  <thead>\n",
       "    <tr style=\"text-align: right;\">\n",
       "      <th></th>\n",
       "      <th>Strategy Name</th>\n",
       "      <th>Pool Size</th>\n",
       "      <th>Results</th>\n",
       "    </tr>\n",
       "  </thead>\n",
       "  <tbody>\n",
       "    <tr>\n",
       "      <th>0</th>\n",
       "      <td>3.0</td>\n",
       "      <td>10.0</td>\n",
       "      <td>66.67</td>\n",
       "    </tr>\n",
       "    <tr>\n",
       "      <th>1</th>\n",
       "      <td>3.0</td>\n",
       "      <td>100.0</td>\n",
       "      <td>0.0</td>\n",
       "    </tr>\n",
       "    <tr>\n",
       "      <th>2</th>\n",
       "      <td>3.0</td>\n",
       "      <td>1000.0</td>\n",
       "      <td>0.0</td>\n",
       "    </tr>\n",
       "    <tr>\n",
       "      <th>0</th>\n",
       "      <td>9.0</td>\n",
       "      <td>10.0</td>\n",
       "      <td>0.0</td>\n",
       "    </tr>\n",
       "    <tr>\n",
       "      <th>1</th>\n",
       "      <td>9.0</td>\n",
       "      <td>100.0</td>\n",
       "      <td>0.0</td>\n",
       "    </tr>\n",
       "    <tr>\n",
       "      <th>2</th>\n",
       "      <td>9.0</td>\n",
       "      <td>1000.0</td>\n",
       "      <td>33.33</td>\n",
       "    </tr>\n",
       "  </tbody>\n",
       "</table>\n",
       "</div>"
      ],
      "text/plain": [
       "  Strategy Name Pool Size Results\n",
       "0           3.0      10.0   66.67\n",
       "1           3.0     100.0     0.0\n",
       "2           3.0    1000.0     0.0\n",
       "0           9.0      10.0     0.0\n",
       "1           9.0     100.0     0.0\n",
       "2           9.0    1000.0   33.33"
      ]
     },
     "execution_count": 13,
     "metadata": {},
     "output_type": "execute_result"
    },
    {
     "data": {
      "image/png": "[encoded data removed]",
      "text/plain": [
       "<Figure size 432x288 with 1 Axes>"
      ]
     },
     "metadata": {
      "needs_background": "light"
     },
     "output_type": "display_data"
    }
   ],
   "source": [
    "d2 = run_strategy_different_lens(9, pool_len_start= [10,100,1000],passes = 3, strategy_function= best_of_n)\n",
    "pd.concat([data, d2])"
   ]
  },
  {
   "cell_type": "code",
   "execution_count": 14,
   "id": "56611d02",
   "metadata": {},
   "outputs": [],
   "source": [
    "#TODO these graphs need to go, what are they even doing? \n",
    "#TODO the data for results looks wrong, why are they never getting it right? How many times are they simulated?\n",
    "#TODO groupby and then plot\n",
    "#TODO commentary, begin the exploit algo. slider plot and all that"
   ]
  },
  {
   "cell_type": "code",
   "execution_count": 15,
   "id": "8aa03ba1",
   "metadata": {},
   "outputs": [],
   "source": [
    "import matplotlib.pyplot as plt\n",
    "\n",
    "def test_strategy1(max_pool_len, stop):\n",
    "    best_candidates = []\n",
    "    for pool_len in range(1, max_pool_len + 1):\n",
    "        best_candidate = best_of_n(stop, pool_len)\n",
    "        best_candidates.append(best_candidate)\n",
    "    plt.plot(best_candidates)\n",
    "    plt.xlabel('Pool Length')\n",
    "    plt.ylabel('Number of Times Best Candidate Was Chosen')\n",
    "    plt.title('Secretary Problem Strategy Test')\n",
    "    plt.show()"
   ]
  },
  {
   "cell_type": "code",
   "execution_count": 16,
   "id": "25fff53b",
   "metadata": {},
   "outputs": [],
   "source": [
    "def run_best_of_n_for_different_pool_lens(stops: int, pool_len, trials, best_of_n_func):\n",
    "    # Initialize counters for the number of times the best candidate is chosen and the total number of trials\n",
    "    best_candidate_count = [0] * len(stops)\n",
    "    total_trials = 0\n",
    "    stops = range(1,10,1)\n",
    "    # Run the strategy for different stopping points\n",
    "    for j in range(trials):\n",
    "        for i, stop in enumerate(stops):\n",
    "            candidate_ord_pool = list(range(pool_len))\n",
    "            random.shuffle(candidate_ord_pool)\n",
    "            if best_of_n_func(stop, candidate_ord_pool):\n",
    "                best_candidate_count[i] += 1\n",
    "            total_trials += 1\n",
    "            \n",
    "    for i in stops:\n",
    "        best_of_n_func()\n",
    "\n",
    "    # Compute the percentage of times the best candidate was chosen\n",
    "    best_candidate_percentage = [100 * count / total_trials for count in best_candidate_count]\n",
    "\n",
    "    # Create the interactive graph\n",
    "    fig = make_subplots()\n",
    "    fig.add_trace(go.Bar(x=stops, y=best_candidate_count, name='Count of best candidates'))\n",
    "    fig.add_trace(go.Scatter(x=stops, y=best_candidate_percentage, name='Percentage of times the best candidate was chosen'))\n",
    "    fig.update_layout(title='Best Candidate Count and Percentage for Different Pool Lengths and Stopping Points',\n",
    "                      xaxis_title='Stopping Point',\n",
    "                      yaxis_title='Best Candidate Count',\n",
    "                      yaxis2=dict(title='Percentage', overlaying='y', side='right'))\n",
    "    fig.show()\n"
   ]
  },
  {
   "cell_type": "code",
   "execution_count": 17,
   "id": "764b09da",
   "metadata": {
    "scrolled": true
   },
   "outputs": [
    {
     "data": {
      "application/vnd.jupyter.widget-view+json": {
       "model_id": "ab6d289be70f41d1b9d25ad9b5d74b62",
       "version_major": 2,
       "version_minor": 0
      },
      "text/plain": [
       "IntSlider(value=10, description='Pool Len:', max=60, min=10, step=10)"
      ]
     },
     "metadata": {},
     "output_type": "display_data"
    },
    {
     "data": {
      "application/vnd.jupyter.widget-view+json": {
       "model_id": "a0cdea42425a46639def82d9b6007c8d",
       "version_major": 2,
       "version_minor": 0
      },
      "text/plain": [
       "Button(description='Run Simulation', style=ButtonStyle())"
      ]
     },
     "metadata": {},
     "output_type": "display_data"
    }
   ],
   "source": [
    "import ipywidgets as widgets\n",
    "from IPython.display import display\n",
    "\n",
    "pool_len_slider = widgets.IntSlider(value=10, min=10, max=60, step=10, description='Pool Len:')\n",
    "stop_values = [2, 4, 8, 16]\n",
    "trials = 100\n",
    "best_of_n_func = best_of_n\n",
    "\n",
    "def run_simulation(btn):\n",
    "    run_best_of_n_for_different_pool_lens(stop_values, pool_len_slider.value, trials, best_of_n_func)\n",
    "\n",
    "run_btn = widgets.Button(description='Run Simulation')\n",
    "run_btn.on_click(run_simulation)\n",
    "\n",
    "display(pool_len_slider)\n",
    "display(run_btn)\n"
   ]
  },
  {
   "cell_type": "code",
   "execution_count": 18,
   "id": "4cb1f75c",
   "metadata": {
    "scrolled": false
   },
   "outputs": [
    {
     "ename": "NameError",
     "evalue": "name 'test_strategy' is not defined",
     "output_type": "error",
     "traceback": [
      "\u001b[1;31m---------------------------------------------------------------------------\u001b[0m",
      "\u001b[1;31mNameError\u001b[0m                                 Traceback (most recent call last)",
      "\u001b[1;32mc:\\Users\\Robki\\All_Python_Here\\Python Projects\\GitHub\\Secretary_problem\\SecretarySim.ipynb Cell 36\u001b[0m in \u001b[0;36m<cell line: 1>\u001b[1;34m()\u001b[0m\n\u001b[1;32m----> <a href='vscode-notebook-cell:/c%3A/Users/Robki/All_Python_Here/Python%20Projects/GitHub/Secretary_problem/SecretarySim.ipynb#X50sZmlsZQ%3D%3D?line=0'>1</a>\u001b[0m test_strategy(\u001b[39m100\u001b[39m,\u001b[39m3\u001b[39m)\n",
      "\u001b[1;31mNameError\u001b[0m: name 'test_strategy' is not defined"
     ]
    }
   ],
   "source": [
    "test_strategy(100,3)"
   ]
  },
  {
   "cell_type": "markdown",
   "id": "7e334976",
   "metadata": {},
   "source": [
    "These results are interesting, we can see that at lower candidate pools, the strategies are somewhat effective. Let us now move on to our proper solution, and the subject of this paper."
   ]
  },
  {
   "cell_type": "markdown",
   "id": "926f71d8",
   "metadata": {},
   "source": [
    "### Explore Exploit Strategy"
   ]
  },
  {
   "cell_type": "code",
   "execution_count": 19,
   "id": "bbf2dbe4",
   "metadata": {},
   "outputs": [],
   "source": [
    "import random\n",
    "import pandas as pd\n",
    "import matplotlib.pyplot as plt\n",
    "\n",
    "def secretary_problem(num_iterations, list_length):\n",
    "    results = []\n",
    "    for i in range(num_iterations):\n",
    "        candidates = list(range(1, list_length+1))\n",
    "        best = max(candidates)\n",
    "        cutoff = random.randint(1, list_length)\n",
    "        selected = max(candidates[:cutoff])\n",
    "        if selected == best:\n",
    "            results.append(1)\n",
    "        else:\n",
    "            results.append(0)\n",
    "    return sum(results) / num_iterations"
   ]
  },
  {
   "cell_type": "code",
   "execution_count": 23,
   "id": "1ffeb36d",
   "metadata": {},
   "outputs": [],
   "source": [
    "def run_simulations():\n",
    "    data = {'Pool Size': [], 'Stop Number': [], 'Success Rate': []}\n",
    "    \n",
    "    for pool_size in range(5, 55, 5):\n",
    "        for stop_nr in range(1, pool_size + 1):\n",
    "            sim_list, success_rate = simulate_strategy(best_of_n, stop_nr, 1000, pool_size)\n",
    "            \n",
    "            data['Pool Size'].append(pool_size)\n",
    "            data['Stop Number'].append(stop_nr)\n",
    "            data['Success Rate'].append(success_rate)\n",
    "    \n",
    "    df = pd.DataFrame(data)\n",
    "    \n",
    "    pivot_table = df.pivot(index='Pool Size', columns='Stop Number', values='Success Rate')\n",
    "    pivot_table = pivot_table.reindex(sorted(pivot_table.columns), axis=1)\n",
    "    \n",
    "    fig, ax = plt.subplots(figsize=(12,8))\n",
    "    ax.set_title('Success Rate by Pool Size and Stop Number')\n",
    "    ax.set_xlabel('Stop Number')\n",
    "    ax.set_ylabel('Pool Size')\n",
    "    im = ax.imshow(pivot_table, cmap='YlGn', aspect='auto')\n",
    "    fig.colorbar(im)\n",
    "    \n",
    "    return df, pivot_table"
   ]
  },
  {
   "cell_type": "code",
   "execution_count": 26,
   "id": "00415033",
   "metadata": {},
   "outputs": [
    {
     "name": "stdout",
     "output_type": "stream",
     "text": [
      "Best candidate selected 21.2% of the time\n",
      "Best candidate selected 41.4% of the time\n",
      "Best candidate selected 33.6% of the time\n",
      "Best candidate selected 20.9% of the time\n",
      "Best candidate selected 19.6% of the time\n",
      "Best candidate selected 11.3% of the time\n",
      "Best candidate selected 29.4% of the time\n",
      "Best candidate selected 33.8% of the time\n",
      "Best candidate selected 24.6% of the time\n",
      "Best candidate selected 13.9% of the time\n",
      "Best candidate selected 10.0% of the time\n",
      "Best candidate selected 10.0% of the time\n",
      "Best candidate selected 9.0% of the time\n",
      "Best candidate selected 10.6% of the time\n",
      "Best candidate selected 8.5% of the time\n",
      "Best candidate selected 6.2% of the time\n",
      "Best candidate selected 21.6% of the time\n",
      "Best candidate selected 31.5% of the time\n",
      "Best candidate selected 25.1% of the time\n",
      "Best candidate selected 16.3% of the time\n",
      "Best candidate selected 8.2% of the time\n",
      "Best candidate selected 7.8% of the time\n",
      "Best candidate selected 6.6% of the time\n",
      "Best candidate selected 6.1% of the time\n",
      "Best candidate selected 5.4% of the time\n",
      "Best candidate selected 6.1% of the time\n",
      "Best candidate selected 7.7% of the time\n",
      "Best candidate selected 5.9% of the time\n",
      "Best candidate selected 7.0% of the time\n",
      "Best candidate selected 6.9% of the time\n",
      "Best candidate selected 5.6% of the time\n",
      "Best candidate selected 15.8% of the time\n",
      "Best candidate selected 29.0% of the time\n",
      "Best candidate selected 25.4% of the time\n",
      "Best candidate selected 17.8% of the time\n",
      "Best candidate selected 10.3% of the time\n",
      "Best candidate selected 6.6% of the time\n",
      "Best candidate selected 4.8% of the time\n",
      "Best candidate selected 6.2% of the time\n",
      "Best candidate selected 5.8% of the time\n",
      "Best candidate selected 5.4% of the time\n",
      "Best candidate selected 3.2% of the time\n",
      "Best candidate selected 5.3% of the time\n",
      "Best candidate selected 3.8% of the time\n",
      "Best candidate selected 3.7% of the time\n",
      "Best candidate selected 6.0% of the time\n",
      "Best candidate selected 5.0% of the time\n",
      "Best candidate selected 5.1% of the time\n",
      "Best candidate selected 5.0% of the time\n",
      "Best candidate selected 3.5% of the time\n",
      "Best candidate selected 3.6% of the time\n",
      "Best candidate selected 17.4% of the time\n",
      "Best candidate selected 24.0% of the time\n",
      "Best candidate selected 25.0% of the time\n",
      "Best candidate selected 21.1% of the time\n",
      "Best candidate selected 10.6% of the time\n",
      "Best candidate selected 5.9% of the time\n",
      "Best candidate selected 4.3% of the time\n",
      "Best candidate selected 4.5% of the time\n",
      "Best candidate selected 3.5% of the time\n",
      "Best candidate selected 4.6% of the time\n",
      "Best candidate selected 3.8% of the time\n",
      "Best candidate selected 3.4% of the time\n",
      "Best candidate selected 4.4% of the time\n",
      "Best candidate selected 3.2% of the time\n",
      "Best candidate selected 4.1% of the time\n",
      "Best candidate selected 5.0% of the time\n",
      "Best candidate selected 4.5% of the time\n",
      "Best candidate selected 5.2% of the time\n",
      "Best candidate selected 3.4% of the time\n",
      "Best candidate selected 5.4% of the time\n",
      "Best candidate selected 4.4% of the time\n",
      "Best candidate selected 2.8% of the time\n",
      "Best candidate selected 4.7% of the time\n",
      "Best candidate selected 4.7% of the time\n",
      "Best candidate selected 4.7% of the time\n",
      "Best candidate selected 13.2% of the time\n",
      "Best candidate selected 23.7% of the time\n",
      "Best candidate selected 26.1% of the time\n",
      "Best candidate selected 20.8% of the time\n",
      "Best candidate selected 12.3% of the time\n",
      "Best candidate selected 6.4% of the time\n",
      "Best candidate selected 5.0% of the time\n",
      "Best candidate selected 4.7% of the time\n",
      "Best candidate selected 2.9% of the time\n",
      "Best candidate selected 3.2% of the time\n",
      "Best candidate selected 3.4% of the time\n",
      "Best candidate selected 3.3% of the time\n",
      "Best candidate selected 4.9% of the time\n",
      "Best candidate selected 3.1% of the time\n",
      "Best candidate selected 3.3% of the time\n",
      "Best candidate selected 3.0% of the time\n",
      "Best candidate selected 4.3% of the time\n",
      "Best candidate selected 3.0% of the time\n",
      "Best candidate selected 3.4% of the time\n",
      "Best candidate selected 3.5% of the time\n",
      "Best candidate selected 4.2% of the time\n",
      "Best candidate selected 3.0% of the time\n",
      "Best candidate selected 3.2% of the time\n",
      "Best candidate selected 3.3% of the time\n",
      "Best candidate selected 2.5% of the time\n",
      "Best candidate selected 3.0% of the time\n",
      "Best candidate selected 2.9% of the time\n",
      "Best candidate selected 3.9% of the time\n",
      "Best candidate selected 3.8% of the time\n",
      "Best candidate selected 3.6% of the time\n",
      "Best candidate selected 10.8% of the time\n",
      "Best candidate selected 23.8% of the time\n",
      "Best candidate selected 25.7% of the time\n",
      "Best candidate selected 22.5% of the time\n",
      "Best candidate selected 13.0% of the time\n",
      "Best candidate selected 7.7% of the time\n",
      "Best candidate selected 5.3% of the time\n",
      "Best candidate selected 2.9% of the time\n",
      "Best candidate selected 2.1% of the time\n",
      "Best candidate selected 3.8% of the time\n",
      "Best candidate selected 3.8% of the time\n",
      "Best candidate selected 3.7% of the time\n",
      "Best candidate selected 3.0% of the time\n",
      "Best candidate selected 3.7% of the time\n",
      "Best candidate selected 3.3% of the time\n",
      "Best candidate selected 2.7% of the time\n",
      "Best candidate selected 2.6% of the time\n",
      "Best candidate selected 2.8% of the time\n",
      "Best candidate selected 2.1% of the time\n",
      "Best candidate selected 2.7% of the time\n",
      "Best candidate selected 3.2% of the time\n",
      "Best candidate selected 3.3% of the time\n",
      "Best candidate selected 2.8% of the time\n",
      "Best candidate selected 3.4% of the time\n",
      "Best candidate selected 2.7% of the time\n",
      "Best candidate selected 2.9% of the time\n",
      "Best candidate selected 3.6% of the time\n",
      "Best candidate selected 3.0% of the time\n",
      "Best candidate selected 2.3% of the time\n",
      "Best candidate selected 3.1% of the time\n",
      "Best candidate selected 2.2% of the time\n",
      "Best candidate selected 3.1% of the time\n",
      "Best candidate selected 2.7% of the time\n",
      "Best candidate selected 2.5% of the time\n",
      "Best candidate selected 2.9% of the time\n",
      "Best candidate selected 10.1% of the time\n",
      "Best candidate selected 21.6% of the time\n",
      "Best candidate selected 25.3% of the time\n",
      "Best candidate selected 21.9% of the time\n",
      "Best candidate selected 15.3% of the time\n",
      "Best candidate selected 8.5% of the time\n",
      "Best candidate selected 5.7% of the time\n",
      "Best candidate selected 3.0% of the time\n",
      "Best candidate selected 2.1% of the time\n",
      "Best candidate selected 2.4% of the time\n",
      "Best candidate selected 2.2% of the time\n",
      "Best candidate selected 2.7% of the time\n",
      "Best candidate selected 2.3% of the time\n",
      "Best candidate selected 2.5% of the time\n",
      "Best candidate selected 1.8% of the time\n",
      "Best candidate selected 2.3% of the time\n",
      "Best candidate selected 2.7% of the time\n",
      "Best candidate selected 2.2% of the time\n",
      "Best candidate selected 2.3% of the time\n",
      "Best candidate selected 2.6% of the time\n",
      "Best candidate selected 2.9% of the time\n",
      "Best candidate selected 2.7% of the time\n",
      "Best candidate selected 1.3% of the time\n",
      "Best candidate selected 3.0% of the time\n",
      "Best candidate selected 2.3% of the time\n",
      "Best candidate selected 2.1% of the time\n",
      "Best candidate selected 2.5% of the time\n",
      "Best candidate selected 3.2% of the time\n",
      "Best candidate selected 2.6% of the time\n",
      "Best candidate selected 2.5% of the time\n",
      "Best candidate selected 2.8% of the time\n",
      "Best candidate selected 1.7% of the time\n",
      "Best candidate selected 2.6% of the time\n",
      "Best candidate selected 2.1% of the time\n",
      "Best candidate selected 2.3% of the time\n",
      "Best candidate selected 2.9% of the time\n",
      "Best candidate selected 2.7% of the time\n",
      "Best candidate selected 2.4% of the time\n",
      "Best candidate selected 2.3% of the time\n",
      "Best candidate selected 2.4% of the time\n",
      "Best candidate selected 9.1% of the time\n",
      "Best candidate selected 21.6% of the time\n",
      "Best candidate selected 22.0% of the time\n",
      "Best candidate selected 22.3% of the time\n",
      "Best candidate selected 15.1% of the time\n",
      "Best candidate selected 8.5% of the time\n",
      "Best candidate selected 5.1% of the time\n",
      "Best candidate selected 2.0% of the time\n",
      "Best candidate selected 2.6% of the time\n",
      "Best candidate selected 2.4% of the time\n",
      "Best candidate selected 2.0% of the time\n",
      "Best candidate selected 2.0% of the time\n",
      "Best candidate selected 1.8% of the time\n",
      "Best candidate selected 2.4% of the time\n",
      "Best candidate selected 2.2% of the time\n",
      "Best candidate selected 1.8% of the time\n",
      "Best candidate selected 2.1% of the time\n",
      "Best candidate selected 2.3% of the time\n",
      "Best candidate selected 1.6% of the time\n",
      "Best candidate selected 2.2% of the time\n",
      "Best candidate selected 2.4% of the time\n",
      "Best candidate selected 1.9% of the time\n",
      "Best candidate selected 1.8% of the time\n",
      "Best candidate selected 2.0% of the time\n",
      "Best candidate selected 1.4% of the time\n",
      "Best candidate selected 1.5% of the time\n",
      "Best candidate selected 2.6% of the time\n",
      "Best candidate selected 2.3% of the time\n",
      "Best candidate selected 2.7% of the time\n",
      "Best candidate selected 1.7% of the time\n",
      "Best candidate selected 2.0% of the time\n",
      "Best candidate selected 2.3% of the time\n",
      "Best candidate selected 2.1% of the time\n",
      "Best candidate selected 2.1% of the time\n",
      "Best candidate selected 2.2% of the time\n",
      "Best candidate selected 1.8% of the time\n",
      "Best candidate selected 2.0% of the time\n",
      "Best candidate selected 2.9% of the time\n",
      "Best candidate selected 2.1% of the time\n",
      "Best candidate selected 2.0% of the time\n",
      "Best candidate selected 2.3% of the time\n",
      "Best candidate selected 2.2% of the time\n",
      "Best candidate selected 2.3% of the time\n",
      "Best candidate selected 1.6% of the time\n",
      "Best candidate selected 1.9% of the time\n",
      "Best candidate selected 9.5% of the time\n",
      "Best candidate selected 18.6% of the time\n",
      "Best candidate selected 21.4% of the time\n",
      "Best candidate selected 20.3% of the time\n",
      "Best candidate selected 15.8% of the time\n",
      "Best candidate selected 8.4% of the time\n",
      "Best candidate selected 3.9% of the time\n",
      "Best candidate selected 3.4% of the time\n",
      "Best candidate selected 1.3% of the time\n",
      "Best candidate selected 2.2% of the time\n",
      "Best candidate selected 2.1% of the time\n",
      "Best candidate selected 1.4% of the time\n",
      "Best candidate selected 1.5% of the time\n",
      "Best candidate selected 2.3% of the time\n",
      "Best candidate selected 1.6% of the time\n",
      "Best candidate selected 1.6% of the time\n",
      "Best candidate selected 2.0% of the time\n",
      "Best candidate selected 1.6% of the time\n",
      "Best candidate selected 1.9% of the time\n",
      "Best candidate selected 2.8% of the time\n",
      "Best candidate selected 2.0% of the time\n",
      "Best candidate selected 1.9% of the time\n",
      "Best candidate selected 1.7% of the time\n",
      "Best candidate selected 1.8% of the time\n",
      "Best candidate selected 1.8% of the time\n",
      "Best candidate selected 1.6% of the time\n",
      "Best candidate selected 1.5% of the time\n",
      "Best candidate selected 1.7% of the time\n",
      "Best candidate selected 1.4% of the time\n",
      "Best candidate selected 2.3% of the time\n",
      "Best candidate selected 1.7% of the time\n",
      "Best candidate selected 1.6% of the time\n",
      "Best candidate selected 2.4% of the time\n",
      "Best candidate selected 2.4% of the time\n",
      "Best candidate selected 1.5% of the time\n",
      "Best candidate selected 2.4% of the time\n",
      "Best candidate selected 1.3% of the time\n",
      "Best candidate selected 2.0% of the time\n",
      "Best candidate selected 3.2% of the time\n",
      "Best candidate selected 1.9% of the time\n",
      "Best candidate selected 1.7% of the time\n",
      "Best candidate selected 2.1% of the time\n",
      "Best candidate selected 3.0% of the time\n",
      "Best candidate selected 1.4% of the time\n",
      "Best candidate selected 1.5% of the time\n",
      "Best candidate selected 1.1% of the time\n",
      "Best candidate selected 2.6% of the time\n",
      "Best candidate selected 2.1% of the time\n",
      "Best candidate selected 1.8% of the time\n"
     ]
    },
    {
     "data": {
      "text/plain": [
       "(     Pool Size  Stop Number  Success Rate\n",
       " 0            5            1          21.2\n",
       " 1            5            2          41.4\n",
       " 2            5            3          33.6\n",
       " 3            5            4          20.9\n",
       " 4            5            5          19.6\n",
       " ..         ...          ...           ...\n",
       " 270         50           46           1.5\n",
       " 271         50           47           1.1\n",
       " 272         50           48           2.6\n",
       " 273         50           49           2.1\n",
       " 274         50           50           1.8\n",
       " \n",
       " [275 rows x 3 columns],\n",
       " Stop Number    1     2     3     4     5     6     7    8     9    10  ...  \\\n",
       " Pool Size                                                              ...   \n",
       " 5            21.2  41.4  33.6  20.9  19.6   NaN   NaN  NaN   NaN  NaN  ...   \n",
       " 10           11.3  29.4  33.8  24.6  13.9  10.0  10.0  9.0  10.6  8.5  ...   \n",
       " 15            6.2  21.6  31.5  25.1  16.3   8.2   7.8  6.6   6.1  5.4  ...   \n",
       " 20            5.6  15.8  29.0  25.4  17.8  10.3   6.6  4.8   6.2  5.8  ...   \n",
       " 25            3.6  17.4  24.0  25.0  21.1  10.6   5.9  4.3   4.5  3.5  ...   \n",
       " 30            4.7  13.2  23.7  26.1  20.8  12.3   6.4  5.0   4.7  2.9  ...   \n",
       " 35            3.6  10.8  23.8  25.7  22.5  13.0   7.7  5.3   2.9  2.1  ...   \n",
       " 40            2.9  10.1  21.6  25.3  21.9  15.3   8.5  5.7   3.0  2.1  ...   \n",
       " 45            2.4   9.1  21.6  22.0  22.3  15.1   8.5  5.1   2.0  2.6  ...   \n",
       " 50            1.9   9.5  18.6  21.4  20.3  15.8   8.4  3.9   3.4  1.3  ...   \n",
       " \n",
       " Stop Number   41   42   43   44   45   46   47   48   49   50  \n",
       " Pool Size                                                      \n",
       " 5            NaN  NaN  NaN  NaN  NaN  NaN  NaN  NaN  NaN  NaN  \n",
       " 10           NaN  NaN  NaN  NaN  NaN  NaN  NaN  NaN  NaN  NaN  \n",
       " 15           NaN  NaN  NaN  NaN  NaN  NaN  NaN  NaN  NaN  NaN  \n",
       " 20           NaN  NaN  NaN  NaN  NaN  NaN  NaN  NaN  NaN  NaN  \n",
       " 25           NaN  NaN  NaN  NaN  NaN  NaN  NaN  NaN  NaN  NaN  \n",
       " 30           NaN  NaN  NaN  NaN  NaN  NaN  NaN  NaN  NaN  NaN  \n",
       " 35           NaN  NaN  NaN  NaN  NaN  NaN  NaN  NaN  NaN  NaN  \n",
       " 40           NaN  NaN  NaN  NaN  NaN  NaN  NaN  NaN  NaN  NaN  \n",
       " 45           2.0  2.3  2.2  2.3  1.6  NaN  NaN  NaN  NaN  NaN  \n",
       " 50           1.9  1.7  2.1  3.0  1.4  1.5  1.1  2.6  2.1  1.8  \n",
       " \n",
       " [10 rows x 50 columns])"
      ]
     },
     "execution_count": 26,
     "metadata": {},
     "output_type": "execute_result"
    },
    {
     "data": {
      "image/png": "[encoded data removed]",
      "text/plain": [
       "<Figure size 432x288 with 1 Axes>"
      ]
     },
     "metadata": {
      "needs_background": "light"
     },
     "output_type": "display_data"
    },
    {
     "data": {
      "image/png": "[encoded data removed]",
      "text/plain": [
       "<Figure size 864x576 with 2 Axes>"
      ]
     },
     "metadata": {
      "needs_background": "light"
     },
     "output_type": "display_data"
    }
   ],
   "source": [
    "run_simulations()"
   ]
  },
  {
   "cell_type": "code",
   "execution_count": 27,
   "id": "d26f97d8",
   "metadata": {},
   "outputs": [],
   "source": [
    "def best_of_n2(stop, pool_len):\n",
    "    # Generate a pool of candidate, number = ordinal rank, shuffle\n",
    "    candidate_ord_pool = [*range(pool_len)]\n",
    "    random.shuffle(candidate_ord_pool)\n",
    "    \n",
    "    # Counting number of candidates\n",
    "    best_candidate_counter = 0\n",
    "    \n",
    "    # Find the index of the best candidate and count the number of times it appears\n",
    "    # before reaching the stop point.\n",
    "    for i in range(stop, pool_len):\n",
    "        if candidate_ord_pool[i] > max(candidate_ord_pool[:i]):\n",
    "            best_candidate_counter += 1\n",
    "            \n",
    "    # Calculate the percentage of times the best candidate was selected\n",
    "    success_rate = round((best_candidate_counter / (pool_len - stop)) * 100, 2)\n",
    "    \n",
    "    return success_rate\n"
   ]
  },
  {
   "cell_type": "code",
   "execution_count": 28,
   "id": "abf39694",
   "metadata": {},
   "outputs": [],
   "source": [
    "\n",
    "\n",
    "def run_simulations(stops, pool_lens, num_simulations):\n",
    "    results = []\n",
    "    \n",
    "    for stop in stops:\n",
    "        for pool_len in pool_lens:\n",
    "            success_rates = []\n",
    "            \n",
    "            for i in range(num_simulations):\n",
    "                success_rate = best_of_n2(stop, pool_len)\n",
    "                success_rates.append(success_rate)\n",
    "            \n",
    "            avg_success_rate = round(sum(success_rates) / num_simulations, 2)\n",
    "            results.append([stop, pool_len, avg_success_rate])\n",
    "    \n",
    "    results_df = pd.DataFrame(results, columns=['Stop', 'Pool Length', 'Success Rate'])\n",
    "    return results_df\n"
   ]
  },
  {
   "cell_type": "code",
   "execution_count": 29,
   "id": "d26baa0a",
   "metadata": {},
   "outputs": [],
   "source": [
    "import matplotlib.pyplot as plt\n",
    "\n",
    "def plot_success_rates(results_df):\n",
    "    stop_values = sorted(results_df['Stop'].unique())\n",
    "    colors = plt.cm.get_cmap('tab10')(stop_values)\n",
    "    \n",
    "    fig, ax = plt.subplots(figsize=(10, 6))\n",
    "    for i, stop in enumerate(stop_values):\n",
    "        stop_results = results_df[results_df['Stop'] == stop]\n",
    "        ax.plot(stop_results['Pool Length'], stop_results['Success Rate'], label=f'Stop: {stop}', color=colors[i])\n",
    "    \n",
    "    ax.set_xlabel('Pool Length')\n",
    "    ax.set_ylabel('Success Rate')\n",
    "    ax.set_title('Secretary Problem Success Rates')\n",
    "    ax.legend()\n",
    "    \n",
    "    plt.show()\n"
   ]
  },
  {
   "cell_type": "code",
   "execution_count": 32,
   "id": "e21d5208",
   "metadata": {},
   "outputs": [],
   "source": [
    "df = run_simulations([3,6,9], [10,100,1000], 100)"
   ]
  },
  {
   "cell_type": "code",
   "execution_count": 33,
   "id": "9e0cb096",
   "metadata": {},
   "outputs": [
    {
     "data": {
      "image/png": "[encoded data removed]",
      "text/plain": [
       "<Figure size 720x432 with 1 Axes>"
      ]
     },
     "metadata": {
      "needs_background": "light"
     },
     "output_type": "display_data"
    }
   ],
   "source": [
    "plot_success_rates(results_df = df)"
   ]
  },
  {
   "cell_type": "code",
   "execution_count": null,
   "id": "1af05c9c",
   "metadata": {},
   "outputs": [],
   "source": []
  }
 ],
 "metadata": {
  "kernelspec": {
   "display_name": "base",
   "language": "python",
   "name": "python3"
  },
  "language_info": {
   "codemirror_mode": {
    "name": "ipython",
    "version": 3
   },
   "file_extension": ".py",
   "mimetype": "text/x-python",
   "name": "python",
   "nbconvert_exporter": "python",
   "pygments_lexer": "ipython3",
   "version": "3.9.12"
  },
  "vscode": {
   "interpreter": {
    "hash": "27ed82d22a0c4cc20030a847cbf89a515e5900b7bf91bed35596f3292196ba0f"
   }
  }
 },
 "nbformat": 4,
 "nbformat_minor": 5
}
