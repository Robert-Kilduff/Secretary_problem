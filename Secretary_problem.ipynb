{
 "cells": [
  {
   "cell_type": "code",
   "execution_count": 3,
   "id": "5794bf6d-9cad-4887-93b2-c0c1c06e04ac",
   "metadata": {},
   "outputs": [],
   "source": [
    "#37% rule\n",
    "#This algorithm is set to solve the secretary problem.\n",
    "#this is a subset of problems concerned with 'which is the best place to stop' \n",
    "# \"Imagine you are interviewing a set of applicants for a position as secretary,and your goal is to maximise the chance of hiring the single best applicant from the pool.\n",
    "# the rules are simple, we cannot know what qualifies someone as best, only a numerical rank relative to others. At any time we can give an offer to the current applicant and they are guaranteed to accept, ending the search, additionally, any applicants who are passed over, cannot be offered."
   ]
  },
  {
   "cell_type": "code",
   "execution_count": 4,
   "id": "3a77b1f7-957f-4358-9178-2faa85924ff1",
   "metadata": {},
   "outputs": [],
   "source": [
    "#we will perform a few strategies before fitting the most optimal, named the 'look then leap' strategy\n",
    "#First we should set up our data."
   ]
  },
  {
   "cell_type": "code",
   "execution_count": 5,
   "id": "cfebbaa1-758b-4065-a473-72a53ab0f27a",
   "metadata": {},
   "outputs": [],
   "source": [
    "#here is our list of applicants, with a name and a rank."
   ]
  },
  {
   "cell_type": "code",
   "execution_count": 1,
   "id": "439f62f0-9151-4fed-a8bd-5e85a858f65f",
   "metadata": {},
   "outputs": [],
   "source": [
    "import numpy as np\n",
    "import names as ns\n",
    "import random\n",
    "import pandas as pd\n",
    "import Strategies as stg\n",
    "import matplotlib as mp\n",
    "from matplotlib import pyplot as plt"
   ]
  },
  {
   "cell_type": "code",
   "execution_count": 2,
   "id": "116da16e",
   "metadata": {},
   "outputs": [],
   "source": [
    "def report(strat_list):\n",
    "    plt.hist(strat_list, density=True, bins = 100)\n",
    "    best_rank = min(strat_list)\n",
    "    print(\"Frequency of best result:\", round((strat_list.count(1)/len(strat_list)*100), 2))"
   ]
  },
  {
   "cell_type": "code",
   "execution_count": 11,
   "id": "056db7f9",
   "metadata": {},
   "outputs": [],
   "source": [
    "best_of_three_winners = []\n",
    "for i in range(0,999):\n",
    "    try:\n",
    "        x = stg.best_of_three()\n",
    "        best_of_three_winners.append(x)\n",
    "    except:\n",
    "        pass"
   ]
  },
  {
   "cell_type": "code",
   "execution_count": 5,
   "id": "51e6a404",
   "metadata": {},
   "outputs": [],
   "source": [
    "best_of_two_winners = []\n",
    "for i in range(0,999):\n",
    "    try:\n",
    "        x = stg.best_of_two()\n",
    "        best_of_two_winners.append(x)\n",
    "    except:\n",
    "        pass\n"
   ]
  },
  {
   "cell_type": "code",
   "execution_count": 10,
   "id": "090bb3c9",
   "metadata": {},
   "outputs": [
    {
     "name": "stdout",
     "output_type": "stream",
     "text": [
      "Frequency of best result: 14.99\n"
     ]
    },
    {
     "data": {
      "image/png": "[encoded data removed]",
      "text/plain": [
       "<Figure size 432x288 with 1 Axes>"
      ]
     },
     "metadata": {
      "needs_background": "light"
     },
     "output_type": "display_data"
    }
   ],
   "source": [
    "report(best_of_two_winners)"
   ]
  },
  {
   "cell_type": "code",
   "execution_count": 12,
   "id": "768ac4b1",
   "metadata": {},
   "outputs": [
    {
     "name": "stdout",
     "output_type": "stream",
     "text": [
      "Frequency of best result: 22.68\n"
     ]
    },
    {
     "data": {
      "image/png": "[encoded data removed]",
      "text/plain": [
       "<Figure size 432x288 with 1 Axes>"
      ]
     },
     "metadata": {
      "needs_background": "light"
     },
     "output_type": "display_data"
    }
   ],
   "source": [
    "report(best_of_three_winners)"
   ]
  },
  {
   "cell_type": "code",
   "execution_count": 3,
   "id": "a724a1bc",
   "metadata": {},
   "outputs": [],
   "source": [
    "best_of_leap_winners = []\n",
    "for i in range(0,999):\n",
    "    try:\n",
    "        x = stg.look_leap(37, 100)\n",
    "        best_of_leap_winners.append(x)\n",
    "    except:\n",
    "        pass"
   ]
  },
  {
   "cell_type": "code",
   "execution_count": 4,
   "id": "e8a0f23b",
   "metadata": {},
   "outputs": [
    {
     "name": "stdout",
     "output_type": "stream",
     "text": [
      "Frequency of best result: 36.9\n"
     ]
    },
    {
     "data": {
      "image/png": "[encoded data removed]",
      "text/plain": [
       "<Figure size 432x288 with 1 Axes>"
      ]
     },
     "metadata": {
      "needs_background": "light"
     },
     "output_type": "display_data"
    }
   ],
   "source": [
    "report(best_of_leap_winners)"
   ]
  },
  {
   "cell_type": "code",
   "execution_count": 3,
   "id": "ee026e3c",
   "metadata": {},
   "outputs": [],
   "source": [
    "#graph to show the probability of the nth candidate being the best\n",
    "def pcbest(n, list):\n",
    "    pc = (1/len(list[:(list.index(n)+1)]))*100\n",
    "    return pc\n"
   ]
  },
  {
   "cell_type": "code",
   "execution_count": 13,
   "id": "9cfd2d7c",
   "metadata": {},
   "outputs": [],
   "source": [
    "range1 = range(0,100)"
   ]
  },
  {
   "cell_type": "code",
   "execution_count": 14,
   "id": "a40d6a6e",
   "metadata": {},
   "outputs": [],
   "source": [
    "lst1 = list(range1)"
   ]
  },
  {
   "cell_type": "code",
   "execution_count": 3,
   "id": "75b9dcd3",
   "metadata": {},
   "outputs": [],
   "source": [
    "percentages = []"
   ]
  },
  {
   "cell_type": "code",
   "execution_count": 6,
   "id": "4829c3a6",
   "metadata": {},
   "outputs": [],
   "source": [
    "for i in range(1,101):\n",
    "    result = pcbest(i,lst1)\n",
    "    percentages.append(result)"
   ]
  },
  {
   "cell_type": "code",
   "execution_count": 3,
   "id": "ec5c027b",
   "metadata": {},
   "outputs": [],
   "source": [
    "from matplotlib import pyplot as plt"
   ]
  },
  {
   "cell_type": "code",
   "execution_count": 12,
   "id": "53c58c07",
   "metadata": {},
   "outputs": [
    {
     "data": {
      "text/plain": [
       "Text(0.5, 1.0, 'Raw % chance of being the best applicant seen so far')"
      ]
     },
     "execution_count": 12,
     "metadata": {},
     "output_type": "execute_result"
    },
    {
     "data": {
      "image/png": "[encoded data removed]",
      "text/plain": [
       "<Figure size 432x288 with 1 Axes>"
      ]
     },
     "metadata": {
      "needs_background": "light"
     },
     "output_type": "display_data"
    }
   ],
   "source": [
    "plt.plot(percentages)\n",
    "plt.xlabel(\"Applicant Interviewed\")\n",
    "plt.ylabel(\"% chance\")\n",
    "plt.title(\"Raw % chance of being the best applicant seen so far\")"
   ]
  },
  {
   "cell_type": "code",
   "execution_count": 13,
   "id": "40860d5e",
   "metadata": {},
   "outputs": [
    {
     "ename": "NameError",
     "evalue": "name 'x' is not defined",
     "output_type": "error",
     "traceback": [
      "\u001b[1;31m---------------------------------------------------------------------------\u001b[0m",
      "\u001b[1;31mNameError\u001b[0m                                 Traceback (most recent call last)",
      "\u001b[1;32mc:\\Users\\Robki\\All_Python_Here\\Python Projects\\GitHub\\Secretary_problem\\Secretary_problem.ipynb Cell 19\u001b[0m in \u001b[0;36m<cell line: 1>\u001b[1;34m()\u001b[0m\n\u001b[1;32m----> <a href='vscode-notebook-cell:/c%3A/Users/Robki/All_Python_Here/Python%20Projects/GitHub/Secretary_problem/Secretary_problem.ipynb#ch0000017?line=0'>1</a>\u001b[0m plt\u001b[39m.\u001b[39mplot(x)\n\u001b[0;32m      <a href='vscode-notebook-cell:/c%3A/Users/Robki/All_Python_Here/Python%20Projects/GitHub/Secretary_problem/Secretary_problem.ipynb#ch0000017?line=1'>2</a>\u001b[0m plt\u001b[39m.\u001b[39mxlabel(\u001b[39m\"\u001b[39m\u001b[39mSize of applicant pool\u001b[39m\u001b[39m\"\u001b[39m)\n\u001b[0;32m      <a href='vscode-notebook-cell:/c%3A/Users/Robki/All_Python_Here/Python%20Projects/GitHub/Secretary_problem/Secretary_problem.ipynb#ch0000017?line=2'>3</a>\u001b[0m plt\u001b[39m.\u001b[39mylabel(\u001b[39m\"\u001b[39m\u001b[39m% c\u001b[39;00m\u001b[39mhance of best applicant chosen\u001b[39m\u001b[39m\"\u001b[39m)\n",
      "\u001b[1;31mNameError\u001b[0m: name 'x' is not defined"
     ]
    }
   ],
   "source": [
    "plt.plot(x)\n",
    "plt.xlabel(\"Size of applicant pool\")\n",
    "plt.ylabel(\"% chance of best applicant chosen\")\n",
    "plt.title(\"Success Rate of Strategies\")\n",
    "\n"
   ]
  },
  {
   "cell_type": "code",
   "execution_count": 4,
   "id": "99275c3b",
   "metadata": {},
   "outputs": [],
   "source": [
    "def success_finder(func, max_passes, steps, stop):\n",
    "    success_list = []\n",
    "    passes = range(0,max_passes) \n",
    "    for i in passes[::steps]: #do x times where x is the nr of times steps goes into max\n",
    "        if i > 0:\n",
    "            results = []\n",
    "            for y in range(0,100):\n",
    "                z = func(stop = stop, list_len = i)\n",
    "                results.append(z)\n",
    "            success_list.append(results)\n",
    "        else:\n",
    "            pass\n",
    "    return success_list\n",
    "\n",
    "\n",
    "\n",
    "    "
   ]
  },
  {
   "cell_type": "code",
   "execution_count": 5,
   "id": "979f5ef5",
   "metadata": {},
   "outputs": [
    {
     "name": "stdout",
     "output_type": "stream",
     "text": [
      "3\n",
      "3\n",
      "3\n",
      "3\n",
      "3\n",
      "3\n",
      "3\n",
      "3\n"
     ]
    },
    {
     "ename": "ValueError",
     "evalue": "min() arg is an empty sequence",
     "output_type": "error",
     "traceback": [
      "\u001b[1;31m---------------------------------------------------------------------------\u001b[0m",
      "\u001b[1;31mValueError\u001b[0m                                Traceback (most recent call last)",
      "\u001b[1;32m<ipython-input-5-84262b8d8a51>\u001b[0m in \u001b[0;36m<module>\u001b[1;34m\u001b[0m\n\u001b[1;32m----> 1\u001b[1;33m \u001b[0msuccess_rate_leap\u001b[0m \u001b[1;33m=\u001b[0m \u001b[0msuccess_finder\u001b[0m\u001b[1;33m(\u001b[0m\u001b[0mstg\u001b[0m\u001b[1;33m.\u001b[0m\u001b[0mlook_leap\u001b[0m\u001b[1;33m,\u001b[0m \u001b[0mmax_passes\u001b[0m\u001b[1;33m=\u001b[0m \u001b[1;36m110\u001b[0m\u001b[1;33m,\u001b[0m \u001b[0msteps\u001b[0m \u001b[1;33m=\u001b[0m \u001b[1;36m10\u001b[0m\u001b[1;33m,\u001b[0m \u001b[0mstop\u001b[0m\u001b[1;33m=\u001b[0m \u001b[1;36m37\u001b[0m\u001b[1;33m)\u001b[0m\u001b[1;33m\u001b[0m\u001b[1;33m\u001b[0m\u001b[0m\n\u001b[0m",
      "\u001b[1;32m<ipython-input-4-3c7449338a48>\u001b[0m in \u001b[0;36msuccess_finder\u001b[1;34m(func, max_passes, steps, stop)\u001b[0m\n\u001b[0;32m      6\u001b[0m             \u001b[0mresults\u001b[0m \u001b[1;33m=\u001b[0m \u001b[1;33m[\u001b[0m\u001b[1;33m]\u001b[0m\u001b[1;33m\u001b[0m\u001b[1;33m\u001b[0m\u001b[0m\n\u001b[0;32m      7\u001b[0m             \u001b[1;32mfor\u001b[0m \u001b[0my\u001b[0m \u001b[1;32min\u001b[0m \u001b[0mrange\u001b[0m\u001b[1;33m(\u001b[0m\u001b[1;36m0\u001b[0m\u001b[1;33m,\u001b[0m\u001b[1;36m100\u001b[0m\u001b[1;33m)\u001b[0m\u001b[1;33m:\u001b[0m\u001b[1;33m\u001b[0m\u001b[1;33m\u001b[0m\u001b[0m\n\u001b[1;32m----> 8\u001b[1;33m                 \u001b[0mz\u001b[0m \u001b[1;33m=\u001b[0m \u001b[0mfunc\u001b[0m\u001b[1;33m(\u001b[0m\u001b[0mstop\u001b[0m \u001b[1;33m=\u001b[0m \u001b[0mstop\u001b[0m\u001b[1;33m,\u001b[0m \u001b[0mlist_len\u001b[0m \u001b[1;33m=\u001b[0m \u001b[0mi\u001b[0m\u001b[1;33m)\u001b[0m\u001b[1;33m\u001b[0m\u001b[1;33m\u001b[0m\u001b[0m\n\u001b[0m\u001b[0;32m      9\u001b[0m                 \u001b[0mresults\u001b[0m\u001b[1;33m.\u001b[0m\u001b[0mappend\u001b[0m\u001b[1;33m(\u001b[0m\u001b[0mz\u001b[0m\u001b[1;33m)\u001b[0m\u001b[1;33m\u001b[0m\u001b[1;33m\u001b[0m\u001b[0m\n\u001b[0;32m     10\u001b[0m             \u001b[0msuccess_list\u001b[0m\u001b[1;33m.\u001b[0m\u001b[0mappend\u001b[0m\u001b[1;33m(\u001b[0m\u001b[0mresults\u001b[0m\u001b[1;33m)\u001b[0m\u001b[1;33m\u001b[0m\u001b[1;33m\u001b[0m\u001b[0m\n",
      "\u001b[1;32mc:\\Users\\Robki\\Documents\\GitHub\\Secretary_problem\\Strategies.py\u001b[0m in \u001b[0;36mlook_leap\u001b[1;34m(stop, list_len)\u001b[0m\n\u001b[0;32m     62\u001b[0m     \u001b[0mpick_group\u001b[0m \u001b[1;33m=\u001b[0m \u001b[0mlst\u001b[0m\u001b[1;33m[\u001b[0m\u001b[0mstop_nr\u001b[0m\u001b[1;33m:\u001b[0m\u001b[1;33m]\u001b[0m\u001b[1;33m\u001b[0m\u001b[1;33m\u001b[0m\u001b[0m\n\u001b[0;32m     63\u001b[0m     \u001b[1;32mfor\u001b[0m \u001b[0mi\u001b[0m \u001b[1;32min\u001b[0m \u001b[0mpick_group\u001b[0m\u001b[1;33m:\u001b[0m\u001b[1;33m\u001b[0m\u001b[1;33m\u001b[0m\u001b[0m\n\u001b[1;32m---> 64\u001b[1;33m         \u001b[1;32mif\u001b[0m \u001b[0mi\u001b[0m \u001b[1;33m<\u001b[0m \u001b[0mmin\u001b[0m\u001b[1;33m(\u001b[0m\u001b[0mwait_group\u001b[0m\u001b[1;33m)\u001b[0m \u001b[1;32mand\u001b[0m \u001b[0mi\u001b[0m \u001b[1;33m<=\u001b[0m \u001b[0mmin\u001b[0m\u001b[1;33m(\u001b[0m\u001b[0mpick_group\u001b[0m\u001b[1;33m[\u001b[0m\u001b[1;36m0\u001b[0m\u001b[1;33m:\u001b[0m\u001b[0mpick_group\u001b[0m\u001b[1;33m.\u001b[0m\u001b[0mindex\u001b[0m\u001b[1;33m(\u001b[0m\u001b[0mi\u001b[0m\u001b[1;33m)\u001b[0m\u001b[1;33m]\u001b[0m\u001b[1;33m)\u001b[0m\u001b[1;33m:\u001b[0m\u001b[1;33m\u001b[0m\u001b[1;33m\u001b[0m\u001b[0m\n\u001b[0m\u001b[0;32m     65\u001b[0m             \u001b[1;32mreturn\u001b[0m \u001b[0mi\u001b[0m\u001b[1;33m\u001b[0m\u001b[1;33m\u001b[0m\u001b[0m\n\u001b[0;32m     66\u001b[0m         \u001b[1;32melse\u001b[0m\u001b[1;33m:\u001b[0m\u001b[1;33m\u001b[0m\u001b[1;33m\u001b[0m\u001b[0m\n",
      "\u001b[1;31mValueError\u001b[0m: min() arg is an empty sequence"
     ]
    }
   ],
   "source": [
    "success_rate_leap = success_finder(stg.look_leap, max_passes= 110, steps = 10, stop= 37)"
   ]
  },
  {
   "cell_type": "code",
   "execution_count": 5,
   "id": "0eadc1e9",
   "metadata": {},
   "outputs": [
    {
     "data": {
      "text/plain": [
       "[0, 0, 0, 0, 1, 1, 1, 0, 0]"
      ]
     },
     "execution_count": 5,
     "metadata": {},
     "output_type": "execute_result"
    }
   ],
   "source": [
    "success_rate_leap"
   ]
  },
  {
   "cell_type": "code",
   "execution_count": null,
   "id": "98952b57",
   "metadata": {},
   "outputs": [],
   "source": []
  }
 ],
 "metadata": {
  "kernelspec": {
   "display_name": "Python 3.8.5 ('base')",
   "language": "python",
   "name": "python3"
  },
  "language_info": {
   "codemirror_mode": {
    "name": "ipython",
    "version": 3
   },
   "file_extension": ".py",
   "mimetype": "text/x-python",
   "name": "python",
   "nbconvert_exporter": "python",
   "pygments_lexer": "ipython3",
   "version": "3.8.5"
  },
  "vscode": {
   "interpreter": {
    "hash": "d900c5e6dc9c57f3f3108993486833c8ba6bd6ebdf38eeb8029a40ca2ab94232"
   }
  }
 },
 "nbformat": 4,
 "nbformat_minor": 5
}
