{
 "cells": [
  {
   "cell_type": "code",
   "execution_count": 3,
   "id": "5794bf6d-9cad-4887-93b2-c0c1c06e04ac",
   "metadata": {},
   "outputs": [],
   "source": [
    "#37% rule\n",
    "#This algorithm is set to solve the secretary problem.\n",
    "#this is a subset of problems concerned with 'which is the best place to stop' \n",
    "# \"Imagine you are interviewing a set of applicants for a position as secretary,and your goal is to maximise the chance of hiring the single best applicant from the pool.\n",
    "# the rules are simple, we cannot know what qualifies someone as best, only a numerical rank relative to others. At any time we can give an offer to the current applicant and they are guaranteed to accept, ending the search, additionally, any applicants who are passed over, cannot be offered."
   ]
  },
  {
   "cell_type": "code",
   "execution_count": 4,
   "id": "3a77b1f7-957f-4358-9178-2faa85924ff1",
   "metadata": {},
   "outputs": [],
   "source": [
    "#we will perform a few strategies before fitting the most optimal, named the 'look then leap' strategy\n",
    "#First we should set up our data."
   ]
  },
  {
   "cell_type": "code",
   "execution_count": 5,
   "id": "cfebbaa1-758b-4065-a473-72a53ab0f27a",
   "metadata": {},
   "outputs": [],
   "source": [
    "#here is our list of applicants, with a name and a rank."
   ]
  },
  {
   "cell_type": "code",
   "execution_count": 2,
   "id": "439f62f0-9151-4fed-a8bd-5e85a858f65f",
   "metadata": {},
   "outputs": [],
   "source": [
    "import numpy as np\n",
    "import names as ns\n",
    "import random\n",
    "import pandas as pd\n",
    "import Strategies as stg\n",
    "import matplotlib as mp\n",
    "from matplotlib import pyplot as plt\n",
    "import json"
   ]
  },
  {
   "cell_type": "code",
   "execution_count": 3,
   "id": "116da16e",
   "metadata": {},
   "outputs": [],
   "source": [
    "def report(strat_list):\n",
    "    plt.hist(strat_list, density=True, bins = 100)\n",
    "    best_rank = min(strat_list)\n",
    "    print(\"Frequency of best result:\", round((strat_list.count(1)/len(strat_list)*100), 2))"
   ]
  },
  {
   "cell_type": "code",
   "execution_count": 3,
   "id": "056db7f9",
   "metadata": {},
   "outputs": [],
   "source": [
    "best_of_three_winners = []\n",
    "for i in range(0,999):\n",
    "    try:\n",
    "        x = stg.best_of_three()\n",
    "        best_of_three_winners.append(x)\n",
    "    except:\n",
    "        pass"
   ]
  },
  {
   "cell_type": "code",
   "execution_count": 5,
   "id": "51e6a404",
   "metadata": {},
   "outputs": [],
   "source": [
    "best_of_two_winners = []\n",
    "for i in range(0,999):\n",
    "    try:\n",
    "        x = stg.best_of_two()\n",
    "        best_of_two_winners.append(x)\n",
    "    except:\n",
    "        pass\n"
   ]
  },
  {
   "cell_type": "code",
   "execution_count": 10,
   "id": "090bb3c9",
   "metadata": {},
   "outputs": [
    {
     "name": "stdout",
     "output_type": "stream",
     "text": [
      "Frequency of best result: 14.99\n"
     ]
    },
    {
     "data": {
      "image/png": "[encoded data removed]",
      "text/plain": [
       "<Figure size 432x288 with 1 Axes>"
      ]
     },
     "metadata": {
      "needs_background": "light"
     },
     "output_type": "display_data"
    }
   ],
   "source": [
    "report(best_of_two_winners)"
   ]
  },
  {
   "cell_type": "code",
   "execution_count": 12,
   "id": "768ac4b1",
   "metadata": {},
   "outputs": [
    {
     "name": "stdout",
     "output_type": "stream",
     "text": [
      "Frequency of best result: 22.68\n"
     ]
    },
    {
     "data": {
      "image/png": "[encoded data removed]",
      "text/plain": [
       "<Figure size 432x288 with 1 Axes>"
      ]
     },
     "metadata": {
      "needs_background": "light"
     },
     "output_type": "display_data"
    }
   ],
   "source": [
    "report(best_of_three_winners)"
   ]
  },
  {
   "cell_type": "code",
   "execution_count": 3,
   "id": "a724a1bc",
   "metadata": {},
   "outputs": [],
   "source": [
    "best_of_leap_winners = []\n",
    "for i in range(0,999):\n",
    "    try:\n",
    "        x = stg.look_leap(37, 100)\n",
    "        best_of_leap_winners.append(x)\n",
    "    except:\n",
    "        pass"
   ]
  },
  {
   "cell_type": "code",
   "execution_count": 4,
   "id": "e8a0f23b",
   "metadata": {},
   "outputs": [
    {
     "name": "stdout",
     "output_type": "stream",
     "text": [
      "Frequency of best result: 36.9\n"
     ]
    },
    {
     "data": {
      "image/png": "[encoded data removed]",
      "text/plain": [
       "<Figure size 432x288 with 1 Axes>"
      ]
     },
     "metadata": {
      "needs_background": "light"
     },
     "output_type": "display_data"
    }
   ],
   "source": [
    "report(best_of_leap_winners)"
   ]
  },
  {
   "cell_type": "code",
   "execution_count": 3,
   "id": "ee026e3c",
   "metadata": {},
   "outputs": [],
   "source": [
    "#graph to show the probability of the nth candidate being the best\n",
    "def pcbest(n, list):\n",
    "    pc = (1/len(list[:(list.index(n)+1)]))*100\n",
    "    return pc\n"
   ]
  },
  {
   "cell_type": "code",
   "execution_count": 13,
   "id": "9cfd2d7c",
   "metadata": {},
   "outputs": [],
   "source": [
    "range1 = range(0,100)"
   ]
  },
  {
   "cell_type": "code",
   "execution_count": 14,
   "id": "a40d6a6e",
   "metadata": {},
   "outputs": [],
   "source": [
    "lst1 = list(range1)"
   ]
  },
  {
   "cell_type": "code",
   "execution_count": 3,
   "id": "75b9dcd3",
   "metadata": {},
   "outputs": [],
   "source": [
    "percentages = []"
   ]
  },
  {
   "cell_type": "code",
   "execution_count": 6,
   "id": "4829c3a6",
   "metadata": {},
   "outputs": [],
   "source": [
    "for i in range(1,101):\n",
    "    result = pcbest(i,lst1)\n",
    "    percentages.append(result)"
   ]
  },
  {
   "cell_type": "code",
   "execution_count": 3,
   "id": "d0dcda6e",
   "metadata": {},
   "outputs": [
    {
     "ename": "TypeError",
     "evalue": "shuffle() got an unexpected keyword argument 'candidate_ord_pool'",
     "output_type": "error",
     "traceback": [
      "\u001b[1;31m---------------------------------------------------------------------------\u001b[0m",
      "\u001b[1;31mTypeError\u001b[0m                                 Traceback (most recent call last)",
      "\u001b[1;32mc:\\Users\\Robki\\All_Python_Here\\Python Projects\\GitHub\\Secretary_problem\\Secretary_problem.ipynb Cell 17\u001b[0m in \u001b[0;36m<cell line: 2>\u001b[1;34m()\u001b[0m\n\u001b[0;32m      <a href='vscode-notebook-cell:/c%3A/Users/Robki/All_Python_Here/Python%20Projects/GitHub/Secretary_problem/Secretary_problem.ipynb#X43sZmlsZQ%3D%3D?line=0'>1</a>\u001b[0m \u001b[39mimport\u001b[39;00m \u001b[39mrandom\u001b[39;00m\n\u001b[1;32m----> <a href='vscode-notebook-cell:/c%3A/Users/Robki/All_Python_Here/Python%20Projects/GitHub/Secretary_problem/Secretary_problem.ipynb#X43sZmlsZQ%3D%3D?line=1'>2</a>\u001b[0m random\u001b[39m.\u001b[39;49mshuffle(candidate_ord_pool \u001b[39m=\u001b[39;49m [i \u001b[39mfor\u001b[39;49;00m i \u001b[39min\u001b[39;49;00m \u001b[39mrange\u001b[39;49m(\u001b[39m0\u001b[39;49m,\u001b[39m10\u001b[39;49m)])\n\u001b[0;32m      <a href='vscode-notebook-cell:/c%3A/Users/Robki/All_Python_Here/Python%20Projects/GitHub/Secretary_problem/Secretary_problem.ipynb#X43sZmlsZQ%3D%3D?line=2'>3</a>\u001b[0m cand \u001b[39m=\u001b[39m \u001b[39m0\u001b[39m\n\u001b[0;32m      <a href='vscode-notebook-cell:/c%3A/Users/Robki/All_Python_Here/Python%20Projects/GitHub/Secretary_problem/Secretary_problem.ipynb#X43sZmlsZQ%3D%3D?line=3'>4</a>\u001b[0m \u001b[39mfor\u001b[39;00m i \u001b[39min\u001b[39;00m candidate_ord_pool:\n",
      "\u001b[1;31mTypeError\u001b[0m: shuffle() got an unexpected keyword argument 'candidate_ord_pool'"
     ]
    }
   ],
   "source": [
    "import random\n",
    "random.shuffle(candidate_ord_pool = [i for i in range(0,10)])\n",
    "cand = 0\n",
    "for i in candidate_ord_pool:\n",
    "    print(i)\n",
    "    \n",
    "\n"
   ]
  },
  {
   "cell_type": "code",
   "execution_count": 12,
   "id": "53c58c07",
   "metadata": {},
   "outputs": [
    {
     "data": {
      "text/plain": [
       "Text(0.5, 1.0, 'Raw % chance of being the best applicant seen so far')"
      ]
     },
     "execution_count": 12,
     "metadata": {},
     "output_type": "execute_result"
    },
    {
     "data": {
      "image/png": "[encoded data removed]",
      "text/plain": [
       "<Figure size 432x288 with 1 Axes>"
      ]
     },
     "metadata": {
      "needs_background": "light"
     },
     "output_type": "display_data"
    }
   ],
   "source": [
    "plt.plot(percentages)\n",
    "plt.xlabel(\"Applicant Interviewed\")\n",
    "plt.ylabel(\"% chance\")\n",
    "plt.title(\"Raw % chance of being the best applicant seen so far\")"
   ]
  },
  {
   "cell_type": "code",
   "execution_count": 4,
   "id": "99275c3b",
   "metadata": {},
   "outputs": [],
   "source": [
    "def success_finder(func, max_passes, steps, stop):\n",
    "    success_list = []\n",
    "    success_finder.passes = list(range(steps,max_passes+steps, steps)) # create a list with a range between 0 and the max_nr stated, incrementing in steps of 'steps' passed from func\n",
    "    for a in success_finder.passes:\n",
    "        if a > 0:\n",
    "            results = []\n",
    "            for y in range(0,100): #do below 100 times\n",
    "                z = func(stop = stop, list_len = a)\n",
    "                results.append(z)\n",
    "\n",
    "            \n",
    "            success_list.append(results)\n",
    "        else:\n",
    "            pass\n",
    "    print(\"finish at pass, iteration\", a, y)\n",
    "    return success_list\n",
    "\n",
    "\n",
    "\n",
    "    "
   ]
  },
  {
   "cell_type": "code",
   "execution_count": 5,
   "id": "979f5ef5",
   "metadata": {},
   "outputs": [
    {
     "name": "stdout",
     "output_type": "stream",
     "text": [
      "finish at pass, iteration 10000 99\n"
     ]
    }
   ],
   "source": [
    "success_rate_leap = success_finder(stg.look_leap, max_passes= 10000, steps = 100, stop= 37)\n"
   ]
  },
  {
   "cell_type": "code",
   "execution_count": 8,
   "id": "be3eb991",
   "metadata": {},
   "outputs": [],
   "source": [
    "import csv\n",
    "\n",
    "with open(\"out.csv\", \"w\") as f:\n",
    "    wr = csv.writer(f)\n",
    "    wr.writerows(success_rate_leap)"
   ]
  },
  {
   "cell_type": "code",
   "execution_count": 9,
   "id": "7fbb5fbf",
   "metadata": {},
   "outputs": [],
   "source": [
    "d = dict(zip(success_finder.passes, success_rate_leap))\n"
   ]
  },
  {
   "cell_type": "code",
   "execution_count": 10,
   "id": "ab2a1c4b",
   "metadata": {},
   "outputs": [],
   "source": [
    "df = pd.DataFrame(d)"
   ]
  },
  {
   "cell_type": "code",
   "execution_count": 13,
   "id": "45b643a2",
   "metadata": {},
   "outputs": [
    {
     "data": {
      "text/html": [
       "<div>\n",
       "<style scoped>\n",
       "    .dataframe tbody tr th:only-of-type {\n",
       "        vertical-align: middle;\n",
       "    }\n",
       "\n",
       "    .dataframe tbody tr th {\n",
       "        vertical-align: top;\n",
       "    }\n",
       "\n",
       "    .dataframe thead th {\n",
       "        text-align: right;\n",
       "    }\n",
       "</style>\n",
       "<table border=\"1\" class=\"dataframe\">\n",
       "  <thead>\n",
       "    <tr style=\"text-align: right;\">\n",
       "      <th></th>\n",
       "      <th>100</th>\n",
       "      <th>200</th>\n",
       "      <th>300</th>\n",
       "      <th>400</th>\n",
       "      <th>500</th>\n",
       "      <th>600</th>\n",
       "      <th>700</th>\n",
       "      <th>800</th>\n",
       "      <th>900</th>\n",
       "      <th>1000</th>\n",
       "      <th>...</th>\n",
       "      <th>9100</th>\n",
       "      <th>9200</th>\n",
       "      <th>9300</th>\n",
       "      <th>9400</th>\n",
       "      <th>9500</th>\n",
       "      <th>9600</th>\n",
       "      <th>9700</th>\n",
       "      <th>9800</th>\n",
       "      <th>9900</th>\n",
       "      <th>10000</th>\n",
       "    </tr>\n",
       "  </thead>\n",
       "  <tbody>\n",
       "    <tr>\n",
       "      <th>0</th>\n",
       "      <td>0</td>\n",
       "      <td>1</td>\n",
       "      <td>0</td>\n",
       "      <td>1</td>\n",
       "      <td>0</td>\n",
       "      <td>100</td>\n",
       "      <td>0</td>\n",
       "      <td>2</td>\n",
       "      <td>0</td>\n",
       "      <td>100</td>\n",
       "      <td>...</td>\n",
       "      <td>1</td>\n",
       "      <td>0</td>\n",
       "      <td>3</td>\n",
       "      <td>4</td>\n",
       "      <td>100</td>\n",
       "      <td>0</td>\n",
       "      <td>1</td>\n",
       "      <td>0</td>\n",
       "      <td>5</td>\n",
       "      <td>0</td>\n",
       "    </tr>\n",
       "    <tr>\n",
       "      <th>1</th>\n",
       "      <td>0</td>\n",
       "      <td>0</td>\n",
       "      <td>2</td>\n",
       "      <td>100</td>\n",
       "      <td>0</td>\n",
       "      <td>100</td>\n",
       "      <td>100</td>\n",
       "      <td>3</td>\n",
       "      <td>1</td>\n",
       "      <td>0</td>\n",
       "      <td>...</td>\n",
       "      <td>100</td>\n",
       "      <td>0</td>\n",
       "      <td>1</td>\n",
       "      <td>0</td>\n",
       "      <td>2</td>\n",
       "      <td>100</td>\n",
       "      <td>0</td>\n",
       "      <td>100</td>\n",
       "      <td>100</td>\n",
       "      <td>1</td>\n",
       "    </tr>\n",
       "    <tr>\n",
       "      <th>2</th>\n",
       "      <td>100</td>\n",
       "      <td>0</td>\n",
       "      <td>0</td>\n",
       "      <td>2</td>\n",
       "      <td>100</td>\n",
       "      <td>0</td>\n",
       "      <td>100</td>\n",
       "      <td>100</td>\n",
       "      <td>100</td>\n",
       "      <td>0</td>\n",
       "      <td>...</td>\n",
       "      <td>100</td>\n",
       "      <td>100</td>\n",
       "      <td>1</td>\n",
       "      <td>0</td>\n",
       "      <td>100</td>\n",
       "      <td>1</td>\n",
       "      <td>1</td>\n",
       "      <td>4</td>\n",
       "      <td>0</td>\n",
       "      <td>0</td>\n",
       "    </tr>\n",
       "    <tr>\n",
       "      <th>3</th>\n",
       "      <td>0</td>\n",
       "      <td>4</td>\n",
       "      <td>0</td>\n",
       "      <td>100</td>\n",
       "      <td>0</td>\n",
       "      <td>100</td>\n",
       "      <td>1</td>\n",
       "      <td>0</td>\n",
       "      <td>100</td>\n",
       "      <td>100</td>\n",
       "      <td>...</td>\n",
       "      <td>100</td>\n",
       "      <td>100</td>\n",
       "      <td>0</td>\n",
       "      <td>0</td>\n",
       "      <td>100</td>\n",
       "      <td>1</td>\n",
       "      <td>0</td>\n",
       "      <td>100</td>\n",
       "      <td>0</td>\n",
       "      <td>2</td>\n",
       "    </tr>\n",
       "    <tr>\n",
       "      <th>4</th>\n",
       "      <td>1</td>\n",
       "      <td>1</td>\n",
       "      <td>0</td>\n",
       "      <td>0</td>\n",
       "      <td>100</td>\n",
       "      <td>100</td>\n",
       "      <td>0</td>\n",
       "      <td>100</td>\n",
       "      <td>0</td>\n",
       "      <td>100</td>\n",
       "      <td>...</td>\n",
       "      <td>1</td>\n",
       "      <td>0</td>\n",
       "      <td>100</td>\n",
       "      <td>1</td>\n",
       "      <td>100</td>\n",
       "      <td>100</td>\n",
       "      <td>0</td>\n",
       "      <td>4</td>\n",
       "      <td>0</td>\n",
       "      <td>0</td>\n",
       "    </tr>\n",
       "  </tbody>\n",
       "</table>\n",
       "<p>5 rows × 100 columns</p>\n",
       "</div>"
      ],
      "text/plain": [
       "   100    200    300    400    500    600    700    800    900    1000   ...  \\\n",
       "0      0      1      0      1      0    100      0      2      0    100  ...   \n",
       "1      0      0      2    100      0    100    100      3      1      0  ...   \n",
       "2    100      0      0      2    100      0    100    100    100      0  ...   \n",
       "3      0      4      0    100      0    100      1      0    100    100  ...   \n",
       "4      1      1      0      0    100    100      0    100      0    100  ...   \n",
       "\n",
       "   9100   9200   9300   9400   9500   9600   9700   9800   9900   10000  \n",
       "0      1      0      3      4    100      0      1      0      5      0  \n",
       "1    100      0      1      0      2    100      0    100    100      1  \n",
       "2    100    100      1      0    100      1      1      4      0      0  \n",
       "3    100    100      0      0    100      1      0    100      0      2  \n",
       "4      1      0    100      1    100    100      0      4      0      0  \n",
       "\n",
       "[5 rows x 100 columns]"
      ]
     },
     "execution_count": 13,
     "metadata": {},
     "output_type": "execute_result"
    }
   ],
   "source": [
    "df."
   ]
  },
  {
   "cell_type": "code",
   "execution_count": 11,
   "id": "fe75e81a",
   "metadata": {},
   "outputs": [],
   "source": [
    "pc_dict = {}\n",
    "for i in df:\n",
    "    pc_dict[str(i)] = (df[i] == 0).sum()\n",
    "\n",
    "    "
   ]
  },
  {
   "cell_type": "code",
   "execution_count": 20,
   "id": "fdb9af32",
   "metadata": {},
   "outputs": [
    {
     "data": {
      "text/plain": [
       "{'100': 40,\n",
       " '200': 33,\n",
       " '300': 40,\n",
       " '400': 29,\n",
       " '500': 37,\n",
       " '600': 43,\n",
       " '700': 35,\n",
       " '800': 43,\n",
       " '900': 39,\n",
       " '1000': 34,\n",
       " '1100': 38,\n",
       " '1200': 32,\n",
       " '1300': 46,\n",
       " '1400': 44,\n",
       " '1500': 27,\n",
       " '1600': 34,\n",
       " '1700': 28,\n",
       " '1800': 39,\n",
       " '1900': 42,\n",
       " '2000': 39,\n",
       " '2100': 33,\n",
       " '2200': 35,\n",
       " '2300': 38,\n",
       " '2400': 35,\n",
       " '2500': 38,\n",
       " '2600': 41,\n",
       " '2700': 38,\n",
       " '2800': 36,\n",
       " '2900': 41,\n",
       " '3000': 37,\n",
       " '3100': 42,\n",
       " '3200': 42,\n",
       " '3300': 34,\n",
       " '3400': 34,\n",
       " '3500': 31,\n",
       " '3600': 40,\n",
       " '3700': 39,\n",
       " '3800': 40,\n",
       " '3900': 34,\n",
       " '4000': 33,\n",
       " '4100': 35,\n",
       " '4200': 32,\n",
       " '4300': 41,\n",
       " '4400': 38,\n",
       " '4500': 35,\n",
       " '4600': 30,\n",
       " '4700': 34,\n",
       " '4800': 35,\n",
       " '4900': 37,\n",
       " '5000': 26,\n",
       " '5100': 41,\n",
       " '5200': 35,\n",
       " '5300': 37,\n",
       " '5400': 42,\n",
       " '5500': 29,\n",
       " '5600': 37,\n",
       " '5700': 37,\n",
       " '5800': 39,\n",
       " '5900': 37,\n",
       " '6000': 38,\n",
       " '6100': 36,\n",
       " '6200': 34,\n",
       " '6300': 31,\n",
       " '6400': 38,\n",
       " '6500': 34,\n",
       " '6600': 26,\n",
       " '6700': 36,\n",
       " '6800': 37,\n",
       " '6900': 37,\n",
       " '7000': 32,\n",
       " '7100': 36,\n",
       " '7200': 33,\n",
       " '7300': 36,\n",
       " '7400': 37,\n",
       " '7500': 41,\n",
       " '7600': 32,\n",
       " '7700': 28,\n",
       " '7800': 30,\n",
       " '7900': 35,\n",
       " '8000': 47,\n",
       " '8100': 43,\n",
       " '8200': 34,\n",
       " '8300': 39,\n",
       " '8400': 43,\n",
       " '8500': 39,\n",
       " '8600': 36,\n",
       " '8700': 39,\n",
       " '8800': 29,\n",
       " '8900': 35,\n",
       " '9000': 45,\n",
       " '9100': 34,\n",
       " '9200': 38,\n",
       " '9300': 34,\n",
       " '9400': 40,\n",
       " '9500': 32,\n",
       " '9600': 40,\n",
       " '9700': 40,\n",
       " '9800': 45,\n",
       " '9900': 39,\n",
       " '10000': 40}"
      ]
     },
     "execution_count": 20,
     "metadata": {},
     "output_type": "execute_result"
    }
   ],
   "source": [
    "pc_dict"
   ]
  },
  {
   "cell_type": "code",
   "execution_count": 24,
   "id": "5f079101",
   "metadata": {},
   "outputs": [],
   "source": [
    "pd.DataFrame(pc_dict, index = list(range(0, len(pc_dict)))).to_csv(\"percentage_success.csv\")"
   ]
  },
  {
   "cell_type": "code",
   "execution_count": 12,
   "id": "c1b69102",
   "metadata": {},
   "outputs": [
    {
     "data": {
      "image/png": "[encoded data removed]",
      "text/plain": [
       "<Figure size 432x288 with 1 Axes>"
      ]
     },
     "metadata": {
      "needs_background": "light"
     },
     "output_type": "display_data"
    }
   ],
   "source": [
    "names = list(pc_dict.keys())\n",
    "values = list(pc_dict.values())\n",
    "\n",
    "plt.bar(range(len(pc_dict)), values, tick_label=names)\n",
    "plt.xlabel(\"Nr of Applicants\")\n",
    "plt.ylabel(\"% best applicant chosen\")\n",
    "plt.title(\"Success rates against applicant pool\")\n",
    "plt.show()"
   ]
  },
  {
   "cell_type": "code",
   "execution_count": 26,
   "id": "d6c564d0",
   "metadata": {},
   "outputs": [],
   "source": [
    "#-------------"
   ]
  },
  {
   "cell_type": "code",
   "execution_count": 1,
   "id": "6f4c7628",
   "metadata": {},
   "outputs": [
    {
     "ename": "NameError",
     "evalue": "name 'names' is not defined",
     "output_type": "error",
     "traceback": [
      "\u001b[1;31m---------------------------------------------------------------------------\u001b[0m",
      "\u001b[1;31mNameError\u001b[0m                                 Traceback (most recent call last)",
      "\u001b[1;32mc:\\Users\\Robki\\All_Python_Here\\Python Projects\\GitHub\\Secretary_problem\\Secretary_problem.ipynb Cell 26\u001b[0m in \u001b[0;36m<cell line: 1>\u001b[1;34m()\u001b[0m\n\u001b[1;32m----> <a href='vscode-notebook-cell:/c%3A/Users/Robki/All_Python_Here/Python%20Projects/GitHub/Secretary_problem/Secretary_problem.ipynb#X35sZmlsZQ%3D%3D?line=0'>1</a>\u001b[0m names\n",
      "\u001b[1;31mNameError\u001b[0m: name 'names' is not defined"
     ]
    }
   ],
   "source": [
    "names"
   ]
  },
  {
   "cell_type": "code",
   "execution_count": null,
   "id": "05929f41",
   "metadata": {},
   "outputs": [],
   "source": [
    "import plotly.graph_objs as go\n",
    "from plotly.subplots import make_subplots\n",
    "import numpy as np\n",
    "\n",
    "def run_best_of_n_for_different_pool_lens(stops, pool_lens, trials, best_of_n_func):\n",
    "    # Initialize counters for the number of times the best candidate is chosen and the total number of trials\n",
    "    best_candidate_count = np.zeros(len(pool_lens))\n",
    "    total_trials = 0\n",
    "\n",
    "    # Run the strategy for different pool lengths and stopping points\n",
    "    for i in range(len(pool_lens)):\n",
    "        for j in range(trials):\n",
    "            for stop in stops:\n",
    "                if best_of_n_func(stop, [pool_lens[i]]):\n",
    "                    best_candidate_count[i] += 1\n",
    "            total_trials += len(stops)\n",
    "\n",
    "    # Compute the percentage of times the best candidate was chosen\n",
    "    best_candidate_percentage = 100 * best_candidate_count / total_trials\n",
    "\n",
    "    # Create the interactive graph\n",
    "    fig = make_subplots(specs=[[{\"secondary_y\": True}]])\n",
    "    fig.add_trace(go.Scatter(x=pool_lens, y=best_candidate_percentage, name='Percentage of times the best candidate was chosen'), secondary_y=False)\n",
    "    fig.update_layout(title='Best Candidate Percentage for Different Pool Lengths and Stopping Points',\n",
    "                      xaxis_title='Pool Length',\n",
    "                      yaxis_title='Best Candidate Percentage',\n",
    "                      yaxis2=dict(title='Percentage', overlaying='y', side='right'))\n",
    "\n",
    "    # Add sliders for pool_len and stop values\n",
    "    fig.update_layout(\n",
    "        sliders=[\n",
    "            dict(\n",
    "                active=len(pool_lens) - 1,\n",
    "                currentvalue={\"prefix\": \"Pool Length: \"},\n",
    "                pad={\"t\": 50},\n",
    "                steps=[{\"label\": str(pl), \"method\": \"update\", \"args\": [{\"visible\": [i == j for j in range(len(pool_lens))]},{\"title\": \"Best Candidate Percentage for Different Pool Lengths and Stopping Points\", \"xaxis\": {\"title\": \"Pool Length\"}, \"yaxis\": {\"title\": \"Best Candidate Percentage\"}}]} for i, pl in enumerate(pool_lens)],\n",
    "            ),\n",
    "            dict(\n",
    "                active=len(stops) - 1,\n",
    "                currentvalue={\"prefix\": \"Stop: \"},\n",
    "                pad={\"t\": 50},\n",
    "                steps=[{\"label\": str(s), \"method\": \"update\", \"args\": [{\"y\": [best_candidate_percentage if k == 0 else [best_of_n_func(s, [pl])*100/total_trials if j == i else y for j, y in enumerate(best_candidate_percentage)] for k, pl in enumerate(pool_lens)]},{\"title\": \"Best Candidate Percentage for Different Pool Lengths and Stopping Points\", \"xaxis\": {\"title\": \"Pool Length\"}, \"yaxis\": {\"title\": \"Best Candidate Percentage\"}}]} for i, s in enumerate(stops)]\n",
    "            )\n",
    "            ]\n",
    "    )\n",
    "\n",
    "    fig.show()\n"
   ]
  }
 ],
 "metadata": {
  "kernelspec": {
   "display_name": "Python 3.9.12 ('base')",
   "language": "python",
   "name": "python3"
  },
  "language_info": {
   "codemirror_mode": {
    "name": "ipython",
    "version": 3
   },
   "file_extension": ".py",
   "mimetype": "text/x-python",
   "name": "python",
   "nbconvert_exporter": "python",
   "pygments_lexer": "ipython3",
   "version": "3.9.12"
  },
  "vscode": {
   "interpreter": {
    "hash": "27ed82d22a0c4cc20030a847cbf89a515e5900b7bf91bed35596f3292196ba0f"
   }
  }
 },
 "nbformat": 4,
 "nbformat_minor": 5
}
