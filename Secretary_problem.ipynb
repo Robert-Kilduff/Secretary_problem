{
 "cells": [
  {
   "cell_type": "code",
   "execution_count": 1,
   "id": "5794bf6d-9cad-4887-93b2-c0c1c06e04ac",
   "metadata": {},
   "outputs": [],
   "source": [
    "#37% rule\n",
    "#This algorithm is set to solve the secretary problem.\n",
    "#this is a subset of problems concerned with 'which is the best place to stop' \n",
    "# \"Imagine you are interviewing a set of applicants for a position as secretary,and your goal is to maximise the chance of hiring the single best applicant from the pool.\n",
    "# the rules are simple, we cannot know what qualifies someone as best, only a numerical rank relative to others. At any time we can give an offer to the current applicant and they are guaranteed to accept, ending the search, additionally, any applicants who are passed over, cannot be offered."
   ]
  },
  {
   "cell_type": "code",
   "execution_count": 2,
   "id": "3a77b1f7-957f-4358-9178-2faa85924ff1",
   "metadata": {},
   "outputs": [],
   "source": [
    "#we will perform a few strategies before fitting the most optimal, named the 'look then leap' strategy\n",
    "#First we should set up our data."
   ]
  },
  {
   "cell_type": "code",
   "execution_count": 3,
   "id": "cfebbaa1-758b-4065-a473-72a53ab0f27a",
   "metadata": {},
   "outputs": [],
   "source": [
    "#here is our list of applicants, with a name and a rank."
   ]
  },
  {
   "cell_type": "code",
   "execution_count": 4,
   "id": "439f62f0-9151-4fed-a8bd-5e85a858f65f",
   "metadata": {},
   "outputs": [],
   "source": [
    "import numpy as np\n",
    "import names as ns\n",
    "import random\n",
    "import pandas as pd"
   ]
  },
  {
   "cell_type": "code",
   "execution_count": 5,
   "id": "918432ae-6e45-4fd3-a7e2-cd86915eb27f",
   "metadata": {},
   "outputs": [],
   "source": [
    "lst = list(np.arange(1,101))"
   ]
  },
  {
   "cell_type": "code",
   "execution_count": 6,
   "id": "6b9b2fe8-9849-4062-8dd8-c07186a3e489",
   "metadata": {},
   "outputs": [],
   "source": [
    "random.shuffle(lst)"
   ]
  },
  {
   "cell_type": "code",
   "execution_count": 7,
   "id": "03209231-a40c-4c6c-9c74-a9eba26795f0",
   "metadata": {},
   "outputs": [],
   "source": [
    "apps = []\n",
    "for i in range(0, 100):\n",
    "    apps.append(ns.get_full_name())"
   ]
  },
  {
   "cell_type": "code",
   "execution_count": 8,
   "id": "88dd14e6-bbde-4a55-9b7d-6fd5dfea8804",
   "metadata": {},
   "outputs": [],
   "source": [
    "df = pd.DataFrame({\"Name\": apps, \"Rank\": lst, \"Known Rating\": [None]*100})"
   ]
  },
  {
   "cell_type": "code",
   "execution_count": 9,
   "id": "eef7ab07-e3ef-4917-a116-d76527f6891d",
   "metadata": {},
   "outputs": [
    {
     "data": {
      "text/html": [
       "<div>\n",
       "<style scoped>\n",
       "    .dataframe tbody tr th:only-of-type {\n",
       "        vertical-align: middle;\n",
       "    }\n",
       "\n",
       "    .dataframe tbody tr th {\n",
       "        vertical-align: top;\n",
       "    }\n",
       "\n",
       "    .dataframe thead th {\n",
       "        text-align: right;\n",
       "    }\n",
       "</style>\n",
       "<table border=\"1\" class=\"dataframe\">\n",
       "  <thead>\n",
       "    <tr style=\"text-align: right;\">\n",
       "      <th></th>\n",
       "      <th>Name</th>\n",
       "      <th>Rank</th>\n",
       "      <th>Known Rating</th>\n",
       "    </tr>\n",
       "  </thead>\n",
       "  <tbody>\n",
       "    <tr>\n",
       "      <th>0</th>\n",
       "      <td>Wilber Walters</td>\n",
       "      <td>46</td>\n",
       "      <td>None</td>\n",
       "    </tr>\n",
       "    <tr>\n",
       "      <th>1</th>\n",
       "      <td>Lisa Moberly</td>\n",
       "      <td>7</td>\n",
       "      <td>None</td>\n",
       "    </tr>\n",
       "    <tr>\n",
       "      <th>2</th>\n",
       "      <td>Kelly Waite</td>\n",
       "      <td>79</td>\n",
       "      <td>None</td>\n",
       "    </tr>\n",
       "    <tr>\n",
       "      <th>3</th>\n",
       "      <td>Joaquin Jewell</td>\n",
       "      <td>85</td>\n",
       "      <td>None</td>\n",
       "    </tr>\n",
       "    <tr>\n",
       "      <th>4</th>\n",
       "      <td>Lisa Kelly</td>\n",
       "      <td>92</td>\n",
       "      <td>None</td>\n",
       "    </tr>\n",
       "    <tr>\n",
       "      <th>...</th>\n",
       "      <td>...</td>\n",
       "      <td>...</td>\n",
       "      <td>...</td>\n",
       "    </tr>\n",
       "    <tr>\n",
       "      <th>95</th>\n",
       "      <td>James Gray</td>\n",
       "      <td>58</td>\n",
       "      <td>None</td>\n",
       "    </tr>\n",
       "    <tr>\n",
       "      <th>96</th>\n",
       "      <td>Carmela Fraser</td>\n",
       "      <td>55</td>\n",
       "      <td>None</td>\n",
       "    </tr>\n",
       "    <tr>\n",
       "      <th>97</th>\n",
       "      <td>David Schuck</td>\n",
       "      <td>56</td>\n",
       "      <td>None</td>\n",
       "    </tr>\n",
       "    <tr>\n",
       "      <th>98</th>\n",
       "      <td>Dorothy Veronesi</td>\n",
       "      <td>90</td>\n",
       "      <td>None</td>\n",
       "    </tr>\n",
       "    <tr>\n",
       "      <th>99</th>\n",
       "      <td>Alberto Bradham</td>\n",
       "      <td>97</td>\n",
       "      <td>None</td>\n",
       "    </tr>\n",
       "  </tbody>\n",
       "</table>\n",
       "<p>100 rows × 3 columns</p>\n",
       "</div>"
      ],
      "text/plain": [
       "                Name  Rank Known Rating\n",
       "0     Wilber Walters    46         None\n",
       "1       Lisa Moberly     7         None\n",
       "2        Kelly Waite    79         None\n",
       "3     Joaquin Jewell    85         None\n",
       "4         Lisa Kelly    92         None\n",
       "..               ...   ...          ...\n",
       "95        James Gray    58         None\n",
       "96    Carmela Fraser    55         None\n",
       "97      David Schuck    56         None\n",
       "98  Dorothy Veronesi    90         None\n",
       "99   Alberto Bradham    97         None\n",
       "\n",
       "[100 rows x 3 columns]"
      ]
     },
     "execution_count": 9,
     "metadata": {},
     "output_type": "execute_result"
    }
   ],
   "source": [
    "df"
   ]
  },
  {
   "cell_type": "code",
   "execution_count": 90,
   "id": "e9d17e1b-fcb9-422a-b0d7-9b8b37fe36c7",
   "metadata": {},
   "outputs": [],
   "source": [
    "#With our applicants and their scores we are almost ready to go, because we do not have perfect knowledge, we need to obscure their rank, such that we only know how they compare versus those who have came before."
   ]
  },
  {
   "cell_type": "code",
   "execution_count": 1,
   "id": "c9ec0507-4967-447d-8f44-828bd356abca",
   "metadata": {},
   "outputs": [],
   "source": [
    "#We are going to turn our dict into a dataframe, and add an additional column, this column will contain a list of bools, stating whether the applicant is better or worse than each who came before."
   ]
  },
  {
   "cell_type": "code",
   "execution_count": null,
   "id": "430b6723-7a8b-4a24-8e37-43b834d2e24b",
   "metadata": {},
   "outputs": [],
   "source": [
    "#Strat 1, 'Best Yet'. In this strategy we are going to "
   ]
  }
 ],
 "metadata": {
  "kernelspec": {
   "display_name": "Python 3 (ipykernel)",
   "language": "python",
   "name": "python3"
  },
  "language_info": {
   "codemirror_mode": {
    "name": "ipython",
    "version": 3
   },
   "file_extension": ".py",
   "mimetype": "text/x-python",
   "name": "python",
   "nbconvert_exporter": "python",
   "pygments_lexer": "ipython3",
   "version": "3.9.12"
  }
 },
 "nbformat": 4,
 "nbformat_minor": 5
}
