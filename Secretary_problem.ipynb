{
 "cells": [
  {
   "cell_type": "code",
   "execution_count": 2,
   "id": "5794bf6d-9cad-4887-93b2-c0c1c06e04ac",
   "metadata": {},
   "outputs": [],
   "source": [
    "#37% rule\n",
    "#This algorithm is set to solve the secretary problem.\n",
    "#this is a subset of problems concerned with 'which is the best place to stop' \n",
    "# \"Imagine you are interviewing a set of applicants for a position as secretary,and your goal is to maximise the chance of hiring the single best applicant from the pool.\n",
    "# the rules are simple, we cannot know what qualifies someone as best, only a numerical rank relative to others. At any time we can give an offer to the current applicant and they are guaranteed to accept, ending the search, additionally, any applicants who are passed over, cannot be offered."
   ]
  },
  {
   "cell_type": "code",
   "execution_count": 3,
   "id": "3a77b1f7-957f-4358-9178-2faa85924ff1",
   "metadata": {},
   "outputs": [],
   "source": [
    "#we will perform a few strategies before fitting the most optimal, named the 'look then leap' strategy\n",
    "#First we should set up our data."
   ]
  },
  {
   "cell_type": "code",
   "execution_count": 4,
   "id": "cfebbaa1-758b-4065-a473-72a53ab0f27a",
   "metadata": {},
   "outputs": [],
   "source": [
    "#here is our list of applicants, with a name and a rank."
   ]
  },
  {
   "cell_type": "code",
   "execution_count": 88,
   "id": "439f62f0-9151-4fed-a8bd-5e85a858f65f",
   "metadata": {},
   "outputs": [],
   "source": [
    "import numpy as np\n",
    "import names as ns\n",
    "import random\n",
    "import pandas as pd\n",
    "import Strategies as stg\n"
   ]
  },
  {
   "cell_type": "code",
   "execution_count": 90,
   "id": "056db7f9",
   "metadata": {},
   "outputs": [
    {
     "ename": "NameError",
     "evalue": "name 'np' is not defined",
     "output_type": "error",
     "traceback": [
      "\u001b[1;31m---------------------------------------------------------------------------\u001b[0m",
      "\u001b[1;31mNameError\u001b[0m                                 Traceback (most recent call last)",
      "\u001b[1;32mc:\\Users\\Robki\\OneDrive\\Documents\\GitHub\\Secretary_problem\\Secretary_problem.ipynb Cell 5'\u001b[0m in \u001b[0;36m<cell line: 2>\u001b[1;34m()\u001b[0m\n\u001b[0;32m      <a href='vscode-notebook-cell:/c%3A/Users/Robki/OneDrive/Documents/GitHub/Secretary_problem/Secretary_problem.ipynb#ch0000018?line=0'>1</a>\u001b[0m best_of_three_winners \u001b[39m=\u001b[39m []\n\u001b[0;32m      <a href='vscode-notebook-cell:/c%3A/Users/Robki/OneDrive/Documents/GitHub/Secretary_problem/Secretary_problem.ipynb#ch0000018?line=1'>2</a>\u001b[0m \u001b[39mfor\u001b[39;00m i \u001b[39min\u001b[39;00m \u001b[39mrange\u001b[39m(\u001b[39m0\u001b[39m,\u001b[39m999\u001b[39m):\n\u001b[1;32m----> <a href='vscode-notebook-cell:/c%3A/Users/Robki/OneDrive/Documents/GitHub/Secretary_problem/Secretary_problem.ipynb#ch0000018?line=2'>3</a>\u001b[0m     x \u001b[39m=\u001b[39m stg\u001b[39m.\u001b[39;49mbest_of_three()\n\u001b[0;32m      <a href='vscode-notebook-cell:/c%3A/Users/Robki/OneDrive/Documents/GitHub/Secretary_problem/Secretary_problem.ipynb#ch0000018?line=3'>4</a>\u001b[0m     best_of_three_winners\u001b[39m.\u001b[39mappend(x)\n",
      "File \u001b[1;32mc:\\Users\\Robki\\OneDrive\\Documents\\GitHub\\Secretary_problem\\Strategies.py:2\u001b[0m, in \u001b[0;36mbest_of_three\u001b[1;34m()\u001b[0m\n\u001b[0;32m      1\u001b[0m \u001b[39mdef\u001b[39;00m \u001b[39mbest_of_three\u001b[39m():\n\u001b[1;32m----> 2\u001b[0m     lst \u001b[39m=\u001b[39m \u001b[39mlist\u001b[39m(np\u001b[39m.\u001b[39marange(\u001b[39m1\u001b[39m,\u001b[39m101\u001b[39m))\n\u001b[0;32m      3\u001b[0m     random\u001b[39m.\u001b[39mshuffle(lst)\n\u001b[0;32m      4\u001b[0m     apps \u001b[39m=\u001b[39m []\n",
      "\u001b[1;31mNameError\u001b[0m: name 'np' is not defined"
     ]
    }
   ],
   "source": [
    "best_of_three_winners = []\n",
    "for i in range(0,999):\n",
    "    x = stg.best_of_three()\n",
    "    best_of_three_winners.append(x)"
   ]
  },
  {
   "cell_type": "code",
   "execution_count": 91,
   "id": "e9d17e1b-fcb9-422a-b0d7-9b8b37fe36c7",
   "metadata": {},
   "outputs": [],
   "source": [
    "#With our applicants and their scores we are almost ready to go, because we do not have perfect knowledge, we need to obscure their rank, such that we only know how they compare versus those who have came before."
   ]
  },
  {
   "cell_type": "code",
   "execution_count": 92,
   "id": "c9ec0507-4967-447d-8f44-828bd356abca",
   "metadata": {},
   "outputs": [],
   "source": [
    "#We are going to turn our dict into a dataframe, and add an additional column, this column will contain a list of bools, stating whether the applicant is better or worse than each who came before."
   ]
  },
  {
   "cell_type": "code",
   "execution_count": 93,
   "id": "430b6723-7a8b-4a24-8e37-43b834d2e24b",
   "metadata": {},
   "outputs": [],
   "source": [
    "#Strat 1, 'Best Yet'. In this strategy we are going to "
   ]
  },
  {
   "cell_type": "code",
   "execution_count": null,
   "id": "46ce8e7a",
   "metadata": {},
   "outputs": [],
   "source": []
  }
 ],
 "metadata": {
  "kernelspec": {
   "display_name": "Python 3.9.12 ('base')",
   "language": "python",
   "name": "python3"
  },
  "language_info": {
   "codemirror_mode": {
    "name": "ipython",
    "version": 3
   },
   "file_extension": ".py",
   "mimetype": "text/x-python",
   "name": "python",
   "nbconvert_exporter": "python",
   "pygments_lexer": "ipython3",
   "version": "3.9.12"
  },
  "vscode": {
   "interpreter": {
    "hash": "27ed82d22a0c4cc20030a847cbf89a515e5900b7bf91bed35596f3292196ba0f"
   }
  }
 },
 "nbformat": 4,
 "nbformat_minor": 5
}
