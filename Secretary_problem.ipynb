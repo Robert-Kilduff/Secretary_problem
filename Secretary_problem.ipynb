{
 "cells": [
  {
   "cell_type": "code",
   "execution_count": 3,
   "id": "5794bf6d-9cad-4887-93b2-c0c1c06e04ac",
   "metadata": {},
   "outputs": [],
   "source": [
    "#37% rule\n",
    "#This algorithm is set to solve the secretary problem.\n",
    "#this is a subset of problems concerned with 'which is the best place to stop' \n",
    "# \"Imagine you are interviewing a set of applicants for a position as secretary,and your goal is to maximise the chance of hiring the single best applicant from the pool.\n",
    "# the rules are simple, we cannot know what qualifies someone as best, only a numerical rank relative to others. At any time we can give an offer to the current applicant and they are guaranteed to accept, ending the search, additionally, any applicants who are passed over, cannot be offered."
   ]
  },
  {
   "cell_type": "code",
   "execution_count": 4,
   "id": "3a77b1f7-957f-4358-9178-2faa85924ff1",
   "metadata": {},
   "outputs": [],
   "source": [
    "#we will perform a few strategies before fitting the most optimal, named the 'look then leap' strategy\n",
    "#First we should set up our data."
   ]
  },
  {
   "cell_type": "code",
   "execution_count": 5,
   "id": "cfebbaa1-758b-4065-a473-72a53ab0f27a",
   "metadata": {},
   "outputs": [],
   "source": [
    "#here is our list of applicants, with a name and a rank."
   ]
  },
  {
   "cell_type": "code",
   "execution_count": 1,
   "id": "439f62f0-9151-4fed-a8bd-5e85a858f65f",
   "metadata": {},
   "outputs": [],
   "source": [
    "import numpy as np\n",
    "import names as ns\n",
    "import random\n",
    "import pandas as pd\n",
    "import Strategies as stg\n",
    "import matplotlib as mp\n",
    "from matplotlib import pyplot as plt\n",
    "import json"
   ]
  },
  {
   "cell_type": "code",
   "execution_count": 18,
   "id": "116da16e",
   "metadata": {},
   "outputs": [],
   "source": [
    "def report(strat_list):\n",
    "    plt.hist(strat_list, density=True, bins = 100)\n",
    "    best_rank = min(strat_list)\n",
    "    print(\"Frequency of best result:\", round((strat_list.count(1)/len(strat_list)*100), 2))"
   ]
  },
  {
   "cell_type": "code",
   "execution_count": 3,
   "id": "056db7f9",
   "metadata": {},
   "outputs": [],
   "source": [
    "best_of_three_winners = []\n",
    "for i in range(0,999):\n",
    "    try:\n",
    "        x = stg.best_of_three()\n",
    "        best_of_three_winners.append(x)\n",
    "    except:\n",
    "        pass"
   ]
  },
  {
   "cell_type": "code",
   "execution_count": 5,
   "id": "51e6a404",
   "metadata": {},
   "outputs": [],
   "source": [
    "best_of_two_winners = []\n",
    "for i in range(0,999):\n",
    "    try:\n",
    "        x = stg.best_of_two()\n",
    "        best_of_two_winners.append(x)\n",
    "    except:\n",
    "        pass\n"
   ]
  },
  {
   "cell_type": "code",
   "execution_count": 10,
   "id": "090bb3c9",
   "metadata": {},
   "outputs": [
    {
     "name": "stdout",
     "output_type": "stream",
     "text": [
      "Frequency of best result: 14.99\n"
     ]
    },
    {
     "data": {
      "image/png": "[encoded data removed]",
      "text/plain": [
       "<Figure size 432x288 with 1 Axes>"
      ]
     },
     "metadata": {
      "needs_background": "light"
     },
     "output_type": "display_data"
    }
   ],
   "source": [
    "report(best_of_two_winners)"
   ]
  },
  {
   "cell_type": "code",
   "execution_count": 12,
   "id": "768ac4b1",
   "metadata": {},
   "outputs": [
    {
     "name": "stdout",
     "output_type": "stream",
     "text": [
      "Frequency of best result: 22.68\n"
     ]
    },
    {
     "data": {
      "image/png": "[encoded data removed]",
      "text/plain": [
       "<Figure size 432x288 with 1 Axes>"
      ]
     },
     "metadata": {
      "needs_background": "light"
     },
     "output_type": "display_data"
    }
   ],
   "source": [
    "report(best_of_three_winners)"
   ]
  },
  {
   "cell_type": "code",
   "execution_count": 3,
   "id": "a724a1bc",
   "metadata": {},
   "outputs": [],
   "source": [
    "best_of_leap_winners = []\n",
    "for i in range(0,999):\n",
    "    try:\n",
    "        x = stg.look_leap(37, 100)\n",
    "        best_of_leap_winners.append(x)\n",
    "    except:\n",
    "        pass"
   ]
  },
  {
   "cell_type": "code",
   "execution_count": 4,
   "id": "e8a0f23b",
   "metadata": {},
   "outputs": [
    {
     "name": "stdout",
     "output_type": "stream",
     "text": [
      "Frequency of best result: 36.9\n"
     ]
    },
    {
     "data": {
      "image/png": "[encoded data removed]",
      "text/plain": [
       "<Figure size 432x288 with 1 Axes>"
      ]
     },
     "metadata": {
      "needs_background": "light"
     },
     "output_type": "display_data"
    }
   ],
   "source": [
    "report(best_of_leap_winners)"
   ]
  },
  {
   "cell_type": "code",
   "execution_count": 3,
   "id": "ee026e3c",
   "metadata": {},
   "outputs": [],
   "source": [
    "#graph to show the probability of the nth candidate being the best\n",
    "def pcbest(n, list):\n",
    "    pc = (1/len(list[:(list.index(n)+1)]))*100\n",
    "    return pc\n"
   ]
  },
  {
   "cell_type": "code",
   "execution_count": 13,
   "id": "9cfd2d7c",
   "metadata": {},
   "outputs": [],
   "source": [
    "range1 = range(0,100)"
   ]
  },
  {
   "cell_type": "code",
   "execution_count": 14,
   "id": "a40d6a6e",
   "metadata": {},
   "outputs": [],
   "source": [
    "lst1 = list(range1)"
   ]
  },
  {
   "cell_type": "code",
   "execution_count": 3,
   "id": "75b9dcd3",
   "metadata": {},
   "outputs": [],
   "source": [
    "percentages = []"
   ]
  },
  {
   "cell_type": "code",
   "execution_count": 6,
   "id": "4829c3a6",
   "metadata": {},
   "outputs": [],
   "source": [
    "for i in range(1,101):\n",
    "    result = pcbest(i,lst1)\n",
    "    percentages.append(result)"
   ]
  },
  {
   "cell_type": "code",
   "execution_count": 12,
   "id": "53c58c07",
   "metadata": {},
   "outputs": [
    {
     "data": {
      "text/plain": [
       "Text(0.5, 1.0, 'Raw % chance of being the best applicant seen so far')"
      ]
     },
     "execution_count": 12,
     "metadata": {},
     "output_type": "execute_result"
    },
    {
     "data": {
      "image/png": "[encoded data removed]",
      "text/plain": [
       "<Figure size 432x288 with 1 Axes>"
      ]
     },
     "metadata": {
      "needs_background": "light"
     },
     "output_type": "display_data"
    }
   ],
   "source": [
    "plt.plot(percentages)\n",
    "plt.xlabel(\"Applicant Interviewed\")\n",
    "plt.ylabel(\"% chance\")\n",
    "plt.title(\"Raw % chance of being the best applicant seen so far\")"
   ]
  },
  {
   "cell_type": "code",
   "execution_count": 19,
   "id": "99275c3b",
   "metadata": {},
   "outputs": [],
   "source": [
    "def success_finder(func, max_passes, steps, stop):\n",
    "    success_list = []\n",
    "    success_finder.passes = list(range(steps,max_passes+steps, steps)) # create a list with a range between 0 and the max_nr stated, incrementing in steps of 'steps' passed from func\n",
    "    for a in success_finder.passes:\n",
    "        if a > 0:\n",
    "            results = []\n",
    "            for y in range(0,100): #do below 100 times\n",
    "                z = func(stop = stop, list_len = a)\n",
    "                results.append(z)\n",
    "\n",
    "            \n",
    "            success_list.append(results)\n",
    "        else:\n",
    "            pass\n",
    "    print(\"finish at pass, iteration\", a, y)\n",
    "    return success_list\n",
    "\n",
    "\n",
    "\n",
    "    "
   ]
  },
  {
   "cell_type": "code",
   "execution_count": 21,
   "id": "979f5ef5",
   "metadata": {},
   "outputs": [
    {
     "name": "stdout",
     "output_type": "stream",
     "text": [
      "finish at pass, iteration 10000 99\n"
     ]
    }
   ],
   "source": [
    "success_rate_leap = success_finder(stg.look_leap, max_passes= 10000, steps = 100, stop= 37)\n"
   ]
  },
  {
   "cell_type": "code",
   "execution_count": null,
   "id": "be3eb991",
   "metadata": {},
   "outputs": [],
   "source": [
    "\n",
    "with open('test_data.txt', 'w') as f:\n",
    "    f.write(json.dumps(success_rate_leap))"
   ]
  },
  {
   "cell_type": "code",
   "execution_count": 22,
   "id": "7fbb5fbf",
   "metadata": {},
   "outputs": [],
   "source": [
    "d = dict(zip(success_finder.passes, success_rate_leap))\n"
   ]
  },
  {
   "cell_type": "code",
   "execution_count": 23,
   "id": "ab2a1c4b",
   "metadata": {},
   "outputs": [],
   "source": [
    "df = pd.DataFrame(d)"
   ]
  },
  {
   "cell_type": "code",
   "execution_count": 24,
   "id": "fe75e81a",
   "metadata": {},
   "outputs": [],
   "source": [
    "pc_dict = {}\n",
    "for i in df:\n",
    "    pc_dict[str(i)] = (df[i] == 0).sum()\n",
    "\n",
    "    "
   ]
  },
  {
   "cell_type": "code",
   "execution_count": 25,
   "id": "c1b69102",
   "metadata": {},
   "outputs": [
    {
     "data": {
      "image/png": "[encoded data removed]",
      "text/plain": [
       "<Figure size 432x288 with 1 Axes>"
      ]
     },
     "metadata": {
      "needs_background": "light"
     },
     "output_type": "display_data"
    }
   ],
   "source": [
    "names = list(pc_dict.keys())\n",
    "values = list(pc_dict.values())\n",
    "\n",
    "plt.bar(range(len(pc_dict)), values, tick_label=names)\n",
    "plt.xlabel(\"Nr of Applicants\")\n",
    "plt.ylabel(\"% best applicant chosen\")\n",
    "plt.title(\"Success rates against applicant pool\")\n",
    "plt.show()"
   ]
  },
  {
   "cell_type": "code",
   "execution_count": 26,
   "id": "d6c564d0",
   "metadata": {},
   "outputs": [],
   "source": [
    "#-------------"
   ]
  },
  {
   "cell_type": "code",
   "execution_count": 3,
   "id": "7cffb580",
   "metadata": {},
   "outputs": [
    {
     "name": "stdout",
     "output_type": "stream",
     "text": [
      "Dash is running on http://127.0.0.1:8051/\n",
      "\n",
      " * Serving Flask app '__main__' (lazy loading)\n",
      " * Environment: production\n",
      "\u001b[31m   WARNING: This is a development server. Do not use it in a production deployment.\u001b[0m\n",
      "\u001b[2m   Use a production WSGI server instead.\u001b[0m\n",
      " * Debug mode: off\n"
     ]
    },
    {
     "name": "stderr",
     "output_type": "stream",
     "text": [
      " * Running on http://127.0.0.1:8051/ (Press CTRL+C to quit)\n",
      "127.0.0.1 - - [01/Aug/2022 11:38:39] \"GET / HTTP/1.1\" 200 -\n",
      "127.0.0.1 - - [01/Aug/2022 11:38:39] \"GET /_dash-component-suites/dash/deps/prop-types@15.v2_0_0m1634292277.7.2.min.js HTTP/1.1\" 200 -\n",
      "127.0.0.1 - - [01/Aug/2022 11:38:39] \"GET /_dash-component-suites/dash/deps/react-dom@16.v2_0_0m1634292277.14.0.min.js HTTP/1.1\" 200 -\n",
      "127.0.0.1 - - [01/Aug/2022 11:38:39] \"GET /_dash-component-suites/dash/deps/react@16.v2_0_0m1634292277.14.0.min.js HTTP/1.1\" 200 -\n",
      "127.0.0.1 - - [01/Aug/2022 11:38:39] \"GET /_dash-component-suites/dash/deps/polyfill@7.v2_0_0m1634292277.12.1.min.js HTTP/1.1\" 200 -\n",
      "127.0.0.1 - - [01/Aug/2022 11:38:39] \"GET /_dash-component-suites/dash/dash-renderer/build/dash_renderer.v2_0_0m1634292276.min.js HTTP/1.1\" 200 -\n",
      "127.0.0.1 - - [01/Aug/2022 11:38:39] \"GET /_dash-component-suites/dash_bootstrap_components/_components/dash_bootstrap_components.v1_2_1m1659345016.min.js HTTP/1.1\" 200 -\n",
      "127.0.0.1 - - [01/Aug/2022 11:38:39] \"GET /_dash-component-suites/dash/dcc/dash_core_components-shared.v2_0_0m1634292277.js HTTP/1.1\" 200 -\n",
      "127.0.0.1 - - [01/Aug/2022 11:38:39] \"GET /_dash-component-suites/dash/dcc/dash_core_components.v2_0_0m1634292277.js HTTP/1.1\" 200 -\n",
      "127.0.0.1 - - [01/Aug/2022 11:38:39] \"GET /_dash-component-suites/dash/dash_table/bundle.v5_0_0m1634292276.js HTTP/1.1\" 200 -\n",
      "127.0.0.1 - - [01/Aug/2022 11:38:39] \"GET /_dash-component-suites/dash/html/dash_html_components.v2_0_0m1634292277.min.js HTTP/1.1\" 200 -\n",
      "127.0.0.1 - - [01/Aug/2022 11:38:40] \"GET /_dash-layout HTTP/1.1\" 200 -\n",
      "127.0.0.1 - - [01/Aug/2022 11:38:40] \"GET /_dash-dependencies HTTP/1.1\" 200 -\n",
      "127.0.0.1 - - [01/Aug/2022 11:38:40] \"GET /_favicon.ico?v=2.0.0 HTTP/1.1\" 200 -\n",
      "127.0.0.1 - - [01/Aug/2022 11:38:40] \"GET /_dash-component-suites/dash/dcc/async-markdown.js HTTP/1.1\" 200 -\n",
      "127.0.0.1 - - [01/Aug/2022 11:38:40] \"GET /_dash-component-suites/dash/dcc/async-highlight.js HTTP/1.1\" 200 -\n"
     ]
    }
   ],
   "source": [
    "\n"
   ]
  },
  {
   "cell_type": "code",
   "execution_count": null,
   "id": "6f4c7628",
   "metadata": {},
   "outputs": [],
   "source": []
  }
 ],
 "metadata": {
  "kernelspec": {
   "display_name": "Python 3.9.7 64-bit ('.venv': venv)",
   "language": "python",
   "name": "python3"
  },
  "language_info": {
   "codemirror_mode": {
    "name": "ipython",
    "version": 3
   },
   "file_extension": ".py",
   "mimetype": "text/x-python",
   "name": "python",
   "nbconvert_exporter": "python",
   "pygments_lexer": "ipython3",
   "version": "3.9.13"
  },
  "vscode": {
   "interpreter": {
    "hash": "652c65d1737ca67b617477137b1248f1dc08dc4b36a2b440a5b445f9a93dfac7"
   }
  }
 },
 "nbformat": 4,
 "nbformat_minor": 5
}
