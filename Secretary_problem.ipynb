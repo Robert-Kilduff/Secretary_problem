{
 "cells": [
  {
   "cell_type": "code",
   "execution_count": 3,
   "id": "5794bf6d-9cad-4887-93b2-c0c1c06e04ac",
   "metadata": {},
   "outputs": [],
   "source": [
    "#37% rule\n",
    "#This algorithm is set to solve the secretary problem.\n",
    "#this is a subset of problems concerned with 'which is the best place to stop' \n",
    "# \"Imagine you are interviewing a set of applicants for a position as secretary,and your goal is to maximise the chance of hiring the single best applicant from the pool.\n",
    "# the rules are simple, we cannot know what qualifies someone as best, only a numerical rank relative to others. At any time we can give an offer to the current applicant and they are guaranteed to accept, ending the search, additionally, any applicants who are passed over, cannot be offered."
   ]
  },
  {
   "cell_type": "code",
   "execution_count": 4,
   "id": "3a77b1f7-957f-4358-9178-2faa85924ff1",
   "metadata": {},
   "outputs": [],
   "source": [
    "#we will perform a few strategies before fitting the most optimal, named the 'look then leap' strategy\n",
    "#First we should set up our data."
   ]
  },
  {
   "cell_type": "code",
   "execution_count": 5,
   "id": "cfebbaa1-758b-4065-a473-72a53ab0f27a",
   "metadata": {},
   "outputs": [],
   "source": [
    "#here is our list of applicants, with a name and a rank."
   ]
  },
  {
   "cell_type": "code",
   "execution_count": 1,
   "id": "439f62f0-9151-4fed-a8bd-5e85a858f65f",
   "metadata": {},
   "outputs": [],
   "source": [
    "import numpy as np\n",
    "import names as ns\n",
    "import random\n",
    "import pandas as pd\n",
    "import Strategies as stg\n",
    "import matplotlib as mp\n",
    "from matplotlib import pyplot as plt"
   ]
  },
  {
   "cell_type": "code",
   "execution_count": 2,
   "id": "116da16e",
   "metadata": {},
   "outputs": [],
   "source": [
    "def report(strat_list):\n",
    "    plt.hist(strat_list, density=True, bins = 100)\n",
    "    best_rank = min(strat_list)\n",
    "    print(\"Frequency of best result:\", round((strat_list.count(1)/len(strat_list)*100), 2))"
   ]
  },
  {
   "cell_type": "code",
   "execution_count": 11,
   "id": "056db7f9",
   "metadata": {},
   "outputs": [],
   "source": [
    "best_of_three_winners = []\n",
    "for i in range(0,999):\n",
    "    try:\n",
    "        x = stg.best_of_three()\n",
    "        best_of_three_winners.append(x)\n",
    "    except:\n",
    "        pass"
   ]
  },
  {
   "cell_type": "code",
   "execution_count": 5,
   "id": "51e6a404",
   "metadata": {},
   "outputs": [],
   "source": [
    "best_of_two_winners = []\n",
    "for i in range(0,999):\n",
    "    try:\n",
    "        x = stg.best_of_two()\n",
    "        best_of_two_winners.append(x)\n",
    "    except:\n",
    "        pass\n"
   ]
  },
  {
   "cell_type": "code",
   "execution_count": 10,
   "id": "090bb3c9",
   "metadata": {},
   "outputs": [
    {
     "name": "stdout",
     "output_type": "stream",
     "text": [
      "Frequency of best result: 14.99\n"
     ]
    },
    {
     "data": {
      "image/png": "[encoded data removed]",
      "text/plain": [
       "<Figure size 432x288 with 1 Axes>"
      ]
     },
     "metadata": {
      "needs_background": "light"
     },
     "output_type": "display_data"
    }
   ],
   "source": [
    "report(best_of_two_winners)"
   ]
  },
  {
   "cell_type": "code",
   "execution_count": 12,
   "id": "768ac4b1",
   "metadata": {},
   "outputs": [
    {
     "name": "stdout",
     "output_type": "stream",
     "text": [
      "Frequency of best result: 22.68\n"
     ]
    },
    {
     "data": {
      "image/png": "[encoded data removed]",
      "text/plain": [
       "<Figure size 432x288 with 1 Axes>"
      ]
     },
     "metadata": {
      "needs_background": "light"
     },
     "output_type": "display_data"
    }
   ],
   "source": [
    "report(best_of_three_winners)"
   ]
  },
  {
   "cell_type": "code",
   "execution_count": 3,
   "id": "a724a1bc",
   "metadata": {},
   "outputs": [],
   "source": [
    "best_of_leap_winners = []\n",
    "for i in range(0,999):\n",
    "    try:\n",
    "        x = stg.look_leap(37, 100)\n",
    "        best_of_leap_winners.append(x)\n",
    "    except:\n",
    "        pass"
   ]
  },
  {
   "cell_type": "code",
   "execution_count": 4,
   "id": "e8a0f23b",
   "metadata": {},
   "outputs": [
    {
     "name": "stdout",
     "output_type": "stream",
     "text": [
      "Frequency of best result: 36.9\n"
     ]
    },
    {
     "data": {
      "image/png": "[encoded data removed]",
      "text/plain": [
       "<Figure size 432x288 with 1 Axes>"
      ]
     },
     "metadata": {
      "needs_background": "light"
     },
     "output_type": "display_data"
    }
   ],
   "source": [
    "report(best_of_leap_winners)"
   ]
  },
  {
   "cell_type": "code",
   "execution_count": null,
   "id": "ee026e3c",
   "metadata": {},
   "outputs": [],
   "source": []
  }
 ],
 "metadata": {
  "kernelspec": {
   "display_name": "Python 3.9.12 ('base')",
   "language": "python",
   "name": "python3"
  },
  "language_info": {
   "codemirror_mode": {
    "name": "ipython",
    "version": 3
   },
   "file_extension": ".py",
   "mimetype": "text/x-python",
   "name": "python",
   "nbconvert_exporter": "python",
   "pygments_lexer": "ipython3",
   "version": "3.9.12"
  },
  "vscode": {
   "interpreter": {
    "hash": "27ed82d22a0c4cc20030a847cbf89a515e5900b7bf91bed35596f3292196ba0f"
   }
  }
 },
 "nbformat": 4,
 "nbformat_minor": 5
}
