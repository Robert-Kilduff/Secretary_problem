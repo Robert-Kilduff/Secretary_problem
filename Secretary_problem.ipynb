{
 "cells": [
  {
   "cell_type": "code",
   "execution_count": 1,
   "id": "5794bf6d-9cad-4887-93b2-c0c1c06e04ac",
   "metadata": {},
   "outputs": [],
   "source": [
    "#37% rule\n",
    "#This algorithm is set to solve the secretary problem.\n",
    "#this is a subset of problems concerned with 'which is the best place to stop' \n",
    "# \"Imagine you are interviewing a set of applicants for a position as secretary,and your goal is to maximise the chance of hiring the single best applicant from the pool.\n",
    "# the rules are simple, we cannot know what qualifies someone as best, only a numerical rank relative to others. At any time we can give an offer to the current applicant and they are guaranteed to accept, ending the search, additionally, any applicants who are passed over, cannot be offered."
   ]
  },
  {
   "cell_type": "code",
   "execution_count": 2,
   "id": "3a77b1f7-957f-4358-9178-2faa85924ff1",
   "metadata": {},
   "outputs": [],
   "source": [
    "#we will perform a few strategies before fitting the most optimal, named the 'look then leap' strategy\n",
    "#First we should set up our data."
   ]
  },
  {
   "cell_type": "code",
   "execution_count": 16,
   "id": "cfebbaa1-758b-4065-a473-72a53ab0f27a",
   "metadata": {},
   "outputs": [],
   "source": [
    "#here is our list of applicants, with a name and a rank."
   ]
  },
  {
   "cell_type": "code",
   "execution_count": 57,
   "id": "439f62f0-9151-4fed-a8bd-5e85a858f65f",
   "metadata": {},
   "outputs": [],
   "source": [
    "import numpy as np\n",
    "import names as ns\n",
    "import random"
   ]
  },
  {
   "cell_type": "code",
   "execution_count": 82,
   "id": "918432ae-6e45-4fd3-a7e2-cd86915eb27f",
   "metadata": {},
   "outputs": [],
   "source": [
    "lst = list(np.arange(1,101))"
   ]
  },
  {
   "cell_type": "code",
   "execution_count": 83,
   "id": "6b9b2fe8-9849-4062-8dd8-c07186a3e489",
   "metadata": {},
   "outputs": [],
   "source": [
    "random.shuffle(lst)"
   ]
  },
  {
   "cell_type": "code",
   "execution_count": 84,
   "id": "03209231-a40c-4c6c-9c74-a9eba26795f0",
   "metadata": {},
   "outputs": [],
   "source": [
    "apps = []\n",
    "for i in range(0, 100):\n",
    "    apps.append(ns.get_full_name())\n",
    "applicants = dict(zip(apps,lst))"
   ]
  },
  {
   "cell_type": "code",
   "execution_count": 90,
   "id": "e9d17e1b-fcb9-422a-b0d7-9b8b37fe36c7",
   "metadata": {},
   "outputs": [],
   "source": [
    "#With our applicants and their scores we are almost ready to go, because we do not have perfect knowledge, we need to obscure their rank, such that we only know how they compare versus those who have came before."
   ]
  },
  {
   "cell_type": "code",
   "execution_count": null,
   "id": "430b6723-7a8b-4a24-8e37-43b834d2e24b",
   "metadata": {},
   "outputs": [],
   "source": [
    "#Strat 1, 'Best Yet'. In this strategy we are going to "
   ]
  }
 ],
 "metadata": {
  "kernelspec": {
   "display_name": "Python 3 (ipykernel)",
   "language": "python",
   "name": "python3"
  },
  "language_info": {
   "codemirror_mode": {
    "name": "ipython",
    "version": 3
   },
   "file_extension": ".py",
   "mimetype": "text/x-python",
   "name": "python",
   "nbconvert_exporter": "python",
   "pygments_lexer": "ipython3",
   "version": "3.9.12"
  }
 },
 "nbformat": 4,
 "nbformat_minor": 5
}
